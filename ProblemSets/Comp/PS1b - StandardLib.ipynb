{
 "cells": [
  {
   "cell_type": "markdown",
   "metadata": {},
   "source": [
    "# Standard Library Problems\n"
   ]
  },
  {
   "cell_type": "markdown",
   "metadata": {},
   "source": [
    "# Problem 1"
   ]
  },
  {
   "cell_type": "markdown",
   "metadata": {},
   "source": [
    "Write a function that accepts a list L and returns the minimum, maximum, and\n",
    "average of the entries of L (in that order). Can you implement this function in a single line?"
   ]
  },
  {
   "cell_type": "code",
   "execution_count": null,
   "metadata": {},
   "outputs": [],
   "source": [
    "def sumvars( x ):\n",
    "    print(min(x), max(x), sum(x)/len(x))"
   ]
  },
  {
   "cell_type": "code",
   "execution_count": null,
   "metadata": {},
   "outputs": [],
   "source": [
    "L=[20, 25, 35]"
   ]
  },
  {
   "cell_type": "code",
   "execution_count": null,
   "metadata": {},
   "outputs": [],
   "source": [
    "sumvars(L)"
   ]
  },
  {
   "cell_type": "markdown",
   "metadata": {},
   "source": [
    "# Problem 2\n",
    "Determine which of Python’s object types are mutable and which are immutable\n",
    "by repeating the following experiment for an int, str, list, tuple, and set.\n",
    "1. Create an object of the given type and assign a name to it.\n",
    "2. Assign a new name to the first name.\n",
    "3. Alter the object via only one of the names (for tuples, use my_tuple += (1,)).\n",
    "4. Check to see if the two names are equal. If they are, then since changing one name\n",
    "changed the other, the names refer to the same object and the object type is mutable.\n",
    "Otherwise, the names refer to different objects—meaning a copy was made in step 2—and\n",
    "therefore the object type is immutable."
   ]
  },
  {
   "cell_type": "code",
   "execution_count": null,
   "metadata": {},
   "outputs": [],
   "source": [
    "dict_1={1: 'uta' , 2: 'mika'}\n",
    "dict_2=dict_1\n",
    "dict_2[1]='toki'"
   ]
  },
  {
   "cell_type": "code",
   "execution_count": null,
   "metadata": {},
   "outputs": [],
   "source": [
    "dict_2==dict_2 ##Hence dict is mutable"
   ]
  },
  {
   "cell_type": "code",
   "execution_count": null,
   "metadata": {},
   "outputs": [],
   "source": [
    "a=int(187.4434)\n",
    "b=a\n",
    "b=int(123.12312)\n",
    "b==a ## Hence int is immutable"
   ]
  },
  {
   "cell_type": "code",
   "execution_count": null,
   "metadata": {},
   "outputs": [],
   "source": [
    "a=str(10) \n",
    "b=a\n",
    "b=str(32)\n",
    "a==b ## str is immutable"
   ]
  },
  {
   "cell_type": "code",
   "execution_count": null,
   "metadata": {},
   "outputs": [],
   "source": [
    "a=[10, 123, 2534]\n",
    "b=a\n",
    "b[2]=23748\n",
    "a==b ## list is mutable"
   ]
  },
  {
   "cell_type": "code",
   "execution_count": null,
   "metadata": {},
   "outputs": [],
   "source": [
    "a = (1, 2, 3)\n",
    "b=a\n",
    "b += (1,)\n",
    "a==b ## immutable"
   ]
  },
  {
   "cell_type": "code",
   "execution_count": null,
   "metadata": {},
   "outputs": [],
   "source": [
    "a = set([\"a\", \"b\",\"c\"]) \n",
    "b=a\n",
    "b.add(2)\n",
    "a==b ## mutable"
   ]
  },
  {
   "cell_type": "markdown",
   "metadata": {},
   "source": [
    "# SOLUTION"
   ]
  },
  {
   "cell_type": "markdown",
   "metadata": {},
   "source": [
    "Mutable objects: dict, list, set\n",
    "\n",
    "\n",
    "Immutable objects: int, str, tuple"
   ]
  },
  {
   "cell_type": "markdown",
   "metadata": {},
   "source": [
    "# Problem 3\n"
   ]
  },
  {
   "cell_type": "markdown",
   "metadata": {},
   "source": [
    "Problem 3. Create a module called calculator.py. Write a function that returns the sum\n",
    "of two arguments and a function that returns the product of two arguments. Also use import\n",
    "to add the sqrt() function from the math module to the namespace. When this file is either\n",
    "run or imported, nothing should be executed.\n",
    "In your solutions file, import your new custom module. Write a function that accepts two\n",
    "numbers representing the lengths of the sides of a right triangle. Using only the functions from\n",
    "calculator.py, calculate and return the length of the hypotenuse of the triangle."
   ]
  },
  {
   "cell_type": "code",
   "execution_count": null,
   "metadata": {},
   "outputs": [],
   "source": [
    "run calculator.py"
   ]
  },
  {
   "cell_type": "code",
   "execution_count": null,
   "metadata": {},
   "outputs": [],
   "source": [
    "import calculator"
   ]
  },
  {
   "cell_type": "code",
   "execution_count": null,
   "metadata": {},
   "outputs": [],
   "source": [
    "def triang(a,b):\n",
    "    a2=a**2\n",
    "    b2=b**2\n",
    "    c=summation(a2,b2)\n",
    "    res=sqrt(c)\n",
    "    print(res)"
   ]
  },
  {
   "cell_type": "code",
   "execution_count": null,
   "metadata": {},
   "outputs": [],
   "source": [
    "triang(2,3)"
   ]
  },
  {
   "cell_type": "markdown",
   "metadata": {},
   "source": [
    "# Problem 4\n",
    "\n",
    "Write a function that accepts an iterable A. Use an itertools function to compute the\n",
    "power set of A as a list of sets (why couldn’t it be a set of sets in Python?)."
   ]
  },
  {
   "cell_type": "code",
   "execution_count": null,
   "metadata": {},
   "outputs": [],
   "source": [
    "import itertools"
   ]
  },
  {
   "cell_type": "code",
   "execution_count": null,
   "metadata": {},
   "outputs": [],
   "source": [
    "def power(x):\n",
    "    i=1\n",
    "    powerset=['']\n",
    "    while i<=len(x):  \n",
    "        a=list(combinations(x, i))     \n",
    "        powerset.append(a)\n",
    "        i=i+1\n",
    "    print(powerset)"
   ]
  },
  {
   "cell_type": "code",
   "execution_count": null,
   "metadata": {},
   "outputs": [],
   "source": [
    "power(\"abc\")"
   ]
  },
  {
   "cell_type": "markdown",
   "metadata": {},
   "source": [
    "Can't create set of sets because sets are mutable."
   ]
  },
  {
   "cell_type": "markdown",
   "metadata": {},
   "source": [
    "# Problem 5"
   ]
  },
  {
   "cell_type": "code",
   "execution_count": 1,
   "metadata": {},
   "outputs": [],
   "source": [
    "import box\n",
    "import time\n",
    "import sys"
   ]
  },
  {
   "cell_type": "code",
   "execution_count": 15,
   "metadata": {},
   "outputs": [],
   "source": [
    "def shutthebox(timelim):\n",
    "    import random\n",
    "    remaining=list(range(1,9))\n",
    "    timepassed=0\n",
    "    start = time.time()\n",
    "    i=1\n",
    "    while True: \n",
    "        \n",
    "        print(\"Remaining numbers:\",(remaining))\n",
    "        d1=random.randint(1, 6)\n",
    "        if sum(remaining)>6:            \n",
    "            d2=random.randint(1, 6)\n",
    "        else:\n",
    "            d2=0\n",
    "        rollsum=d1+d2\n",
    "        print(\"Sum of dices:\",(rollsum))\n",
    "        if box.isvalid(rollsum, remaining):\n",
    "            player_input = str(input(\"Choose numbers to eliminate:\"))\n",
    "            elim=box.parse_input(player_input, remaining)  \n",
    "            remaining.remove(elim[0])\n",
    "            if len(elim)==2:\n",
    "                remaining.remove(elim[1])\n",
    "            timepassed=time.time()-start\n",
    "            print(\"Time remaining:\",(timelim-timepassed))\n",
    "            i=i+1\n",
    "            if timepassed>timelim:\n",
    "                False\n",
    "                print(\"TIME UP\")\n",
    "                break\n",
    "            if len(remaining)==0:\n",
    "                False\n",
    "                print(\"YOU WON\")\n",
    "                break\n",
    "        else:\n",
    "            print(\"roll again!\")\n",
    "            \n",
    "    "
   ]
  },
  {
   "cell_type": "code",
   "execution_count": 16,
   "metadata": {},
   "outputs": [
    {
     "name": "stdout",
     "output_type": "stream",
     "text": [
      "Remaining numbers: [1, 2, 3, 4, 5, 6, 7, 8]\n",
      "Sum of dices: 11\n",
      "Choose numbers to eliminate:5 6\n",
      "Time remaining: 56.25550055503845\n",
      "Remaining numbers: [1, 2, 3, 4, 7, 8]\n",
      "Sum of dices: 3\n",
      "Choose numbers to eliminate:1 2\n",
      "Time remaining: 54.131158113479614\n",
      "Remaining numbers: [3, 4, 7, 8]\n",
      "Sum of dices: 4\n",
      "Choose numbers to eliminate:4\n",
      "Time remaining: 51.250863790512085\n",
      "Remaining numbers: [3, 7, 8]\n",
      "Sum of dices: 3\n",
      "Choose numbers to eliminate:3\n",
      "Time remaining: 48.698259353637695\n",
      "Remaining numbers: [7, 8]\n",
      "Sum of dices: 8\n",
      "Choose numbers to eliminate:8\n",
      "Time remaining: 46.74343299865723\n",
      "Remaining numbers: [7]\n",
      "Sum of dices: 8\n",
      "roll again!\n",
      "Remaining numbers: [7]\n",
      "Sum of dices: 12\n",
      "roll again!\n",
      "Remaining numbers: [7]\n",
      "Sum of dices: 8\n",
      "roll again!\n",
      "Remaining numbers: [7]\n",
      "Sum of dices: 9\n",
      "roll again!\n",
      "Remaining numbers: [7]\n",
      "Sum of dices: 9\n",
      "roll again!\n",
      "Remaining numbers: [7]\n",
      "Sum of dices: 4\n",
      "roll again!\n",
      "Remaining numbers: [7]\n",
      "Sum of dices: 7\n",
      "Choose numbers to eliminate:7\n",
      "Time remaining: 44.516483545303345\n",
      "YOU WON\n"
     ]
    }
   ],
   "source": [
    " shutthebox(60)"
   ]
  },
  {
   "cell_type": "code",
   "execution_count": null,
   "metadata": {},
   "outputs": [],
   "source": [
    "a=[]"
   ]
  },
  {
   "cell_type": "code",
   "execution_count": null,
   "metadata": {},
   "outputs": [],
   "source": [
    "len(a)"
   ]
  },
  {
   "cell_type": "code",
   "execution_count": null,
   "metadata": {},
   "outputs": [],
   "source": []
  }
 ],
 "metadata": {
  "kernelspec": {
   "display_name": "Python 3",
   "language": "python",
   "name": "python3"
  },
  "language_info": {
   "codemirror_mode": {
    "name": "ipython",
    "version": 3
   },
   "file_extension": ".py",
   "mimetype": "text/x-python",
   "name": "python",
   "nbconvert_exporter": "python",
   "pygments_lexer": "ipython3",
   "version": "3.7.3"
  }
 },
 "nbformat": 4,
 "nbformat_minor": 2
}
