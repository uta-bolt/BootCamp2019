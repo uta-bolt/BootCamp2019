{
 "cells": [
  {
   "cell_type": "markdown",
   "metadata": {},
   "source": [
    "# Question 1\n",
    "Do problem 1 from Pandas 2 lab.\n",
    "You will need to download the titanic.csv \f",
    "le, which is saved in the course\n",
    "repository."
   ]
  },
  {
   "cell_type": "code",
   "execution_count": 18,
   "metadata": {},
   "outputs": [
    {
     "name": "stdout",
     "output_type": "stream",
     "text": [
      "Collecting pydataset\n",
      "  Downloading https://files.pythonhosted.org/packages/4f/15/548792a1bb9caf6a3affd61c64d306b08c63c8a5a49e2c2d931b67ec2108/pydataset-0.2.0.tar.gz (15.9MB)\n",
      "Requirement already satisfied: pandas in c:\\users\\utabo\\appdata\\local\\continuum\\anaconda3\\lib\\site-packages (from pydataset) (0.24.2)\n",
      "Requirement already satisfied: python-dateutil>=2.5.0 in c:\\users\\utabo\\appdata\\local\\continuum\\anaconda3\\lib\\site-packages (from pandas->pydataset) (2.8.0)\n",
      "Requirement already satisfied: pytz>=2011k in c:\\users\\utabo\\appdata\\local\\continuum\\anaconda3\\lib\\site-packages (from pandas->pydataset) (2018.9)\n",
      "Requirement already satisfied: numpy>=1.12.0 in c:\\users\\utabo\\appdata\\local\\continuum\\anaconda3\\lib\\site-packages (from pandas->pydataset) (1.16.2)\n",
      "Requirement already satisfied: six>=1.5 in c:\\users\\utabo\\appdata\\local\\continuum\\anaconda3\\lib\\site-packages (from python-dateutil>=2.5.0->pandas->pydataset) (1.12.0)\n",
      "Building wheels for collected packages: pydataset\n",
      "  Building wheel for pydataset (setup.py): started\n",
      "  Building wheel for pydataset (setup.py): finished with status 'done'\n",
      "  Stored in directory: C:\\Users\\utabo\\AppData\\Local\\pip\\Cache\\wheels\\fe\\3f\\dc\\5d02ccc767317191b12d042dd920fcf3432fab74bc7978598b\n",
      "Successfully built pydataset\n",
      "Installing collected packages: pydataset\n",
      "Successfully installed pydataset-0.2.0\n",
      "Note: you may need to restart the kernel to use updated packages.\n"
     ]
    }
   ],
   "source": [
    "pip install pydataset"
   ]
  },
  {
   "cell_type": "code",
   "execution_count": 19,
   "metadata": {},
   "outputs": [
    {
     "name": "stdout",
     "output_type": "stream",
     "text": [
      "initiated datasets repo at: C:\\Users\\utabo\\.pydataset/\n"
     ]
    }
   ],
   "source": [
    "import pandas as pd\n",
    "from matplotlib import pyplot as plt\n",
    "from pydataset import data"
   ]
  },
  {
   "cell_type": "code",
   "execution_count": 20,
   "metadata": {},
   "outputs": [
    {
     "name": "stdout",
     "output_type": "stream",
     "text": [
      "titanic\n",
      "\n",
      "PyDataset Documentation (adopted from R Documentation. The displayed examples are in R)\n",
      "\n",
      "## titanic\n",
      "\n",
      "### Description\n",
      "\n",
      "The data is an observation-based version of the 1912 Titanic passenger\n",
      "survival log,\n",
      "\n",
      "### Usage\n",
      "\n",
      "    data(titanic)\n",
      "\n",
      "### Format\n",
      "\n",
      "A data frame with 1316 observations on the following 4 variables.\n",
      "\n",
      "`class`\n",
      "\n",
      "a factor with levels `1st class` `2nd class` `3rd class` `crew`\n",
      "\n",
      "`age`\n",
      "\n",
      "a factor with levels `child` `adults`\n",
      "\n",
      "`sex`\n",
      "\n",
      "a factor with levels `women` `man`\n",
      "\n",
      "`survived`\n",
      "\n",
      "a factor with levels `no` `yes`\n",
      "\n",
      "### Details\n",
      "\n",
      "titanic is saved as a data frame. Used to assess risk ratios\n",
      "\n",
      "### Source\n",
      "\n",
      "Found in many other texts\n",
      "\n",
      "### References\n",
      "\n",
      "Hilbe, Joseph M (2014), Modeling Count Data, Cambridge University Press Hilbe,\n",
      "Joseph M (2007, 2011), Negative Binomial Regression, Cambridge University\n",
      "Press Hilbe, Joseph M (2009), Logistic Regression Models, Chapman & Hall/CRC\n",
      "\n",
      "### Examples\n",
      "\n",
      "    data(titanic)\n",
      "    titanic$survival <- titanic$survived == \"yes\"\n",
      "    glmlr <- glm(survival ~ age + sex + factor(class), family=binomial, data=titanic)\n",
      "    summary(glmlr)\n",
      "\n",
      "\n"
     ]
    }
   ],
   "source": [
    "titanic=pd.read_csv('titanic.csv') \n",
    "data(\"titanic\", show_doc=True)"
   ]
  },
  {
   "cell_type": "code",
   "execution_count": 47,
   "metadata": {},
   "outputs": [
    {
     "data": {
      "text/plain": [
       "Text(0.5, 1.0, 'Distribution of classes on Titanic')"
      ]
     },
     "execution_count": 47,
     "metadata": {},
     "output_type": "execute_result"
    },
    {
     "data": {
      "image/png": "[encoded data removed]",
      "text/plain": [
       "<Figure size 432x288 with 1 Axes>"
      ]
     },
     "metadata": {
      "needs_background": "light"
     },
     "output_type": "display_data"
    }
   ],
   "source": [
    "titanic.plot(kind=\"hist\", y=[\"Pclass\"],xticks =(1,2,3))\n",
    "plt.xlabel(\"Class\")\n",
    "plt.ylabel(\"Frequency\")\n",
    "plt.title(\"Distribution of classes on Titanic\")\n"
   ]
  },
  {
   "cell_type": "code",
   "execution_count": 50,
   "metadata": {},
   "outputs": [
    {
     "name": "stdout",
     "output_type": "stream",
     "text": [
      "<class 'pandas.core.frame.DataFrame'>\n",
      "Int64Index: 927 entries, 1 to 927\n",
      "Data columns (total 10 columns):\n",
      "duration    927 non-null int64\n",
      "delta       927 non-null int64\n",
      "race        927 non-null int64\n",
      "poverty     927 non-null int64\n",
      "smoke       927 non-null int64\n",
      "alcohol     927 non-null int64\n",
      "agemth      927 non-null int64\n",
      "ybirth      927 non-null int64\n",
      "yschool     927 non-null int64\n",
      "pc3mth      927 non-null int64\n",
      "dtypes: int64(10)\n",
      "memory usage: 79.7 KB\n"
     ]
    }
   ],
   "source": [
    "bfeed = data(\"bfeed\")\n",
    "bfeed.info()"
   ]
  },
  {
   "cell_type": "code",
   "execution_count": 56,
   "metadata": {},
   "outputs": [
    {
     "data": {
      "text/plain": [
       "array([[<matplotlib.axes._subplots.AxesSubplot object at 0x0000024DAB42E160>,\n",
       "        <matplotlib.axes._subplots.AxesSubplot object at 0x0000024DA9449C88>],\n",
       "       [<matplotlib.axes._subplots.AxesSubplot object at 0x0000024DA92A9208>,\n",
       "        <matplotlib.axes._subplots.AxesSubplot object at 0x0000024DA92B0780>]],\n",
       "      dtype=object)"
      ]
     },
     "execution_count": 56,
     "metadata": {},
     "output_type": "execute_result"
    },
    {
     "data": {
      "image/png": "[encoded data removed]",
      "text/plain": [
       "<Figure size 432x288 with 4 Axes>"
      ]
     },
     "metadata": {
      "needs_background": "light"
     },
     "output_type": "display_data"
    }
   ],
   "source": [
    "bfeed[[\"smoke\",\"race\",\"ybirth\",\"agemth\"]].hist(grid=False, bins=20)"
   ]
  },
  {
   "cell_type": "code",
   "execution_count": 78,
   "metadata": {},
   "outputs": [
    {
     "data": {
      "text/plain": [
       "Text(16, 75, 'Source: Panda data set')"
      ]
     },
     "execution_count": 78,
     "metadata": {},
     "output_type": "execute_result"
    },
    {
     "data": {
      "text/plain": [
       "<Figure size 360x360 with 0 Axes>"
      ]
     },
     "metadata": {},
     "output_type": "display_data"
    },
    {
     "data": {
      "image/png": "[encoded data removed]",
      "text/plain": [
       "<Figure size 432x288 with 1 Axes>"
      ]
     },
     "metadata": {
      "needs_background": "light"
     },
     "output_type": "display_data"
    }
   ],
   "source": [
    "plt.figure(figsize=(5,5))\n",
    "bfeed.plot(kind=\"scatter\",x=\"agemth\", y=[\"ybirth\"])\n",
    "plt.title(\"Birth weight and maternal age\")\n",
    "plt.xlabel(\"age of mother\")\n",
    "plt.ylabel(\"birthweight\")\n",
    "plt.text(16, 75, r\"Source: Panda data set\", fontsize=12)"
   ]
  },
  {
   "cell_type": "code",
   "execution_count": 79,
   "metadata": {},
   "outputs": [
    {
     "data": {
      "text/plain": [
       "Text(0, 0.5, 'Breast feeding duration in months')"
      ]
     },
     "execution_count": 79,
     "metadata": {},
     "output_type": "execute_result"
    },
    {
     "data": {
      "image/png": "[encoded data removed]",
      "text/plain": [
       "<Figure size 432x288 with 1 Axes>"
      ]
     },
     "metadata": {
      "needs_background": "light"
     },
     "output_type": "display_data"
    }
   ],
   "source": [
    "bfeed.groupby(\"race\")['duration'].mean().plot(kind='bar')\n",
    "plt.title(\"Mean breast feeding duration by race\")\n",
    "plt.ylabel(\"Breast feeding duration in months\")"
   ]
  }
 ],
 "metadata": {
  "kernelspec": {
   "display_name": "Python 3",
   "language": "python",
   "name": "python3"
  },
  "language_info": {
   "codemirror_mode": {
    "name": "ipython",
    "version": 3
   },
   "file_extension": ".py",
   "mimetype": "text/x-python",
   "name": "python",
   "nbconvert_exporter": "python",
   "pygments_lexer": "ipython3",
   "version": "3.7.3"
  }
 },
 "nbformat": 4,
 "nbformat_minor": 2
}
