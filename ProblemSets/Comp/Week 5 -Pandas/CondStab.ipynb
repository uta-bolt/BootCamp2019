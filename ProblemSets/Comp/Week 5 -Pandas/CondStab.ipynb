{
 "cells": [
  {
   "cell_type": "code",
   "execution_count": 1,
   "metadata": {},
   "outputs": [],
   "source": [
    "import numpy as np\n",
    "import scipy\n",
    "from scipy import linalg as la\n",
    "import sympy as sy\n",
    "from matplotlib import pyplot as plt"
   ]
  },
  {
   "cell_type": "markdown",
   "metadata": {},
   "source": [
    "# Q1"
   ]
  },
  {
   "cell_type": "code",
   "execution_count": 6,
   "metadata": {},
   "outputs": [
    {
     "data": {
      "text/plain": [
       "39999991794.0589"
      ]
     },
     "execution_count": 6,
     "metadata": {},
     "output_type": "execute_result"
    }
   ],
   "source": [
    "A = np.array([[1, 1], [1, 1+1e-10]])\n",
    "np.linalg.cond(A) # Checking for condition number"
   ]
  },
  {
   "cell_type": "code",
   "execution_count": 33,
   "metadata": {},
   "outputs": [],
   "source": [
    "def cond(A):   \n",
    "    U, s, Vh =scipy.linalg.svd(A)    \n",
    "    cond=max(s)/min(s)\n",
    "    return cond"
   ]
  },
  {
   "cell_type": "code",
   "execution_count": 27,
   "metadata": {},
   "outputs": [],
   "source": [
    "B= np.array([[0, 1], [1, 0]])"
   ]
  },
  {
   "cell_type": "code",
   "execution_count": 28,
   "metadata": {},
   "outputs": [
    {
     "data": {
      "text/plain": [
       "1.0"
      ]
     },
     "execution_count": 28,
     "metadata": {},
     "output_type": "execute_result"
    }
   ],
   "source": [
    "cond(B)"
   ]
  },
  {
   "cell_type": "code",
   "execution_count": 29,
   "metadata": {},
   "outputs": [],
   "source": [
    "C= np.array([[0, 0], [0, 0]])"
   ]
  },
  {
   "cell_type": "code",
   "execution_count": 30,
   "metadata": {},
   "outputs": [
    {
     "name": "stderr",
     "output_type": "stream",
     "text": [
      "C:\\Users\\utabo\\AppData\\Local\\Continuum\\anaconda3\\lib\\site-packages\\ipykernel_launcher.py:3: RuntimeWarning: invalid value encountered in double_scalars\n",
      "  This is separate from the ipykernel package so we can avoid doing imports until\n"
     ]
    },
    {
     "data": {
      "text/plain": [
       "nan"
      ]
     },
     "execution_count": 30,
     "metadata": {},
     "output_type": "execute_result"
    }
   ],
   "source": [
    "cond(C)"
   ]
  },
  {
   "cell_type": "markdown",
   "metadata": {},
   "source": [
    "# Q 2"
   ]
  },
  {
   "cell_type": "code",
   "execution_count": 35,
   "metadata": {},
   "outputs": [],
   "source": [
    "w_roots = np.arange(1, 21)"
   ]
  },
  {
   "cell_type": "code",
   "execution_count": 37,
   "metadata": {},
   "outputs": [
    {
     "name": "stdout",
     "output_type": "stream",
     "text": [
      "[1 -210 20615 -1256850 53327946 -1672280820]\n"
     ]
    }
   ],
   "source": [
    "x, i = sy.symbols('x i')\n",
    "w = sy.poly_from_expr(sy.product(x-i, (i, 1, 20)))[0]\n",
    "w_coeffs = np.array(w.all_coeffs())\n",
    "print(w_coeffs[:6]) # These are the correct polynomials!"
   ]
  },
  {
   "cell_type": "code",
   "execution_count": 38,
   "metadata": {},
   "outputs": [
    {
     "name": "stdout",
     "output_type": "stream",
     "text": [
      "[1 -210.000000100000 20615 -1256850 53327946 -1672280820]\n"
     ]
    }
   ],
   "source": [
    "h = np.zeros(21)\n",
    "h[1]=1e-7\n",
    "new_coeffs = w_coeffs - h\n",
    "print(new_coeffs[:6]) #perturbation"
   ]
  },
  {
   "cell_type": "code",
   "execution_count": 41,
   "metadata": {},
   "outputs": [
    {
     "name": "stdout",
     "output_type": "stream",
     "text": [
      "[20.78883005+0.j         19.4596845 +1.87437534j 19.4596845 -1.87437534j\n",
      " 16.72515555+2.73162478j 16.72515555-2.73162478j 14.01136772+2.44967422j\n",
      " 14.01136772-2.44967422j 11.82164427+1.59965229j 11.82164427-1.59965229j\n",
      " 10.12126327+0.60484685j 10.12126327-0.60484685j  8.92663152+0.j\n",
      "  8.00662322+0.j          6.99967203+0.j          6.0000132 +0.j\n",
      "  4.99999945+0.j          4.00000002+0.j          3.        +0.j\n",
      "  2.        +0.j          1.        +0.j        ]\n"
     ]
    }
   ],
   "source": [
    "# Use NumPy to compute the roots of the perturbed polynomial.\n",
    "new_roots = np.roots(np.poly1d(new_coeffs)) \n",
    "print(new_roots) #completely different"
   ]
  },
  {
   "cell_type": "code",
   "execution_count": 43,
   "metadata": {},
   "outputs": [
    {
     "name": "stdout",
     "output_type": "stream",
     "text": [
      "28262385.815815903\n"
     ]
    }
   ],
   "source": [
    "# This is bad: Check the condition number\n",
    "w_roots = np.sort(w_roots)\n",
    "new_roots = np.sort(new_roots)\n",
    "# Estimate the absolute condition number in the infinity norm.\n",
    "k = la.norm(new_roots - w_roots, np.inf) / la.norm(h, np.inf)\n",
    "print(k)"
   ]
  },
  {
   "cell_type": "markdown",
   "metadata": {},
   "source": [
    "# Q5"
   ]
  },
  {
   "cell_type": "code",
   "execution_count": 185,
   "metadata": {},
   "outputs": [],
   "source": [
    "xk, yk = np.load(\"stability_data.npy\").T"
   ]
  },
  {
   "cell_type": "code",
   "execution_count": 10,
   "metadata": {},
   "outputs": [],
   "source": [
    "def polyno(n,xk,xy):\n",
    "    x=np.vander(xk, n+1)\n",
    "    #x=np.array([xk, xk2]).T\n",
    "    poly=la.inv(x.T@x) @ x.T@ yk\n",
    "    print(poly)\n",
    "    pred=np.dot(x,poly) \n",
    "    #A=np.hstack((x,yk))\n",
    "    q, r = la.qr(x,mode='economic')\n",
    "    coeff=la.solve_triangular(r,np.dot(q.T,yk))\n",
    "    print(coeff)\n",
    "    pred2=np.dot(x,coeff)   \n",
    "    forward_error = la.norm(poly- coeff)\n",
    "    return poly, pred, pred2,forward_error"
   ]
  },
  {
   "cell_type": "code",
   "execution_count": 187,
   "metadata": {},
   "outputs": [
    {
     "name": "stdout",
     "output_type": "stream",
     "text": [
      "[-7.49306018e+05  4.35050096e+06 -1.09656593e+07  1.57060010e+07\n",
      " -1.40368100e+07  8.07421677e+06 -2.96000465e+06  6.50957908e+05\n",
      " -7.07737871e+04  3.04435666e+02  6.12559821e+02 -3.15633974e+01\n",
      "  1.23096171e+00]\n",
      "[-6.35890591e+05  3.67416000e+06 -9.20048529e+06  1.30581904e+07\n",
      " -1.15162848e+07  6.48780175e+06 -2.29291629e+06  4.65889245e+05\n",
      " -3.81141306e+04 -3.11461128e+03  7.99127579e+02 -3.56067561e+01\n",
      "  1.24512231e+00]\n",
      "4466221.729000935\n"
     ]
    },
    {
     "data": {
      "text/plain": [
       "[<matplotlib.lines.Line2D at 0x1a5ca42bf60>]"
      ]
     },
     "execution_count": 187,
     "metadata": {},
     "output_type": "execute_result"
    },
    {
     "data": {
      "image/png": "[encoded data removed]",
      "text/plain": [
       "<Figure size 432x288 with 1 Axes>"
      ]
     },
     "metadata": {
      "needs_background": "light"
     },
     "output_type": "display_data"
    }
   ],
   "source": [
    "poly,pred,pred2,forward_error=polyno(12,xk,xy)\n",
    "print(forward_error)\n",
    "plt.scatter(xk, yk )\n",
    "plt.plot(xk, pred)\n",
    "plt.plot(xk, pred2)"
   ]
  },
  {
   "cell_type": "code",
   "execution_count": 170,
   "metadata": {},
   "outputs": [
    {
     "name": "stdout",
     "output_type": "stream",
     "text": [
      "0.19635306381516965\n"
     ]
    },
    {
     "data": {
      "text/plain": [
       "[<matplotlib.lines.Line2D at 0x1a5ca578710>]"
      ]
     },
     "execution_count": 170,
     "metadata": {},
     "output_type": "execute_result"
    },
    {
     "data": {
      "image/png": "[encoded data removed]",
      "text/plain": [
       "<Figure size 432x288 with 1 Axes>"
      ]
     },
     "metadata": {
      "needs_background": "light"
     },
     "output_type": "display_data"
    }
   ],
   "source": [
    "poly,pred,pred2,forward_error=polyno(8,xk,xy)\n",
    "print(forward_error)\n",
    "plt.scatter(xk, yk )\n",
    "plt.plot(xk, pred)\n",
    "plt.plot(xk, pred2)"
   ]
  },
  {
   "cell_type": "markdown",
   "metadata": {},
   "source": [
    "# Q6"
   ]
  },
  {
   "cell_type": "code",
   "execution_count": 37,
   "metadata": {},
   "outputs": [],
   "source": [
    "def intfun(n):\n",
    "    out=(-1)**n*sy.subfactorial(n)+(-1)**(n+1)*(sy.factorial(n)/np.exp(1))\n",
    "    return out\n",
    "    "
   ]
  },
  {
   "cell_type": "code",
   "execution_count": 38,
   "metadata": {},
   "outputs": [
    {
     "name": "stdout",
     "output_type": "stream",
     "text": [
      "0.145532940573079\n",
      "0.0838770701033942\n",
      "0.0590175408792978\n",
      "0.0455448840758181\n",
      "0.0370862144237392\n",
      "0.0312796739321681\n",
      "0.0270462894090608\n",
      "0.0238227286690335\n",
      "0.0212860390856061\n",
      "0.0192377544343394\n"
     ]
    }
   ],
   "source": [
    "forward_error=np.empty([10])\n",
    "ixt=0\n",
    "x= sy.symbols('x')\n",
    "for n in range(5,51,5):\n",
    "    out=(sy.integrate(x**n*sy.exp(x-1),(x,0,1))).evalf()\n",
    "    out2=intfun(n).evalf()\n",
    "    forward_error[ixt]= np.abs(out-out2)/np.abs(out)\n",
    "    ixt=ixt+1\n",
    "    print(out)"
   ]
  },
  {
   "cell_type": "code",
   "execution_count": 31,
   "metadata": {},
   "outputs": [
    {
     "data": {
      "text/plain": [
       "[<matplotlib.lines.Line2D at 0x1adf4c34a90>]"
      ]
     },
     "execution_count": 31,
     "metadata": {},
     "output_type": "execute_result"
    },
    {
     "data": {
      "image/png": "[encoded data removed]",
      "text/plain": [
       "<Figure size 432x288 with 1 Axes>"
      ]
     },
     "metadata": {
      "needs_background": "light"
     },
     "output_type": "display_data"
    }
   ],
   "source": [
    "x=np.arange(5,51,5)\n",
    "plt.plot(x, np.log(forward_error))"
   ]
  },
  {
   "cell_type": "code",
   "execution_count": null,
   "metadata": {},
   "outputs": [],
   "source": []
  }
 ],
 "metadata": {
  "kernelspec": {
   "display_name": "Python 3",
   "language": "python",
   "name": "python3"
  },
  "language_info": {
   "codemirror_mode": {
    "name": "ipython",
    "version": 3
   },
   "file_extension": ".py",
   "mimetype": "text/x-python",
   "name": "python",
   "nbconvert_exporter": "python",
   "pygments_lexer": "ipython3",
   "version": "3.7.3"
  }
 },
 "nbformat": 4,
 "nbformat_minor": 2
}
