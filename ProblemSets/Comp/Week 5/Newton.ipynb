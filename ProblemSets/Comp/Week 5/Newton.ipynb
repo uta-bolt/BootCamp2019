{
 "cells": [
  {
   "cell_type": "markdown",
   "metadata": {},
   "source": [
    "Do\n",
    "problems 1 through 5 from Newton and Quasi Newton Method lab."
   ]
  },
  {
   "cell_type": "markdown",
   "metadata": {},
   "source": [
    "# Q 1"
   ]
  },
  {
   "cell_type": "code",
   "execution_count": 118,
   "metadata": {},
   "outputs": [],
   "source": [
    "import numpy as np\n",
    "import scipy\n",
    "from scipy import linalg as la\n",
    "import sympy as sy\n",
    "from matplotlib import pyplot as plt\n",
    "from scipy import sparse\n",
    "from scipy import optimize as opt\n",
    "import time\n",
    "from numba import jit\n",
    "from autograd import grad, jacobian"
   ]
  },
  {
   "cell_type": "markdown",
   "metadata": {},
   "source": [
    "# Newton method to find roots of equations"
   ]
  },
  {
   "cell_type": "code",
   "execution_count": 61,
   "metadata": {},
   "outputs": [],
   "source": [
    "def NM(derf1,derf2,xstart,maxiter, tol):\n",
    "    xold=xstart\n",
    "    for j in range(maxiter):\n",
    "        #print(derf2(xold))\n",
    "        #print(derf1(xold))\n",
    "        inv=la.solve(derf2(xold),derf1(xold).T)\n",
    "        xnew=xold-inv\n",
    "        #xnew=xold-inv@derf1(xold).T\n",
    "        #xnew=xold-la.inv(derf2(xold))@derf1(xold).T\n",
    "        diff=la.norm(xnew-xold)\n",
    "        if diff<tol: \n",
    "            break\n",
    "        else:\n",
    "                xold=xnew\n",
    "    return xnew,diff,j"
   ]
  },
  {
   "cell_type": "code",
   "execution_count": 39,
   "metadata": {},
   "outputs": [
    {
     "name": "stdout",
     "output_type": "stream",
     "text": [
      "1\n",
      "1.9700890179102142\n",
      "2\n",
      "12.158875684537662\n",
      "3\n",
      "8.758033972168008\n",
      "4\n",
      "0.07207843152287179\n",
      "5\n",
      "0.0010961703892304296\n",
      "6\n",
      "9.512174680414227e-10\n",
      "converged!\n",
      "5\n"
     ]
    },
    {
     "data": {
      "text/plain": [
       "(array([1., 1.]), 9.512174680414227e-10)"
      ]
     },
     "execution_count": 39,
     "metadata": {},
     "output_type": "execute_result"
    }
   ],
   "source": [
    "f = opt.rosen # The Rosenbrock function.\n",
    "derf = opt.rosen_der # The first derivative.\n",
    "derf2 = opt.rosen_hess\n",
    "maxiter=100\n",
    "tol=0.00001\n",
    "xstart=np.array([-2,2])\n",
    "NM(derf,derf2,xstart,maxiter, tol)"
   ]
  },
  {
   "cell_type": "markdown",
   "metadata": {},
   "source": [
    "# Q2: BFGS\n",
    "Newton method requires an inverse which may take long - BFGS avoids this! (numerically approximates the inverse of the hessian)"
   ]
  },
  {
   "cell_type": "code",
   "execution_count": 56,
   "metadata": {},
   "outputs": [],
   "source": [
    "@jit\n",
    "def bfgs(derf1,xstart,maxiter, tol):\n",
    "    xold=xstart\n",
    "    xnew=np.ones_like(xstart)\n",
    "    Aold=np.identity(2)\n",
    "    for j in range(maxiter):\n",
    "        xnew=xold-Aold@derf1(xold).T\n",
    "        s=np.array([xnew-xold]).T\n",
    "        y=np.array([derf1(xnew)-derf1(xold)]).T\n",
    "        num1=(s.T@y+y.T@(Aold)@y)*(s@s.T)\n",
    "        den1=(s.T@y)**2\n",
    "        num2=(Aold)@y@s.T+s@y.T@(Aold)\n",
    "        den2=s.T@y\n",
    "        #Anew=Aold+(y@y.T)/(y.T@s)-(Aold@s@s.T@Aold)/(s.T@Aold@s)\n",
    "        Anew=Aold+num1/den1-num2/den2\n",
    "        #xnew=xold-la.inv(derf2(xold))@derf1(xold).T\n",
    "        #print(derf1(xold))\n",
    "        diff=la.norm(derf1(xold))\n",
    "        if diff<tol: \n",
    "            break\n",
    "        else:\n",
    "                xold=xnew\n",
    "                Aold=Anew\n",
    "    return xnew,diff,j"
   ]
  },
  {
   "cell_type": "code",
   "execution_count": 57,
   "metadata": {},
   "outputs": [
    {
     "name": "stdout",
     "output_type": "stream",
     "text": [
      "1.4169489184425296e-07 iterations: 160\n"
     ]
    }
   ],
   "source": [
    "f = opt.rosen # The Rosenbrock function.\n",
    "derf = opt.rosen_der # The first derivative.\n",
    "derf2 = opt.rosen_hess\n",
    "maxiter=500\n",
    "tol=0.0001\n",
    "xstart=np.array([-2,2])\n",
    "xnew,diff,it=bfgs(derf,xstart,maxiter, tol)\n",
    "print(diff, \"iterations:\",it)"
   ]
  },
  {
   "cell_type": "markdown",
   "metadata": {},
   "source": [
    "# Q3"
   ]
  },
  {
   "cell_type": "code",
   "execution_count": 58,
   "metadata": {},
   "outputs": [],
   "source": []
  },
  {
   "cell_type": "code",
   "execution_count": 84,
   "metadata": {},
   "outputs": [
    {
     "name": "stderr",
     "output_type": "stream",
     "text": [
      "C:\\Users\\utabo\\AppData\\Local\\Continuum\\anaconda3\\lib\\site-packages\\ipykernel_launcher.py:11: DeprecationWarning: time.clock has been deprecated in Python 3.3 and will be removed from Python 3.8: use time.perf_counter or time.process_time instead\n",
      "  # This is added back by InteractiveShellApp.init_path()\n",
      "C:\\Users\\utabo\\AppData\\Local\\Continuum\\anaconda3\\lib\\site-packages\\ipykernel_launcher.py:13: DeprecationWarning: time.clock has been deprecated in Python 3.3 and will be removed from Python 3.8: use time.perf_counter or time.process_time instead\n",
      "  del sys.path[0]\n",
      "C:\\Users\\utabo\\AppData\\Local\\Continuum\\anaconda3\\lib\\site-packages\\ipykernel_launcher.py:14: DeprecationWarning: time.clock has been deprecated in Python 3.3 and will be removed from Python 3.8: use time.perf_counter or time.process_time instead\n",
      "  \n",
      "C:\\Users\\utabo\\AppData\\Local\\Continuum\\anaconda3\\lib\\site-packages\\ipykernel_launcher.py:16: DeprecationWarning: time.clock has been deprecated in Python 3.3 and will be removed from Python 3.8: use time.perf_counter or time.process_time instead\n",
      "  app.launch_new_instance()\n",
      "C:\\Users\\utabo\\AppData\\Local\\Continuum\\anaconda3\\lib\\site-packages\\ipykernel_launcher.py:17: DeprecationWarning: time.clock has been deprecated in Python 3.3 and will be removed from Python 3.8: use time.perf_counter or time.process_time instead\n",
      "C:\\Users\\utabo\\AppData\\Local\\Continuum\\anaconda3\\lib\\site-packages\\ipykernel_launcher.py:19: DeprecationWarning: time.clock has been deprecated in Python 3.3 and will be removed from Python 3.8: use time.perf_counter or time.process_time instead\n"
     ]
    },
    {
     "data": {
      "image/png": "[encoded data removed]",
      "text/plain": [
       "<Figure size 432x288 with 1 Axes>"
      ]
     },
     "metadata": {
      "needs_background": "light"
     },
     "output_type": "display_data"
    }
   ],
   "source": [
    "for n in range(100):\n",
    "    #Sample random guess:\n",
    "    x1=np.random.uniform(-3,3)\n",
    "    x2=np.random.uniform(-3,3)\n",
    "    x0=np.array([x1,x2])\n",
    "    f = opt.rosen # The Rosenbrock function.\n",
    "    derf = opt.rosen_der # The first derivative.\n",
    "    derf2 = opt.rosen_hess\n",
    "    maxiter=500\n",
    "    tol=0.0001\n",
    "    start=time.clock() \n",
    "    xnew,diff,itbfgs=bfgs(derf,x0,maxiter, tol)\n",
    "    durationBFGS=time.clock() -start\n",
    "    start=time.clock() \n",
    "    xnew,diff,itnm=NM(derf,derf2,x0,maxiter, tol)\n",
    "    durationNM=time.clock() -start\n",
    "    start=time.clock() \n",
    "    x=opt.fmin_bfgs(f, x0, fprime=derf,epsilon=tol, maxiter=maxiter,disp=0)\n",
    "    durationSP=time.clock() -start\n",
    "    #print(\"NM time:\", durationNM, \" BFGStime:\", durationBFGS, \" BFGSscipy time:\", durationSP)\n",
    "    plt.scatter(np.log(durationNM), np.log(itnm), label=\"NM\", c=\"red\")\n",
    "    plt.scatter(np.log(durationBFGS), np.log(itbfgs), label=\"BFGS\", c=\"green\")\n",
    "    #plt.scatter(durationSP, x.func_calls, label=\"BFGS\", c=\"green\")"
   ]
  },
  {
   "cell_type": "markdown",
   "metadata": {},
   "source": [
    "### Gauss Newton Method: \n",
    "Solve least squares problem\n"
   ]
  },
  {
   "cell_type": "code",
   "execution_count": 97,
   "metadata": {},
   "outputs": [],
   "source": []
  },
  {
   "cell_type": "code",
   "execution_count": 222,
   "metadata": {},
   "outputs": [],
   "source": [
    "def gauss_newton(model,jac, residual, x0, maxiter=100, tol=1e-3):\n",
    "    xold=x0\n",
    "    for j in range(maxiter):\n",
    "        J=jac(xold)\n",
    "        r=residual(xold)\n",
    "        derf1=J.T@r\n",
    "        xnew=xold-la.inv(J.T@J)@J.T@r\n",
    "        #diff=la.norm(derf1)\n",
    "        diff=la.norm(xold-xnew)\n",
    "        if diff<tol: \n",
    "            break\n",
    "        else:\n",
    "                xold=xnew\n",
    "    return xnew,j"
   ]
  },
  {
   "cell_type": "code",
   "execution_count": 223,
   "metadata": {},
   "outputs": [
    {
     "data": {
      "image/png": "[encoded data removed]",
      "text/plain": [
       "<Figure size 432x288 with 1 Axes>"
      ]
     },
     "metadata": {
      "needs_background": "light"
     },
     "output_type": "display_data"
    }
   ],
   "source": [
    "# Generate random data for t = 0, 1, ..., 10.\n",
    "T = np.arange(10)\n",
    "y = 3*np.sin(0.5*T)+ 0.5*np.random.randn(10) # Perturbed data.\n",
    "# Define the model function and the residual (based on the data).\n",
    "model = lambda x, t: x[0]*np.sin(x[1]*t) # phi(x,t)\n",
    "residual = lambda x: model(x, T) - y # r(x) = phi(x,t) - y\n",
    "# Define the Jacobian of the residual function, computed by hand.\n",
    "jac = lambda x: np.column_stack((np.sin(x[1]*T), x[0]*T*np.cos(x[1]*T)))\n",
    "x0 = np.array([2.5,.6])\n",
    "x,  niters = gauss_newton(model,jac, residual, x0, maxiter=10, tol=1e-3)\n",
    "# Plot the fitted model with the observed data and the data-generating curve.\n",
    "dom = np.linspace(0, 10, 200)\n",
    "plt.plot(T, y, '*') # Observed data.\n",
    "plt.plot(dom, 3*np.sin(.5*dom), '--') # Data-generating curve.\n",
    "plt.plot(dom, model(x, dom)) # Fitted model.\n",
    "plt.show()"
   ]
  },
  {
   "cell_type": "markdown",
   "metadata": {},
   "source": [
    "# Q 5: Non-linear least squares"
   ]
  },
  {
   "cell_type": "code",
   "execution_count": 224,
   "metadata": {},
   "outputs": [],
   "source": [
    "popdata=np.load(\"population.npy\")"
   ]
  },
  {
   "cell_type": "code",
   "execution_count": 225,
   "metadata": {},
   "outputs": [],
   "source": [
    "import autograd.numpy as np"
   ]
  },
  {
   "cell_type": "code",
   "execution_count": 246,
   "metadata": {},
   "outputs": [],
   "source": [
    "def gauss_newton(model,jac, residual, x0, maxiter=100, tol=1e-3):\n",
    "    xold=x0\n",
    "    for j in range(maxiter):\n",
    "        J=jac(xold)\n",
    "        r=residual(xold)\n",
    "        xnew=xold-la.inv(J.T@J)@J.T@r\n",
    "        derf1=J.T@r\n",
    "        diff=la.norm(derf1)\n",
    "        #diff=la.norm(xold-xnew)\n",
    "        if diff<tol: \n",
    "            break\n",
    "        else:\n",
    "                xold=xnew\n",
    "    return xnew,j"
   ]
  },
  {
   "cell_type": "code",
   "execution_count": 271,
   "metadata": {},
   "outputs": [
    {
     "name": "stdout",
     "output_type": "stream",
     "text": [
      "[ 6.05051906  7.27631038  8.75043813 10.52321348 12.65514026 15.21897997\n",
      " 18.30223502 22.0101352  26.46922908 31.83170306 38.28057542 46.03594258\n",
      " 55.36249092 66.57853036 80.06685812 96.28782332]\n",
      "9\n"
     ]
    },
    {
     "data": {
      "image/png": "[encoded data removed]",
      "text/plain": [
       "<Figure size 432x288 with 1 Axes>"
      ]
     },
     "metadata": {
      "needs_background": "light"
     },
     "output_type": "display_data"
    }
   ],
   "source": [
    "y=np.array(popdata[:,1])\n",
    "T=np.array(popdata[:,0])\n",
    "model = lambda x: x[0]*np.exp(x[1]*(T+x[2])) # phi(x,t)\n",
    "residual = lambda x: model(x) - y # r(x) = phi(x,t) - y\n",
    "jac = jacobian(model)\n",
    "x0 = np.array([1.5,.4,1])\n",
    "x,  niters = gauss_newton(model,jac, residual, x0, maxiter=10, tol=1e-5)\n",
    "print(model(x))\n",
    "print( niters)\n",
    "# Plot the fitted model with the observed data and the data-generating curve.\n",
    "dom = np.arange(16)\n",
    "plt.plot(T, y, '*') # Observed data.\n",
    "plt.plot(dom, model(x)) # Fitted model.\n",
    "plt.show()"
   ]
  },
  {
   "cell_type": "code",
   "execution_count": 272,
   "metadata": {},
   "outputs": [
    {
     "name": "stdout",
     "output_type": "stream",
     "text": [
      "[  3.74503545   5.12670054   6.99839974   9.51723178  12.87696126\n",
      "  17.30560724  23.05308121  30.36328278  39.42640967  50.31325998\n",
      "  62.90517753  76.84728397  91.55779598 106.31027342 120.37005398\n",
      " 133.13392806]\n",
      "8\n"
     ]
    },
    {
     "data": {
      "image/png": "[encoded data removed]",
      "text/plain": [
       "<Figure size 432x288 with 1 Axes>"
      ]
     },
     "metadata": {
      "needs_background": "light"
     },
     "output_type": "display_data"
    }
   ],
   "source": [
    "y=np.array(popdata[:,1])\n",
    "T=np.array(popdata[:,0])\n",
    "model = lambda x: x[0]/(1+np.exp(-x[1]*(T+x[2]))) # phi(x,t)\n",
    "residual = lambda x: model(x) - y # r(x) = phi(x,t) - y\n",
    "jac = jacobian(model)\n",
    "x0 = np.array([150,.4,-15])\n",
    "x,  niters = gauss_newton(model,jac, residual, x0, maxiter=10, tol=1e-3)\n",
    "print(model(x))\n",
    "print( niters)\n",
    "# Plot the fitted model with the observed data and the data-generating curve.\n",
    "dom = np.arange(16)\n",
    "plt.plot(T, y, '*') # Observed data.\n",
    "plt.plot(dom, model(x)) # Fitted model.\n",
    "plt.show()"
   ]
  },
  {
   "cell_type": "code",
   "execution_count": null,
   "metadata": {},
   "outputs": [],
   "source": []
  }
 ],
 "metadata": {
  "kernelspec": {
   "display_name": "Python 3",
   "language": "python",
   "name": "python3"
  },
  "language_info": {
   "codemirror_mode": {
    "name": "ipython",
    "version": 3
   },
   "file_extension": ".py",
   "mimetype": "text/x-python",
   "name": "python",
   "nbconvert_exporter": "python",
   "pygments_lexer": "ipython3",
   "version": "3.7.3"
  }
 },
 "nbformat": 4,
 "nbformat_minor": 2
}
