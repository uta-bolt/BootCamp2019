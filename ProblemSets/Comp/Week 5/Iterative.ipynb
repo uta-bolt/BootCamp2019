{
 "cells": [
  {
   "cell_type": "markdown",
   "metadata": {},
   "source": [
    "# Q1"
   ]
  },
  {
   "cell_type": "code",
   "execution_count": 37,
   "metadata": {},
   "outputs": [],
   "source": [
    "import numpy as np\n",
    "import scipy\n",
    "from scipy import linalg as la\n",
    "import sympy as sy\n",
    "from matplotlib import pyplot as plt\n",
    "from scipy import sparse"
   ]
  },
  {
   "cell_type": "markdown",
   "metadata": {},
   "source": [
    "### Solving linear systems of equations"
   ]
  },
  {
   "cell_type": "code",
   "execution_count": 2,
   "metadata": {},
   "outputs": [],
   "source": [
    "def diag_dom(n, num_entries=None):\n",
    "    \"\"\"Generate a strictly diagonally dominant (n, n) matrix.\n",
    "    Parameters:\n",
    "    n (int): The dimension of the system.\n",
    "    num_entries (int): The number of nonzero values.\n",
    "    Defaults to n^(3/2)-n.\n",
    "    Returns:\n",
    "    A ((n,n) ndarray): A (n, n) strictly diagonally dominant matrix.\n",
    "    \"\"\"\n",
    "    if num_entries is None:\n",
    "        num_entries = int(n**1.5) - n\n",
    "        A = np.zeros((n,n))\n",
    "        rows = np.random.choice(np.arange(0,n), size=num_entries)\n",
    "        cols = np.random.choice(np.arange(0,n), size=num_entries)\n",
    "        data = np.random.randint(-4, 4, size=num_entries)\n",
    "        for i in range(num_entries):\n",
    "            A[rows[i], cols[i]] = data[i]\n",
    "        for i in range(n):\n",
    "            A[i,i] = np.sum(np.abs(A[i])) + 1\n",
    "    return A"
   ]
  },
  {
   "cell_type": "code",
   "execution_count": 3,
   "metadata": {},
   "outputs": [],
   "source": [
    "def jacobi(A,b,maxiter, tol):\n",
    "    U=np.triu(A,1)\n",
    "    L=np.tril(A,1)\n",
    "    D= np.diag(np.diag(A))    \n",
    "    xold=np.ones(len(b))*0.0001\n",
    "    #xold=la.solve_triangular(D,(-(L+U)*xold+b))\n",
    "    for j in range(maxiter):\n",
    "        #xnew=la.solve_triangular(D,(-(L+U)*xold+b))\n",
    "        xnew=xold+la.inv(D)@(b-A@xold)\n",
    "        diff=la.norm(xnew-xold)\n",
    "        if diff<=tol:\n",
    "            print(\"converged!\")\n",
    "            print(j)\n",
    "            break\n",
    "        else:\n",
    "            xold=xnew\n",
    "    return xnew,diff"
   ]
  },
  {
   "cell_type": "code",
   "execution_count": 4,
   "metadata": {},
   "outputs": [
    {
     "name": "stdout",
     "output_type": "stream",
     "text": [
      "converged!\n",
      "19\n"
     ]
    }
   ],
   "source": [
    "maxiter=100000\n",
    "tol=0.000001\n",
    "A=diag_dom(5)\n",
    "b=np.random.random(5)\n",
    "xout,diffout=jacobi(A,b,maxiter, tol)"
   ]
  },
  {
   "cell_type": "markdown",
   "metadata": {},
   "source": [
    "# Q2"
   ]
  },
  {
   "cell_type": "code",
   "execution_count": 5,
   "metadata": {},
   "outputs": [],
   "source": [
    "def jacobi(A,b,maxiter, tol, plot = False):\n",
    "    U=np.triu(A,1)\n",
    "    L=np.tril(A,1)\n",
    "    D= np.diag(np.diag(A))    \n",
    "    xold=np.zeros(len(b))\n",
    "    diffplot=[]\n",
    "    for j in range(maxiter):\n",
    "        xnew=xold+la.inv(D)@(b-A@xold)\n",
    "        diff=la.norm(xnew-xold)\n",
    "        diffplot.append(diff)\n",
    "        if diff<=tol:\n",
    "            print(j)\n",
    "            print(\"converged!\")\n",
    "            x=np.arange(j+1)\n",
    "            print(x)\n",
    "            if plot==True:\n",
    "                diffplot = np.array(diffplot)\n",
    "                plt.semilogy(x, diffplot)\n",
    "                plt.show()           \n",
    "            break\n",
    "        else:\n",
    "            xold=xnew\n",
    "    return xnew,diff"
   ]
  },
  {
   "cell_type": "code",
   "execution_count": 6,
   "metadata": {},
   "outputs": [
    {
     "name": "stdout",
     "output_type": "stream",
     "text": [
      "23\n",
      "converged!\n",
      "[ 0  1  2  3  4  5  6  7  8  9 10 11 12 13 14 15 16 17 18 19 20 21 22 23]\n"
     ]
    },
    {
     "data": {
      "image/png": "[encoded data removed]",
      "text/plain": [
       "<Figure size 432x288 with 1 Axes>"
      ]
     },
     "metadata": {
      "needs_background": "light"
     },
     "output_type": "display_data"
    }
   ],
   "source": [
    "maxiter=100000\n",
    "tol=0.000001\n",
    "A=diag_dom(5)\n",
    "b=np.random.random(5)\n",
    "xout,diffout=jacobi(A,b,maxiter, tol,plot = True)"
   ]
  },
  {
   "cell_type": "markdown",
   "metadata": {},
   "source": [
    "# Q3"
   ]
  },
  {
   "cell_type": "code",
   "execution_count": 25,
   "metadata": {},
   "outputs": [],
   "source": [
    "def GS(A,b,maxiter,tol):\n",
    "    xnew=np.empty([len(A)])\n",
    "    xold=np.zeros([len(A)])\n",
    "    for j in range(maxiter):\n",
    "        for i in range(len(A)):\n",
    "            xnew[i]=xold[i]+(1/A[i,i])*(b[i]-A[i,:].T@xold)\n",
    "            diff=la.norm(xnew-xold)\n",
    "        if diff<=tol:\n",
    "            print(\"converged!\")\n",
    "            break\n",
    "        else:\n",
    "            xold=np.copy(xnew)\n",
    "    return xnew,diff,j"
   ]
  },
  {
   "cell_type": "code",
   "execution_count": 27,
   "metadata": {},
   "outputs": [
    {
     "name": "stdout",
     "output_type": "stream",
     "text": [
      "converged!\n",
      "[0.58202528 0.20925581 0.32814558 0.10247503 0.19038319 0.21829709\n",
      " 0.19905307 0.34030425] 9.865299126079847e-07 28\n"
     ]
    }
   ],
   "source": [
    "maxiter=100000\n",
    "tol=0.000001\n",
    "A=diag_dom(8)\n",
    "b=np.random.random(8)\n",
    "xout,diffout,itnum=GS(A,b,maxiter, tol)\n",
    "print(xout,diffout,itnum)"
   ]
  },
  {
   "cell_type": "markdown",
   "metadata": {},
   "source": [
    "# Q4"
   ]
  },
  {
   "cell_type": "code",
   "execution_count": 53,
   "metadata": {},
   "outputs": [],
   "source": [
    "def sparseGS(A,b,maxiter,tol):\n",
    "    r,c=A.shape\n",
    "    xnew=np.empty([c])\n",
    "    xold=np.zeros([c])\n",
    "    for j in range(maxiter):\n",
    "        for i in range(c):\n",
    "            rowstart = A.indptr[i]\n",
    "            rowend = A.indptr[i+1]\n",
    "            Aix = A.data[rowstart:rowend] @ xold[A.indices[rowstart:rowend]]\n",
    "            xnew[i]=xold[i]+(1/A[i,i])*(b[i]-Aix)\n",
    "                       \n",
    "            diff=la.norm(xnew-xold)\n",
    "        if diff<=tol:\n",
    "            print(\"converged!\")\n",
    "            break\n",
    "        else:\n",
    "            xold=np.copy(xnew)\n",
    "    return xnew,diff,j"
   ]
  },
  {
   "cell_type": "code",
   "execution_count": 45,
   "metadata": {},
   "outputs": [],
   "source": [
    "A = sparse.csr_matrix(diag_dom(5000))\n",
    "b = np.random.random(5000)\n",
    "maxiter=100\n",
    "tol=0.000001"
   ]
  },
  {
   "cell_type": "code",
   "execution_count": 54,
   "metadata": {},
   "outputs": [
    {
     "name": "stdout",
     "output_type": "stream",
     "text": [
      "converged!\n",
      "2.5924239065615076e-07\n",
      "10\n"
     ]
    }
   ],
   "source": [
    "xout,diffout,itnum=sparseGS(A,b,maxiter, tol)\n",
    "print(diffout)\n",
    "print(itnum)"
   ]
  },
  {
   "cell_type": "markdown",
   "metadata": {},
   "source": [
    "# Q 5"
   ]
  },
  {
   "cell_type": "code",
   "execution_count": 48,
   "metadata": {},
   "outputs": [],
   "source": [
    "def relaxsparseGS(A,b,omega,maxiter,tol):\n",
    "    r,c=A.shape\n",
    "    xnew=np.empty([c])\n",
    "    xold=np.zeros([c])\n",
    "    for j in range(maxiter):\n",
    "        for i in range(c):\n",
    "            rowstart = A.indptr[i]\n",
    "            rowend = A.indptr[i+1]\n",
    "            Aix = A.data[rowstart:rowend] @ xold[A.indices[rowstart:rowend]]\n",
    "            xnew[i]=xold[i]+(omega/A[i,i])*(b[i]-Aix)\n",
    "                       \n",
    "            diff=la.norm(xnew-xold)\n",
    "        if diff<=tol:\n",
    "            print(\"converged!\")\n",
    "            break\n",
    "        else:\n",
    "            xold=np.copy(xnew)\n",
    "    return xnew,diff,j"
   ]
  },
  {
   "cell_type": "code",
   "execution_count": 51,
   "metadata": {},
   "outputs": [
    {
     "name": "stdout",
     "output_type": "stream",
     "text": [
      "converged!\n",
      "21\n"
     ]
    }
   ],
   "source": [
    "A = sparse.csr_matrix(diag_dom(5000))\n",
    "b = np.random.random(5000)\n",
    "maxiter=100\n",
    "tol=0.000001\n",
    "omega=0.6\n",
    "xout,diffout,itnum=relaxsparseGS(A,b,omega,maxiter, tol)\n",
    "print(itnum)"
   ]
  },
  {
   "cell_type": "markdown",
   "metadata": {},
   "source": [
    "# Q6"
   ]
  },
  {
   "cell_type": "code",
   "execution_count": null,
   "metadata": {},
   "outputs": [],
   "source": []
  }
 ],
 "metadata": {
  "kernelspec": {
   "display_name": "Python 3",
   "language": "python",
   "name": "python3"
  },
  "language_info": {
   "codemirror_mode": {
    "name": "ipython",
    "version": 3
   },
   "file_extension": ".py",
   "mimetype": "text/x-python",
   "name": "python",
   "nbconvert_exporter": "python",
   "pygments_lexer": "ipython3",
   "version": "3.7.3"
  }
 },
 "nbformat": 4,
 "nbformat_minor": 2
}
