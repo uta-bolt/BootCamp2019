{
 "cells": [
  {
   "cell_type": "code",
   "execution_count": null,
   "metadata": {},
   "outputs": [],
   "source": [
    "def bfgs(derf1,xstart,maxiter, tol):\n",
    "    xold=xstart\n",
    "    xnew=np.ones_like([xstart])\n",
    "    Aold=np.identity(2)\n",
    "    for j in range(maxiter):\n",
    "        print(j+1)\n",
    "        s=(xold-xnew).T\n",
    "        print(xnew.shape)\n",
    "        y=np.array([derf1(xold)-derf1(xnew[0,:])]).T\n",
    "        a=(Aold@s@s.T@Aold)\n",
    "        num1=(s.T@y+y.T@la.inv(Aold)@y)*(s@s.T)\n",
    "        den1=(s.T@y)**2\n",
    "        num2=la.inv(Aold)@y@s.T+s@y.T@la.inv(Aold)\n",
    "        den2=s.T@y\n",
    "        #Anew=Aold+(y@y.T)/(y.T@s)-(Aold@s@s.T@Aold)/(s.T@Aold@s)\n",
    "        Anew=Aold+num1/den1-num2/den2\n",
    "        xnew=np.array([xold-Anew@derf1(xold).T])\n",
    "        #xnew=xold-la.inv(derf2(xold))@derf1(xold).T\n",
    "        diff=la.norm(xnew-xold)\n",
    "        print(diff)\n",
    "        if diff<tol: \n",
    "            print(\"converged!\")\n",
    "            print(j)\n",
    "            break\n",
    "        else:\n",
    "                xold=xnew\n",
    "    return xnew,diff"
   ]
  }
 ],
 "metadata": {
  "kernelspec": {
   "display_name": "Python 3",
   "language": "python",
   "name": "python3"
  },
  "language_info": {
   "codemirror_mode": {
    "name": "ipython",
    "version": 3
   },
   "file_extension": ".py",
   "mimetype": "text/x-python",
   "name": "python",
   "nbconvert_exporter": "python",
   "pygments_lexer": "ipython3",
   "version": "3.7.3"
  }
 },
 "nbformat": 4,
 "nbformat_minor": 2
}
