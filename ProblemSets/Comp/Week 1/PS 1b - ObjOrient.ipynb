{
 "cells": [
  {
   "cell_type": "markdown",
   "metadata": {},
   "source": [
    "# Object oriented PS\n"
   ]
  },
  {
   "cell_type": "markdown",
   "metadata": {},
   "source": [
    "### Q1\n"
   ]
  },
  {
   "cell_type": "code",
   "execution_count": 1,
   "metadata": {},
   "outputs": [],
   "source": [
    "class Backpack:\n",
    "    def __init__(self,name, color,max_size=5): # This function is the constructor.\n",
    "        self.name = name # Initialize some attributes.\n",
    "        self.color =color\n",
    "        self.contents = []\n",
    "        \"\"\"Set the name and initialize an empty list of contents.\n",
    "        Parameters:\n",
    "        name (str): the name of the backpack's owner.\n",
    "        color (str): color of backpack\n",
    "        max_size : maximum size of backpack\n",
    "        \"\"\"\n",
    "    def put(self, item):\n",
    "        self.contents.append(item)\n",
    "    def take(self, item):\n",
    "        \"\"\"Remove 'item' from the backpack's list of contents.\"\"\"\n",
    "        self.contents.remove(item)\n",
    "    def dump(self):\n",
    "        \"\"\"Remove everything from the backpack's list of contents.\"\"\"\n",
    "        self.contents=[]"
   ]
  },
  {
   "cell_type": "code",
   "execution_count": 2,
   "metadata": {},
   "outputs": [],
   "source": [
    "def test_backpack():\n",
    "    testpack = Backpack(\"Barry\", \"black\") # Instantiate the object.\n",
    "    if testpack.name != \"Barry\": # Test an attribute.\n",
    "        print(\"Backpack.name assigned incorrectly\")\n",
    "    for item in [\"pencil\", \"pen\", \"paper\", \"computer\"]:\n",
    "        testpack.put(item) # Test a method.\n",
    "    print(\"Contents:\", testpack.contents)"
   ]
  },
  {
   "cell_type": "code",
   "execution_count": 3,
   "metadata": {},
   "outputs": [
    {
     "name": "stdout",
     "output_type": "stream",
     "text": [
      "Contents: ['pencil', 'pen', 'paper', 'computer']\n"
     ]
    }
   ],
   "source": [
    "test_backpack()"
   ]
  },
  {
   "cell_type": "markdown",
   "metadata": {},
   "source": [
    "# Q2"
   ]
  },
  {
   "cell_type": "code",
   "execution_count": 4,
   "metadata": {},
   "outputs": [],
   "source": [
    "class Jetpack(Backpack):\n",
    "    def __init__(self, name, color, fuel=10, max_size=3):\n",
    "        \"\"\"Set the name and initialize an empty list of contents.\n",
    "        Parameters:\n",
    "        name (str): the name of the backpack's owner.\n",
    "        color (str): color of backpack\n",
    "        max_size : maximum size of backpack\n",
    "        fuel: amount of fuel\n",
    "        \"\"\"\n",
    "        Backpack.__init__(self, name, color, max_size)\n",
    "        self.fuel = fuel\n",
    "    def fly(self,item):\n",
    "        \"\"\"decreases amount of fuel by item \"\"\"\n",
    "        if self.fuel-item>=0:\n",
    "            self.fuel=self.fuel-item\n",
    "        else: \n",
    "            print(\"NOT ENOUGH FUEL\")\n",
    "    def dump(self):\n",
    "        \"\"\"Remove everything from the backpack's list of contents and set fuel to zero.\"\"\"\n",
    "        self.contents=[]   \n",
    "        self.fuel=[]"
   ]
  },
  {
   "cell_type": "code",
   "execution_count": 5,
   "metadata": {},
   "outputs": [
    {
     "name": "stdout",
     "output_type": "stream",
     "text": [
      "NOT ENOUGH FUEL\n"
     ]
    },
    {
     "data": {
      "text/plain": [
       "10"
      ]
     },
     "execution_count": 5,
     "metadata": {},
     "output_type": "execute_result"
    }
   ],
   "source": [
    "test=Jetpack(\"Barry\", \"black\") \n",
    "test.fly(20)\n",
    "test.fuel"
   ]
  },
  {
   "cell_type": "markdown",
   "metadata": {},
   "source": [
    "# Q3"
   ]
  },
  {
   "cell_type": "code",
   "execution_count": null,
   "metadata": {},
   "outputs": [],
   "source": []
  },
  {
   "cell_type": "code",
   "execution_count": null,
   "metadata": {},
   "outputs": [],
   "source": []
  },
  {
   "cell_type": "code",
   "execution_count": 23,
   "metadata": {},
   "outputs": [],
   "source": [
    "class Backpack:\n",
    "    def __init__(self,name, color,max_size=5): # This function is the constructor.\n",
    "        self.name = name # Initialize some attributes.\n",
    "        self.color =color\n",
    "        self.contents = []\n",
    "        \"\"\"Set the name and initialize an empty list of contents.\n",
    "        Parameters:\n",
    "        name (str): the name of the backpack's owner.\n",
    "        color (str): color of backpack\n",
    "        max_size : maximum size of backpack\n",
    "        \"\"\"\n",
    "    def put(self, item):\n",
    "        self.contents.append(item)\n",
    "    def take(self, item):\n",
    "        \"\"\"Remove 'item' from the backpack's list of contents.\"\"\"\n",
    "        self.contents.remove(item)\n",
    "    def dump(self):\n",
    "        \"\"\"Remove everything from the backpack's list of contents.\"\"\"\n",
    "        self.contents=[]\n",
    "    def __eq__(self, other):\n",
    "        \"\"\"If 'self' has same sepcification than 'other', return True.\n",
    "        Otherwise, return False.\n",
    "        \"\"\"\n",
    "        return (len(self.contents)==len(other.contents))&(str(self.name)==str(other.name))&(str(self.color)==str(other.color))\n",
    "    def __str__(self):\n",
    "        \"\"\"If 'self' has same sepcification than 'other', return True.\n",
    "        Otherwise, return False.\n",
    "        \"\"\"\n",
    "        return \"Owner:\\t\"+self.name+\"\\nColor:\\t\" +self.color+\"\\nSize:\\t\" +str(len(self.contents))\n"
   ]
  },
  {
   "cell_type": "code",
   "execution_count": 24,
   "metadata": {},
   "outputs": [],
   "source": [
    "pack1= Backpack(\"Oscar\", \"green\")\n",
    "for item in [\"pencil\", \"pen\", \"paper\", \"computer\"]:\n",
    "        pack1.put(item) # Test a method"
   ]
  },
  {
   "cell_type": "code",
   "execution_count": 25,
   "metadata": {},
   "outputs": [
    {
     "name": "stdout",
     "output_type": "stream",
     "text": [
      "Owner:\tOscar\n",
      "Color:\tgreen\n",
      "Size:\t4\n"
     ]
    }
   ],
   "source": [
    "print(pack1)"
   ]
  },
  {
   "cell_type": "code",
   "execution_count": 8,
   "metadata": {},
   "outputs": [],
   "source": [
    "pack2= Backpack(\"Oscar\", \"green\")\n",
    "for item in [\"pencil\", \"pen\", \"paper\", \"computer\"]:\n",
    "        pack2.put(item) # Test a method\n",
    "pack3= Backpack(\"tom\", \"green\")\n",
    "for item in [\"pencil\", \"pen\", \"paper\", \"computer\"]:\n",
    "        pack3.put(item) # Test a method"
   ]
  },
  {
   "cell_type": "code",
   "execution_count": 9,
   "metadata": {},
   "outputs": [
    {
     "data": {
      "text/plain": [
       "True"
      ]
     },
     "execution_count": 9,
     "metadata": {},
     "output_type": "execute_result"
    }
   ],
   "source": [
    "pack1==pack2"
   ]
  },
  {
   "cell_type": "code",
   "execution_count": 10,
   "metadata": {},
   "outputs": [
    {
     "data": {
      "text/plain": [
       "False"
      ]
     },
     "execution_count": 10,
     "metadata": {},
     "output_type": "execute_result"
    }
   ],
   "source": [
    "pack3==pack2"
   ]
  },
  {
   "cell_type": "code",
   "execution_count": null,
   "metadata": {},
   "outputs": [],
   "source": []
  }
 ],
 "metadata": {
  "kernelspec": {
   "display_name": "Python 3",
   "language": "python",
   "name": "python3"
  },
  "language_info": {
   "codemirror_mode": {
    "name": "ipython",
    "version": 3
   },
   "file_extension": ".py",
   "mimetype": "text/x-python",
   "name": "python",
   "nbconvert_exporter": "python",
   "pygments_lexer": "ipython3",
   "version": "3.7.3"
  }
 },
 "nbformat": 4,
 "nbformat_minor": 2
}
