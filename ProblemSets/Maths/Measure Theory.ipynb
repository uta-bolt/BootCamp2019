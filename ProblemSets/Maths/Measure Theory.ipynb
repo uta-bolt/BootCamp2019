{
 "cells": [
  {
   "cell_type": "markdown",
   "metadata": {},
   "source": [
    "# Exercise 1.3\n",
    "- $\\mathcal{G_1}$ is not an algebra and not a sigma algebra. Reason: A is open, hence A^C is closed or half closed, hence A^c is not an open interval\n",
    "- $\\mathcal{G_2}$ is an algebra but not a sigma algebra. Reason: $\\bigcup_{n=1}^{\\infty}A_n \\notin \\mathcal{G}_2$ hence condition for sigma algebra not satisfied. Is it an algebra? For interval of the form $(a,b]$:its complement is of the form $(-\\infty,a] \\cup (b, \\infty)$ which $\\in \\mathcal{G}_2$. Also for any interval of the form $(-\\infty, b]$, its complement is of the form $(b, \\infty)$ which $\\in \\mathcal{G}_2$. Thus, for all $A \\in \\mathcal{G}_2$, ${A}^c \\in \\mathcal{G}_2$. Consider ${A}_n \\in \\mathcal{G}_2$ for $n \\in \\mathbb{N}$. Then $\\bigcup_{n=1}^{N}A_{n}$ is also a finite union of disjoint intervals of the form $(-\\infty, b], (a,b]$ and  $(a, \\infty)$."
   ]
  },
  {
   "cell_type": "markdown",
   "metadata": {},
   "source": [
    "# Exercise 1.7 .\n",
    "Explain why these are the 'largest' and 'smallest' possible $\\sigma$ -algebras,\n",
    "respectively, in the following sense: if $\\mathcal{A}$ is any $\\sigma$ -algebra, then $\\{\\emptyset, X\\} \\subset \\mathcal{A} \\subset \\mathcal{P}(X) .$ \n",
    "\n",
    "\n",
    "\n",
    "Note that by definition of $\\sigma$-algebra, $\\emptyset \\in \\mathcal{A}$. Similarly, $X = {\\emptyset}^c \\in \\mathcal{A}$\n",
    "    Thus $\\{\\emptyset, X\\} \\subset \\mathcal{A}$. Consider any $A \\in \\mathcal{A}$. Since $\\mathcal{A}$ is a $\\sigma$-algebra on $X$, $A \\subset X \\Rightarrow\n",
    "    A \\in \\mathcal{P}(X)$. Thus $\\mathcal{A} \\subset \\mathcal{P}(X)$. Thus $\\{\\emptyset, X\\} \\subset A \\subset \\mathcal{P}(X)$"
   ]
  },
  {
   "cell_type": "markdown",
   "metadata": {},
   "source": [
    "# Exercise 1.10 .\n",
    "Prove the following Proposition:\n",
    "Let $\\left\\{\\mathcal{S}_{\\alpha}\\right\\}$ be a family of $\\sigma$ -algebras on $\\mathrm{X} .$ Then $\\bigcap_{\\alpha} \\mathcal{S}_{\\alpha}$ is also a $\\sigma$ -algebra.\n",
    "\n",
    "\n",
    "\n",
    "1. if $\\left\\{\\mathcal{S}_{\\alpha}\\right\\}$  is a family  $\\sigma$ -algebra, then each of them contains the empty set and hence\n",
    "$\\bigcap_{\\alpha} \\mathcal{S}_{\\alpha}$ contains the empty set.\n",
    "\n",
    "2. For all elements in $\\mathscr{A}$, their complements and finite unions are contained in $\\mathscr{A}$, hence  $\\bigcap_{\\alpha} \\mathcal{S}_{\\alpha}$  also contains all its complements and finite unions \n",
    "\n",
    "3. $\\bigcap_{\\alpha} \\mathcal{S}_{\\alpha}$ is closed under countable unions:$$\n",
    "\\text { if } A_{1}, A_{2}, \\cdots \\in \\bigcap_{\\alpha} \\mathcal{S}_{\\alpha}, \\text { then } \\bigcup_{n=1}^{\\infty} A_{n} \\in \\bigcap_{\\alpha} \\mathcal{S}_{\\alpha}\n",
    "$$\n",
    "\n"
   ]
  },
  {
   "cell_type": "markdown",
   "metadata": {},
   "source": [
    "# Exercise 1.22 .\n",
    "Let $(X, \\mathcal{S}, \\mu)$ be a measure space. Prove the following:\n",
    "\n",
    "$$\n",
    "\\begin{array}{l}{\\bullet \\mu \\text { is monotone: if } A, B \\in \\mathcal{S}, A \\subset B, \\text { then } \\mu(A) \\leq \\mu(B)} \\\\ {\\bullet \\mu \\text { is countably subadditive: if }\\left\\{A_{i}\\right\\}_{i=1}^{\\infty} \\subset \\mathcal{A}, \\text { then } \\mu\\left(\\cup_{i=1}^{\\infty} A_{i}\\right) \\leq \\sum_{i=1}^{\\infty} \\mu\\left(A_{i}\\right)}\\end{array}\n",
    "$$\n",
    "\n",
    "\n",
    "\n",
    "### Part 1\n",
    "A is a subset of B. Hence $B= A \\cup (B \\backslash A$)\n",
    "\n",
    "Then: $\\mu(B)=\\mu(A)+\\mu(B \\backslash A)$ \n",
    "\n",
    "Note that $\\mu(B \\backslash A) \\ge 0$ \n",
    "\n",
    "Hence:$\\mu(B)\\ge \\mu(A)$ \n",
    "\n",
    "\n",
    "### Part 2: \n",
    "Sub-additivity: Consider 2 sets $A_1, A_2$. We can write $A_1 \\cup A_2 = ({A_1}^c \\cap A_2) \\cup ({A_2}^c \\cap A_1) \\cup (A_1 \\cap A_2)$\n",
    "    i.e as a union of disjoint sets. We then get $\\mu(A_1 \\cup A_2) = \\mu({A_1}^c \\cap A_2) + \\mu({A_2}^c \\cap A_1) + \\mu(A_1 \\cap A_2)\n",
    "    \\le \\mu({A_1}^c \\cap A_2) + \\mu(A_1 \\cap A_2) + \\mu({A_2}^c \\cap A_1) + \\mu(A_1 \\cap A_2) = \\mu(A_1) + \\mu(A_2)$. Thus we have $\\mu (A_1 \\cup A_2) \\le \\mu(A_1) + \\mu(A_2)$ This argument can then be extended to infinity\n"
   ]
  },
  {
   "cell_type": "markdown",
   "metadata": {},
   "source": [
    "# Exercise 2.10\n",
    "\n",
    "Note that: can write $B = (B \\cap E) \\cup (B \\cap E^c)$. Therefore, using sub-additivity, we have $\\mu^*(B) \\le \\mu^*(B \\cap E) + \\mu^*(B \\cap E^c)$. The inequality holds in the other direction too, hence it's an equality"
   ]
  },
  {
   "cell_type": "markdown",
   "metadata": {},
   "source": [
    "# Exercise Question 3.1\n",
    "Let $X \\subset \\mathbb R$ be a countable set. Let $x_1, x_2, x_3 ...$ be the elements of $X$. For every $\\epsilon > 0$, define, $A_n = (x_n - \\frac{\\epsilon}{2^{n+2}}, x_n + \\frac{\\epsilon}{2^{n+2}}) \\forall n \\in \\mathbb N$.\n",
    "\n",
    "\n",
    "Let $\\mu$ denote the Lebesgue Measure. Therefore $\\mu(\\bigcup_{n=1}^{n=\\infty}A_n) = \\sum_{n=1}^{n=\\infty}\\frac{\\epsilon}{2^{n+1}}$. Sum terms on the RHS:\n",
    "$\\mu(\\bigcup_{n=1}^{n=\\infty})A_n = \\epsilon /2$. Since $\\epsilon$ is arbitrary, we get $\\mu(\\bigcup_{n=1}^{n=\\infty})A_n = 0$. Now each $x_n \\in X$ also implies $x_n \\in A_n$ as $A_n$ has been defined in a manner that includes $x_n$.\n",
    "\n",
    "\n",
    "Thus $X \\subset \\bigcup_{n=1}^{n=\\infty}A_n$. By monotonicity: $\\mu(X) \\le \\mu(\\bigcup_{n=1}^{n=\\infty}A_n) = 0$. Thus $\\mu(X) = 0$ since the range of $\\mu$ is non-negative.\n"
   ]
  },
  {
   "cell_type": "markdown",
   "metadata": {},
   "source": [
    "# Sorry Jan, there are too many questions! I'll stop here. "
   ]
  }
 ],
 "metadata": {
  "kernelspec": {
   "display_name": "Python 3",
   "language": "python",
   "name": "python3"
  },
  "language_info": {
   "codemirror_mode": {
    "name": "ipython",
    "version": 3
   },
   "file_extension": ".py",
   "mimetype": "text/x-python",
   "name": "python",
   "nbconvert_exporter": "python",
   "pygments_lexer": "ipython3",
   "version": "3.7.3"
  }
 },
 "nbformat": 4,
 "nbformat_minor": 2
}
