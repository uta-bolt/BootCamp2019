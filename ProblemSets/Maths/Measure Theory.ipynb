{
 "cells": [
  {
   "cell_type": "markdown",
   "metadata": {},
   "source": [
    "'' Exercise $1.7 .$ Explain why these are the 'largest' and 'smallest' possible $\\sigma$ -algebras,\n",
    "respectively, in the following sense: if $\\mathcal{A}$ is any $\\sigma$ -algebra, then $\\{\\emptyset, X\\} \\subset \\mathcal{A} \\subset \\mathcal{P}(X) .$ ''\n",
    "\n",
    "Because any $\\sigma$ -algebra contains $\\{\\emptyset\\} $ and all open sets of $X$ and the power set contains $\\{\\emptyset\\} $, $X$, and all subsets of $X$"
   ]
  },
  {
   "cell_type": "code",
   "execution_count": null,
   "metadata": {},
   "outputs": [],
   "source": []
  },
  {
   "cell_type": "code",
   "execution_count": null,
   "metadata": {},
   "outputs": [],
   "source": []
  },
  {
   "cell_type": "code",
   "execution_count": null,
   "metadata": {},
   "outputs": [],
   "source": []
  },
  {
   "cell_type": "markdown",
   "metadata": {},
   "source": [
    "'' Exercise $1.10 .$ Prove the following Proposition:\n",
    "Let $\\left\\{\\mathcal{S}_{\\alpha}\\right\\}$ be a family of $\\sigma$ -algebras on $\\mathrm{X} .$ Then $\\bigcap_{\\alpha} \\mathcal{S}_{\\alpha}$ is also a $\\sigma$ -algebra.''\n",
    "\n",
    "\n",
    "1. if $\\left\\{\\mathcal{S}_{\\alpha}\\right\\}$  is a family  $\\sigma$ -algebra, then each of them contains the empty set and hence\n",
    "$\\bigcap_{\\alpha} \\mathcal{S}_{\\alpha}$ contains the empty set.\n",
    "\n",
    "2. For all elements in $\\mathscr{A}$, their complements and finite unions are contained in $\\mathscr{A}$, hence  $\\bigcap_{\\alpha} \\mathcal{S}_{\\alpha}$  also contains all its complements and finite unions \n",
    "\n",
    "3. $\\bigcap_{\\alpha} \\mathcal{S}_{\\alpha}$ is closed under countable unions:$$\n",
    "\\text { if } A_{1}, A_{2}, \\cdots \\in \\bigcap_{\\alpha} \\mathcal{S}_{\\alpha}, \\text { then } \\bigcup_{n=1}^{\\infty} A_{n} \\in \\bigcap_{\\alpha} \\mathcal{S}_{\\alpha}\n",
    "$$\n",
    "\n"
   ]
  },
  {
   "cell_type": "markdown",
   "metadata": {},
   "source": [
    "'' Exercise $1.22 .$ Let $(X, \\mathcal{S}, \\mu)$ be a measure space. Prove the following:\n",
    "\n",
    "$$\n",
    "\\begin{array}{l}{\\bullet \\mu \\text { is monotone: if } A, B \\in \\mathcal{S}, A \\subset B, \\text { then } \\mu(A) \\leq \\mu(B)} \\\\ {\\bullet \\mu \\text { is countably subadditive: if }\\left\\{A_{i}\\right\\}_{i=1}^{\\infty} \\subset \\mathcal{A}, \\text { then } \\mu\\left(\\cup_{i=1}^{\\infty} A_{i}\\right) \\leq \\sum_{i=1}^{\\infty} \\mu\\left(A_{i}\\right)}\\end{array}\n",
    "$$''\n",
    "\n",
    "### Part 1\n",
    "A is a subset of B. Hence $B= A \\cup (B \\backslash A$)\n",
    "\n",
    "Then: $\\mu(B)=\\mu(A)+\\mu(B \\backslash A)$ \n",
    "\n",
    "Note that $\\mu(B \\backslash A) \\ge 0$ \n",
    "\n",
    "Hence:$\\mu(B)\\ge \\mu(A)$ \n",
    "\n",
    "\n",
    "### Part 2: \n",
    "suppose $\\mu \\text { is countably subadditive: if }\\left\\{A_{i}\\right\\}_{i=1}^{\\infty} \\subset \\mathcal{A}, \\text { then } \\mu\\left(\\cup_{i=1}^{\\infty} A_{i}\\right) \\greater \\sum_{i=1}^{\\infty} \\mu\\left(A_{i}\\right)$"
   ]
  },
  {
   "cell_type": "code",
   "execution_count": null,
   "metadata": {},
   "outputs": [],
   "source": []
  },
  {
   "cell_type": "code",
   "execution_count": null,
   "metadata": {},
   "outputs": [],
   "source": []
  },
  {
   "cell_type": "code",
   "execution_count": null,
   "metadata": {},
   "outputs": [],
   "source": []
  },
  {
   "cell_type": "code",
   "execution_count": null,
   "metadata": {},
   "outputs": [],
   "source": []
  }
 ],
 "metadata": {
  "kernelspec": {
   "display_name": "Python 3",
   "language": "python",
   "name": "python3"
  },
  "language_info": {
   "codemirror_mode": {
    "name": "ipython",
    "version": 3
   },
   "file_extension": ".py",
   "mimetype": "text/x-python",
   "name": "python",
   "nbconvert_exporter": "python",
   "pygments_lexer": "ipython3",
   "version": "3.7.3"
  }
 },
 "nbformat": 4,
 "nbformat_minor": 2
}
