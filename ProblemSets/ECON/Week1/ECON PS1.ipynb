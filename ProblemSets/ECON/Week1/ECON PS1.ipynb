{
 "cells": [
  {
   "cell_type": "code",
   "execution_count": 1,
   "metadata": {},
   "outputs": [],
   "source": [
    "import scipy as scipy\n",
    "from scipy import stats\n",
    "from scipy.stats import norm\n",
    "import numpy as np\n",
    "from matplotlib import pyplot as plt\n",
    "import scipy.optimize\n",
    "from scipy.optimize import root\n",
    "from scipy.integrate import quad\n",
    "from matplotlib import pyplot as plt\n",
    "from scipy.interpolate import CubicSpline"
   ]
  },
  {
   "cell_type": "markdown",
   "metadata": {},
   "source": [
    "FOC wrt $x_1^h$:\n",
    "\n",
    "\n",
    "$-(e_0^h-x_1^hp_1-x_2^hp_2)^{-\\gamma}p_1+0.25 \\sum_{S=1}^4(e^h(s)+x_1^hA_1(s)+x_2^h(s))^{-\\gamma}A_1(s)=0$\n",
    "\n",
    "FOC wrt $x_2^h$:\n",
    "\n",
    "\n",
    "$-(e_0^h-x_1^hp_1-x_2^hp_2)^{-\\gamma}p_2+0.25 \\sum_{S=1}^4(e^h(s)+x_1^hA_1(s)+x_2^h(s))^{-\\gamma}A_2(s)=0$\\\n",
    "\n",
    "Market clearing:\n",
    "\n",
    "$x_1^1+x_1^2=0$\n",
    "\n",
    "$x_2^1+x_2^2=0$"
   ]
  },
  {
   "cell_type": "code",
   "execution_count": 2,
   "metadata": {},
   "outputs": [],
   "source": [
    "#set gamma\n",
    "gamma=2\n",
    "#Payoffs from assets:\n",
    "A1=np.array([1,1,1,1])\n",
    "A2=np.array([1,1,1.5,1.5])\n",
    "#Endowments:\n",
    "e0h1=1\n",
    "e0h2=1\n",
    "eh1=np.array([1,2,1,2])\n",
    "eh2=np.array([3,1,3,1])"
   ]
  },
  {
   "cell_type": "code",
   "execution_count": 3,
   "metadata": {},
   "outputs": [],
   "source": [
    "def fun(x):\n",
    "    #Parameters we need to solve for: \n",
    "    #x1h1 x1h2 x2h1 x2h2\n",
    "    #System of Equations: \n",
    "    #Household 1\n",
    "    #FOC wrt x1h\n",
    "    #x=[x1h1, x2h1,x1h2, x2h2,p1,p2]\n",
    "    x1h1=x[0]\n",
    "    x2h1=x[1]\n",
    "    x1h2=x[2]\n",
    "    x2h2=x[3]\n",
    "    p1=x[4]\n",
    "    p2=x[5]\n",
    "    return \\\n",
    "     [0.25*(eh1[0]+x1h1*A1[0]+x2h1*A2[0])**(-gamma)*A1[0]+ #s0\n",
    "     0.25*(eh1[1]+x1h1*A1[1]+x2h1*A2[1])**(-gamma)*A1[1]+ #s1\n",
    "     0.25*(eh1[2]+x1h1*A1[2]+x2h1*A2[2])**(-gamma)*A1[2]+ #s2\n",
    "     0.25*(eh1[3]+x1h1*A1[3]+x2h1*A2[3])**(-gamma)*A1[3]-  \n",
    "     (e0h1-x1h1*p1-x2h1*p2)**(-gamma)*p1,\n",
    "    #FOC wrt x2h\n",
    "     0.25*(eh1[0]+x1h1*A1[0]+x2h1*A2[0])**(-gamma)*A2[0]+ #0\n",
    "     0.25*(eh1[1]+x1h1*A1[1]+x2h1*A2[1])**(-gamma)*A2[1]+ #1\n",
    "     0.25*(eh1[2]+x1h1*A1[2]+x2h1*A2[2])**(-gamma)*A2[2]+ #2\n",
    "     0.25*(eh1[3]+x1h1*A1[3]+x2h1*A2[3])**(-gamma)*A2[3]- \n",
    "    (e0h1-x1h1*p1-x2h1*p2)**(-gamma)*p2,\n",
    "    #Household 2\n",
    "     0.25*(eh2[0]+x1h2*A1[0]+x2h2*A2[0])**(-gamma)*A1[0]+ #0\n",
    "     0.25*(eh2[1]+x1h2*A1[1]+x2h2*A2[1])**(-gamma)*A1[1]+ #1\n",
    "     0.25*(eh2[2]+x1h2*A1[2]+x2h2*A2[2])**(-gamma)*A1[2]+ #2\n",
    "     0.25*(eh2[3]+x1h2*A1[3]+x2h2*A2[3])**(-gamma)*A1[3]-\n",
    "    (e0h2-x1h2*p1-x2h2*p2)**(-gamma)*p1,\n",
    "    #FOC wrt x2h\n",
    "     0.25*(eh2[0]+x1h2*A1[0]+x2h2*A2[0])**(-gamma)*A2[0]+ #0\n",
    "     0.25*(eh2[1]+x1h2*A1[1]+x2h2*A2[1])**(-gamma)*A2[1]+ #1\n",
    "     0.25*(eh2[2]+x1h2*A1[2]+x2h2*A2[2])**(-gamma)*A2[2]+ #2\n",
    "     0.25*(eh2[3]+x1h2*A1[3]+x2h2*A2[3])**(-gamma)*A2[3]- \n",
    "    (e0h2-x1h2*p1-x2h2*p2)**(-gamma)*p2,\n",
    "    #Market clearing: \n",
    "    x1h1+x1h2,\n",
    "    x2h1+x2h2]"
   ]
  },
  {
   "cell_type": "code",
   "execution_count": 4,
   "metadata": {},
   "outputs": [
    {
     "name": "stdout",
     "output_type": "stream",
     "text": [
      "[ 1.95406656e-02 -1.58606804e-12 -1.95406656e-02  1.58606804e-12\n",
      "  5.89777656e-01  7.37222070e-01]\n"
     ]
    }
   ],
   "source": [
    "sol=scipy.optimize.root(fun, [0.5,0.5,0.5, 0.5,0.5,0.5])\n",
    "print(sol.x)"
   ]
  },
  {
   "cell_type": "code",
   "execution_count": 5,
   "metadata": {},
   "outputs": [
    {
     "name": "stdout",
     "output_type": "stream",
     "text": [
      "[ 4.02982343e-03  1.59618428e-10 -4.02982343e-03 -1.59618428e-10\n",
      "  5.18661303e-01  6.48326628e-01]\n"
     ]
    }
   ],
   "source": [
    "gamma=4\n",
    "sol=scipy.optimize.root(fun, [0.5,0.5,0.5, 0.5,0.5,0.5])\n",
    "print(sol.x)"
   ]
  },
  {
   "cell_type": "code",
   "execution_count": 6,
   "metadata": {},
   "outputs": [
    {
     "name": "stdout",
     "output_type": "stream",
     "text": [
      "[ 1.56094144e-04  2.42864169e-12 -1.56094144e-04 -2.42864169e-12\n",
      "  5.01014401e-01  6.26268001e-01]\n"
     ]
    }
   ],
   "source": [
    "gamma=8\n",
    "sol=scipy.optimize.root(fun, [0.5,0.5,0.5, 0.5,0.5,0.5])\n",
    "print(sol.x)"
   ]
  },
  {
   "cell_type": "code",
   "execution_count": 7,
   "metadata": {},
   "outputs": [
    {
     "name": "stdout",
     "output_type": "stream",
     "text": [
      "[ 392.77467319 -392.85218208 -392.77603894  392.8508168     0.89221453\n",
      "    0.89185927]\n"
     ]
    }
   ],
   "source": [
    "gamma=166\n",
    "sol=scipy.optimize.root(fun, [0.5,0.5,0.5, 0.5,0.5,0.5])\n",
    "print(sol.x)"
   ]
  },
  {
   "cell_type": "markdown",
   "metadata": {},
   "source": [
    "If risk aversion is low, then there's basically no trade."
   ]
  },
  {
   "cell_type": "markdown",
   "metadata": {},
   "source": [
    "# Ramsey 1"
   ]
  },
  {
   "cell_type": "code",
   "execution_count": null,
   "metadata": {},
   "outputs": [],
   "source": []
  },
  {
   "cell_type": "code",
   "execution_count": 2,
   "metadata": {},
   "outputs": [],
   "source": [
    "#Initialize the problem:\n",
    "beta=0.9\n",
    "pi=0.5\n",
    "sgrid=[1,2]\n",
    "tolForFixedPoint=0.001\n",
    "max_iterations=500"
   ]
  },
  {
   "cell_type": "code",
   "execution_count": 3,
   "metadata": {},
   "outputs": [],
   "source": [
    "def objectivefun(EV1,K,K1,S):\n",
    "    if S==1:\n",
    "        c=0.9*K**0.3+0.3*K-K1\n",
    "    else:\n",
    "        c=1.1*K**0.3+0.9*K-K1\n",
    "    value= np.zeros_like(c)\n",
    "    value[c<=0]=-1000000\n",
    "    value[c>0]=np.log(c[c>0])+beta*EV1[c>0] \n",
    "    return value"
   ]
  },
  {
   "cell_type": "code",
   "execution_count": 4,
   "metadata": {},
   "outputs": [],
   "source": [
    "def V(grid_size):    \n",
    "    kgrid=np.linspace(0.001,1,grid_size)\n",
    "    EV1  = np.zeros(len(kgrid))   \n",
    "    diff=1\n",
    "    ixiter=0\n",
    "    V=np.empty([len(kgrid),len(kgrid)])\n",
    "    policy  = np.empty([len(kgrid),2])\n",
    "    \n",
    "    K1=np.linspace(0.001,1,len(kgrid))\n",
    "    \n",
    "    for ixiter  in range(max_iterations): \n",
    "        EV = np.zeros(len(kgrid))\n",
    "        for ii, K in enumerate(kgrid): \n",
    "            #K=kgrid[ki]\n",
    "            for jj, S in enumerate(sgrid): \n",
    "                #S=sgrid[sj]\n",
    "                \n",
    "                Vvalue=objectivefun(EV1,K,K1,S)\n",
    "\n",
    "                optval=np.amax(Vvalue)\n",
    "                policy[ii,jj]=kgrid[np.argmax(Vvalue)]\n",
    "                V[ii,jj]=optval\n",
    "                \n",
    "            EV[ii]=pi* V[ii,0]+pi* V[ii,1]\n",
    "\n",
    "        diff=np.amax(abs(EV1 - EV))\n",
    "\n",
    "        EV1=np.copy(EV)\n",
    "        if diff < tolForFixedPoint:\n",
    "            break\n",
    "    print(ixiter)\n",
    "    return policy, V\n"
   ]
  },
  {
   "cell_type": "code",
   "execution_count": 5,
   "metadata": {},
   "outputs": [
    {
     "name": "stdout",
     "output_type": "stream",
     "text": [
      "61\n"
     ]
    }
   ],
   "source": [
    "grid_size=500\n",
    "policy, Val  =V(grid_size)\n",
    "kgrid=np.linspace(0.001,10,grid_size)"
   ]
  },
  {
   "cell_type": "code",
   "execution_count": 6,
   "metadata": {},
   "outputs": [
    {
     "data": {
      "text/plain": [
       "Text(0.5, 1.0, 'Policy function')"
      ]
     },
     "execution_count": 6,
     "metadata": {},
     "output_type": "execute_result"
    },
    {
     "data": {
      "image/png": "[encoded data removed]",
      "text/plain": [
       "<Figure size 432x288 with 1 Axes>"
      ]
     },
     "metadata": {
      "needs_background": "light"
     },
     "output_type": "display_data"
    }
   ],
   "source": [
    "plt.plot(kgrid, policy[:,0], label=\"bad state\")\n",
    "plt.plot(kgrid, policy[:,1], label=\"good state\")\n",
    "plt.legend(loc=\"upper left\")\n",
    "plt.title(\"Policy function\")"
   ]
  },
  {
   "cell_type": "code",
   "execution_count": 7,
   "metadata": {},
   "outputs": [
    {
     "data": {
      "text/plain": [
       "Text(0.5, 1.0, 'Value function')"
      ]
     },
     "execution_count": 7,
     "metadata": {},
     "output_type": "execute_result"
    },
    {
     "data": {
      "image/png": "[encoded data removed]",
      "text/plain": [
       "<Figure size 432x288 with 1 Axes>"
      ]
     },
     "metadata": {
      "needs_background": "light"
     },
     "output_type": "display_data"
    }
   ],
   "source": [
    "plt.plot(kgrid, Val[:,0], label=\"bad state\")\n",
    "plt.plot(kgrid, Val[:,1], label=\"good state\")\n",
    "plt.legend(loc=\"upper left\")\n",
    "plt.title(\"Value function\")"
   ]
  },
  {
   "cell_type": "markdown",
   "metadata": {},
   "source": [
    "# Problem 4"
   ]
  },
  {
   "cell_type": "code",
   "execution_count": 8,
   "metadata": {},
   "outputs": [],
   "source": [
    "#Initialize the problem:\n",
    "beta=0.9\n",
    "pi=0.5\n",
    "sgrid=[1,2]\n",
    "tolForFixedPoint=0.001\n",
    "max_iterations=200"
   ]
  },
  {
   "cell_type": "code",
   "execution_count": 9,
   "metadata": {},
   "outputs": [],
   "source": [
    "def fk(K,S):\n",
    "    if S==1:\n",
    "        f=0.9*K**0.3+0.3*K\n",
    "        fder=0.3*0.9*K**(-0.7)+0.3\n",
    "    else:\n",
    "        f=1.1*K**0.3+0.9*K\n",
    "        fder=0.3*1.1*K**(-0.7)+0.9 \n",
    "    return f,fder"
   ]
  },
  {
   "cell_type": "code",
   "execution_count": 10,
   "metadata": {},
   "outputs": [],
   "source": [
    "def timeiter():    \n",
    "    numpts=30\n",
    "    mingrid=.2\n",
    "    maxgrid=2\n",
    "    kgrid=np.linspace(mingrid,maxgrid,numpts)\n",
    "    diff=1\n",
    "    ixiter=0\n",
    "    V=np.empty([len(kgrid),len(kgrid)])\n",
    "    policygrid=np.linspace(mingrid,maxgrid,numpts)\n",
    "    policyguess1  = np.linspace(mingrid,maxgrid,numpts)\n",
    "    policyguess2  = np.linspace(mingrid,maxgrid,numpts)\n",
    "    Kprime=np.empty([len(kgrid),2])\n",
    "    k1guess=mingrid*np.ones([len(kgrid),2])\n",
    "    err=np.zeros([len(kgrid),2])\n",
    "    for ixiter  in range(max_iterations): \n",
    "        EV = np.zeros(len(kgrid))\n",
    "        for ii, K in enumerate(kgrid): \n",
    "            #K=kgrid[ki]\n",
    "            for jj, S in enumerate(sgrid): \n",
    "                #S=sgrid[sj]\n",
    "                def eulereq(K1):\n",
    "                    f, fder=fk(K,S)\n",
    "                    f1k1,f1der=fk(K1,1)\n",
    "                    f2k1, f2der=fk(K1,2)\n",
    "                    c=f-K1\n",
    "                    cprime1=f1k1-np.interp(K1, policygrid, policyguess1)\n",
    "                    cprime2=f2k1-np.interp(K1, policygrid, policyguess2)\n",
    "                    ee=1/c-beta*pi*(f1der*(1/cprime1)+f2der*(1/cprime2)) \n",
    "                    ee[c<=0]=500\n",
    "                    ee[cprime1<=0]=500\n",
    "                    ee[cprime2<=0]=500\n",
    "                    return ee\n",
    "                root=scipy.optimize.root(eulereq, k1guess[ii,jj])\n",
    "#                print(root.x)\n",
    "                Kprime[ii,jj]=root.x\n",
    "                err[ii,jj]=eulereq(root.x)\n",
    "#                print(err[ii,jj])\n",
    "#                 Vvalue=objectivefun(EV1,K,K1,S)\n",
    "#                 optval=np.amax(Vvalue)\n",
    "#                 policy[ii,jj]=kgrid[np.argmax(Vvalue)]\n",
    "#                 V[ii,jj]=optval              \n",
    "#            EV[ii]=pi* V[ii,0]+pi* V[ii,1]\n",
    "        diff=np.amax(abs(err))\n",
    "    #    print(err)\n",
    "        policyguess1=Kprime[:,0]\n",
    "        policyguess2=Kprime[:,1]\n",
    "        k1guess[ii,jj]=Kprime[ii,jj]\n",
    "        if diff < tolForFixedPoint:\n",
    "            break\n",
    "    print(ixiter)\n",
    "    plt.plot(kgrid, policyguess1)\n",
    "    plt.plot(kgrid, policyguess2)\n",
    "    plt.plot(kgrid, kgrid)\n",
    "    \n",
    "    return policyguess1, policyguess2\n"
   ]
  },
  {
   "cell_type": "code",
   "execution_count": 11,
   "metadata": {},
   "outputs": [
    {
     "name": "stdout",
     "output_type": "stream",
     "text": [
      "7\n"
     ]
    },
    {
     "data": {
      "image/png": "[encoded data removed]",
      "text/plain": [
       "<Figure size 432x288 with 1 Axes>"
      ]
     },
     "metadata": {
      "needs_background": "light"
     },
     "output_type": "display_data"
    }
   ],
   "source": [
    "pg1,pg2=timeiter()"
   ]
  },
  {
   "cell_type": "markdown",
   "metadata": {},
   "source": [
    "# Now change beta and the utility function\n"
   ]
  },
  {
   "cell_type": "code",
   "execution_count": 12,
   "metadata": {},
   "outputs": [
    {
     "name": "stdout",
     "output_type": "stream",
     "text": [
      "6\n"
     ]
    },
    {
     "data": {
      "image/png": "[encoded data removed]",
      "text/plain": [
       "<Figure size 432x288 with 1 Axes>"
      ]
     },
     "metadata": {
      "needs_background": "light"
     },
     "output_type": "display_data"
    }
   ],
   "source": [
    "beta=0.999\n",
    "pg1,pg2=timeiter()"
   ]
  },
  {
   "cell_type": "markdown",
   "metadata": {},
   "source": [
    "Even with high beta it converges quickly"
   ]
  },
  {
   "cell_type": "code",
   "execution_count": 13,
   "metadata": {},
   "outputs": [],
   "source": [
    "def timeiter():    \n",
    "    numpts=30\n",
    "    mingrid=.2\n",
    "    maxgrid=2\n",
    "    kgrid=np.linspace(mingrid,maxgrid,numpts)\n",
    "    diff=1\n",
    "    ixiter=0\n",
    "    V=np.empty([len(kgrid),len(kgrid)])\n",
    "    policygrid=np.linspace(mingrid,maxgrid,numpts)\n",
    "    policyguess1  = np.linspace(mingrid,maxgrid,numpts)\n",
    "    policyguess2  = np.linspace(mingrid,maxgrid,numpts)\n",
    "    Kprime=np.empty([len(kgrid),2])\n",
    "    k1guess=mingrid*np.ones([len(kgrid),2])\n",
    "    err=np.zeros([len(kgrid),2])\n",
    "    for ixiter  in range(max_iterations): \n",
    "        EV = np.zeros(len(kgrid))\n",
    "        for ii, K in enumerate(kgrid): \n",
    "            #K=kgrid[ki]\n",
    "            for jj, S in enumerate(sgrid): \n",
    "                #S=sgrid[sj]\n",
    "                def eulereq(K1):\n",
    "                    f, fder=fk(K,S)\n",
    "                    f1k1,f1der=fk(K1,1)\n",
    "                    f2k1, f2der=fk(K1,2)\n",
    "                    c=f-K1\n",
    "                    cprime1=f1k1-np.interp(K1, policygrid, policyguess1)\n",
    "                    cprime2=f2k1-np.interp(K1, policygrid, policyguess2)\n",
    "                    ee=(4*c**-5)-beta*pi*(f1der*(4*cprime1**-5)+f2der*(4*cprime2**-5)) \n",
    "                    ee[c<=0]=500\n",
    "                    ee[cprime1<=0]=500\n",
    "                    ee[cprime2<=0]=500\n",
    "                    return ee\n",
    "                root=scipy.optimize.root(eulereq, k1guess[ii,jj])\n",
    "#                print(root.x)\n",
    "                Kprime[ii,jj]=root.x\n",
    "                err[ii,jj]=eulereq(root.x)\n",
    "#                print(err[ii,jj])\n",
    "#                 Vvalue=objectivefun(EV1,K,K1,S)\n",
    "#                 optval=np.amax(Vvalue)\n",
    "#                 policy[ii,jj]=kgrid[np.argmax(Vvalue)]\n",
    "#                 V[ii,jj]=optval              \n",
    "#            EV[ii]=pi* V[ii,0]+pi* V[ii,1]\n",
    "        diff=np.amax(abs(err))\n",
    "    #    print(err)\n",
    "        policyguess1=Kprime[:,0]\n",
    "        policyguess2=Kprime[:,1]\n",
    "        k1guess[ii,jj]=Kprime[ii,jj]\n",
    "        if diff < tolForFixedPoint:\n",
    "            break\n",
    "    print(ixiter)\n",
    "    plt.plot(kgrid, policyguess1)\n",
    "    plt.plot(kgrid, policyguess2)\n",
    "    return policyguess1, policyguess2\n"
   ]
  },
  {
   "cell_type": "code",
   "execution_count": 14,
   "metadata": {},
   "outputs": [
    {
     "name": "stdout",
     "output_type": "stream",
     "text": [
      "21\n"
     ]
    },
    {
     "data": {
      "image/png": "[encoded data removed]",
      "text/plain": [
       "<Figure size 432x288 with 1 Axes>"
      ]
     },
     "metadata": {
      "needs_background": "light"
     },
     "output_type": "display_data"
    }
   ],
   "source": [
    "pg1,pg2=timeiter()"
   ]
  },
  {
   "cell_type": "markdown",
   "metadata": {},
   "source": [
    "# Now use a polynomial of degree 5"
   ]
  },
  {
   "cell_type": "code",
   "execution_count": 15,
   "metadata": {},
   "outputs": [],
   "source": [
    "#Initialize the problem:\n",
    "beta=0.9\n",
    "pi=0.5\n",
    "sgrid=[1,2]\n",
    "tolForFixedPoint=0.001\n",
    "max_iterations=100"
   ]
  },
  {
   "cell_type": "code",
   "execution_count": 16,
   "metadata": {},
   "outputs": [],
   "source": [
    "def timeiter_poly():    \n",
    "    numpts=30\n",
    "    mingrid=.2\n",
    "    maxgrid=2\n",
    "    kgrid=np.linspace(mingrid,maxgrid,numpts)\n",
    "    diff=1\n",
    "    ixiter=0\n",
    "    V=np.empty([len(kgrid),len(kgrid)])\n",
    "    policygrid=np.linspace(mingrid,maxgrid,numpts)\n",
    "    policyguess1  = np.linspace(mingrid,maxgrid,numpts)\n",
    "    policyguess2  = np.linspace(mingrid,maxgrid,numpts)\n",
    "    Kprime=np.empty([len(kgrid),2])\n",
    "    k1guess=mingrid*np.ones([len(kgrid),2])\n",
    "    err=np.zeros([len(kgrid),2])\n",
    "    for ixiter  in range(max_iterations): \n",
    "        EV = np.zeros(len(kgrid))\n",
    "        for ii, K in enumerate(kgrid): \n",
    "            #K=kgrid[ki]\n",
    "            for jj, S in enumerate(sgrid): \n",
    "                #S=sgrid[sj]\n",
    "                def eulereq(K1):\n",
    "                    f, fder=fk(K,S)\n",
    "                    f1k1,f1der=fk(K1,1)\n",
    "                    f2k1, f2der=fk(K1,2)\n",
    "                    c=f-K1\n",
    "                    coeffs1=np.polyfit(policygrid, policyguess1, 5)\n",
    "                    poly1 = np.poly1d(coeffs1)\n",
    "                    coeffs2=np.polyfit(policygrid, policyguess2, 5)\n",
    "                    poly2 = np.poly1d(coeffs2)\n",
    "                    cprime1=f1k1-poly1(K1)\n",
    "                    cprime2=f2k1-poly2(K1)\n",
    "                    ee=1/c-beta*pi*(f1der*(1/cprime1)+f2der*(1/cprime2)) \n",
    "                    ee[c<=0]=500\n",
    "                    ee[cprime1<=0]=500\n",
    "                    ee[cprime2<=0]=500\n",
    "                    return ee\n",
    "                root=scipy.optimize.root(eulereq, k1guess[ii,jj])\n",
    "#                print(root.x)\n",
    "                Kprime[ii,jj]=root.x\n",
    "                err[ii,jj]=eulereq(root.x)\n",
    "#                print(err[ii,jj])\n",
    "#                 Vvalue=objectivefun(EV1,K,K1,S)\n",
    "#                 optval=np.amax(Vvalue)\n",
    "#                 policy[ii,jj]=kgrid[np.argmax(Vvalue)]\n",
    "#                 V[ii,jj]=optval              \n",
    "#            EV[ii]=pi* V[ii,0]+pi* V[ii,1]\n",
    "        diff=np.amax(abs(err))\n",
    "    #    print(err)\n",
    "        policyguess1=Kprime[:,0]\n",
    "        policyguess2=Kprime[:,1]\n",
    "        k1guess[ii,jj]=Kprime[ii,jj]\n",
    "        if diff < tolForFixedPoint:\n",
    "            break\n",
    "    print(ixiter)\n",
    "    plt.plot(kgrid, policyguess1)\n",
    "    plt.plot(kgrid, policyguess2)\n",
    "    return policyguess1, policyguess2\n"
   ]
  },
  {
   "cell_type": "code",
   "execution_count": 17,
   "metadata": {},
   "outputs": [
    {
     "name": "stdout",
     "output_type": "stream",
     "text": [
      "6\n"
     ]
    },
    {
     "data": {
      "image/png": "[encoded data removed]",
      "text/plain": [
       "<Figure size 432x288 with 1 Axes>"
      ]
     },
     "metadata": {
      "needs_background": "light"
     },
     "output_type": "display_data"
    }
   ],
   "source": [
    "pg1,pg2=timeiter_poly()"
   ]
  },
  {
   "cell_type": "markdown",
   "metadata": {},
   "source": [
    "# Now use cubic splines"
   ]
  },
  {
   "cell_type": "code",
   "execution_count": 18,
   "metadata": {},
   "outputs": [],
   "source": [
    "#Initialize the problem:\n",
    "beta=0.9\n",
    "pi=0.5\n",
    "sgrid=[1,2]\n",
    "tolForFixedPoint=0.001\n",
    "max_iterations=200"
   ]
  },
  {
   "cell_type": "code",
   "execution_count": 19,
   "metadata": {},
   "outputs": [],
   "source": [
    "def timeiter_cubic():    \n",
    "    numpts=30\n",
    "    mingrid=.2\n",
    "    maxgrid=2\n",
    "    kgrid=np.linspace(mingrid,maxgrid,numpts)\n",
    "    diff=1\n",
    "    ixiter=0\n",
    "    V=np.empty([len(kgrid),len(kgrid)])\n",
    "    policygrid=np.linspace(mingrid,maxgrid,numpts)\n",
    "    policyguess1  = np.linspace(mingrid,maxgrid,numpts)\n",
    "    policyguess2  = np.linspace(mingrid,maxgrid,numpts)\n",
    "    Kprime=np.empty([len(kgrid),2])\n",
    "    k1guess=mingrid*np.ones([len(kgrid),2])\n",
    "    err=np.zeros([len(kgrid),2])\n",
    "    for ixiter  in range(max_iterations): \n",
    "        EV = np.zeros(len(kgrid))\n",
    "        for ii, K in enumerate(kgrid): \n",
    "            #K=kgrid[ki]\n",
    "            for jj, S in enumerate(sgrid): \n",
    "                #S=sgrid[sj]\n",
    "                def eulereq(K1):\n",
    "                    f, fder=fk(K,S)\n",
    "                    f1k1,f1der=fk(K1,1)\n",
    "                    f2k1, f2der=fk(K1,2)\n",
    "                    c=f-K1\n",
    "                    poly1=scipy.interpolate.CubicSpline(policygrid, policyguess1, extrapolate=bool)\n",
    "                    poly2=scipy.interpolate.CubicSpline(policygrid, policyguess2, extrapolate=bool)\n",
    "                    cprime1=f1k1-poly1(K1)\n",
    "                    cprime2=f2k1-poly2(K1)\n",
    "                    ee=1/c-beta*pi*(f1der*(1/cprime1)+f2der*(1/cprime2)) \n",
    "                    ee[c<=0]=500\n",
    "                    ee[cprime1<=0]=500\n",
    "                    ee[cprime2<=0]=500\n",
    "                    return ee\n",
    "                root=scipy.optimize.root(eulereq, k1guess[ii,jj])\n",
    "#                print(root.x)\n",
    "                Kprime[ii,jj]=root.x\n",
    "                err[ii,jj]=eulereq(root.x)\n",
    "#                print(err[ii,jj])\n",
    "#                 Vvalue=objectivefun(EV1,K,K1,S)\n",
    "#                 optval=np.amax(Vvalue)\n",
    "#                 policy[ii,jj]=kgrid[np.argmax(Vvalue)]\n",
    "#                 V[ii,jj]=optval              \n",
    "#            EV[ii]=pi* V[ii,0]+pi* V[ii,1]\n",
    "        diff=np.amax(abs(err))\n",
    "    #    print(err)\n",
    "        policyguess1=Kprime[:,0]\n",
    "        policyguess2=Kprime[:,1]\n",
    "        k1guess[ii,jj]=Kprime[ii,jj] \n",
    "        if diff < tolForFixedPoint:\n",
    "            break\n",
    "    print(ixiter)\n",
    "    plt.plot(kgrid, policyguess1)\n",
    "    plt.plot(kgrid, policyguess2)\n",
    "    return policyguess1, policyguess2\n"
   ]
  },
  {
   "cell_type": "code",
   "execution_count": 20,
   "metadata": {},
   "outputs": [
    {
     "name": "stdout",
     "output_type": "stream",
     "text": [
      "7\n"
     ]
    },
    {
     "data": {
      "image/png": "[encoded data removed]",
      "text/plain": [
       "<Figure size 432x288 with 1 Axes>"
      ]
     },
     "metadata": {
      "needs_background": "light"
     },
     "output_type": "display_data"
    }
   ],
   "source": [
    "pg1,pg2=timeiter_cubic()"
   ]
  },
  {
   "cell_type": "markdown",
   "metadata": {},
   "source": [
    "# Q 4 b"
   ]
  },
  {
   "cell_type": "markdown",
   "metadata": {},
   "source": []
  },
  {
   "cell_type": "code",
   "execution_count": 210,
   "metadata": {},
   "outputs": [],
   "source": [
    "#Initialize the problem:\n",
    "beta=0.9\n",
    "pi=0.5\n",
    "tolForFixedPoint=0.001\n",
    "max_iterations=100"
   ]
  },
  {
   "cell_type": "code",
   "execution_count": 211,
   "metadata": {},
   "outputs": [],
   "source": [
    "def fk(K,A1):\n",
    "        f=np.exp(A1)*K**0.3+0.5*K\n",
    "        fder=0.3*np.exp(A1)*K**(-0.7)+0.5\n",
    "        return f,fder"
   ]
  },
  {
   "cell_type": "code",
   "execution_count": 212,
   "metadata": {},
   "outputs": [],
   "source": [
    "def timeiter_prodshock():    \n",
    "    numapts=10\n",
    "    numpts=30\n",
    "    mingrid=0.2\n",
    "    maxgrid=10\n",
    "    mina=-1\n",
    "    maxa=1\n",
    "    agrid=np.linspace(mina,maxa,numapts)\n",
    "    kgrid=np.linspace(mingrid,maxgrid,numpts)\n",
    "    diff=1\n",
    "    ixiter=0\n",
    "    V=np.empty([len(kgrid),len(kgrid)])\n",
    "    policygrid,jk  = np.meshgrid(kgrid, agrid)\n",
    "    policygrid=np.transpose(policygrid)\n",
    "    policyguess1  = policygrid\n",
    "    Kprime=np.empty([len(kgrid),len(agrid)])\n",
    "    k1guess=mingrid*np.ones([len(kgrid),len(agrid)])\n",
    "    err=np.zeros([len(kgrid),len(agrid)])\n",
    "    for ixiter  in range(max_iterations): \n",
    "        EV = np.zeros(len(kgrid))\n",
    "        for ii, K in enumerate(kgrid): \n",
    "            #K=kgrid[ki]\n",
    "                for aa, A1 in enumerate(agrid):                \n",
    "                    def eulereq(K1):\n",
    "                        f, fder=fk(K,A1)\n",
    "                        f1k1,f1der=fk(K1,A1)\n",
    "                        prod = lambda eps: np.exp(0.9*A1+eps)\n",
    "                        EZ, junk=scipy.integrate.quad(prod, mina, maxa)                   \n",
    "                        c=f-K1\n",
    "                        cprime1=f1k1-np.interp(K1, policygrid[:,aa], policyguess1[:,aa])\n",
    "                        ee=1/c-beta*(f1der*(1/cprime1)) \n",
    "                        ee[c<=0]=500\n",
    "                        ee[cprime1<=0]=500\n",
    "                        return ee\n",
    "                    root=scipy.optimize.root(eulereq, k1guess[ii,aa])\n",
    "                    Kprime[ii,aa]=root.x\n",
    "                    err[ii,aa]=eulereq(root.x)\n",
    "#                print(err[ii,jj])\n",
    "#                 Vvalue=objectivefun(EV1,K,K1,S)\n",
    "#                 optval=np.amax(Vvalue)\n",
    "#                 policy[ii,jj]=kgrid[np.argmax(Vvalue)]\n",
    "#                 V[ii,jj]=optval              \n",
    "#            EV[ii]=pi* V[ii,0]+pi* V[ii,1]\n",
    "        diff=np.amax(abs(err))\n",
    "    #    print(err)\n",
    "        policyguess1=Kprime\n",
    "        k1guess[ii,aa]=Kprime[ii,aa]\n",
    "        if diff < tolForFixedPoint:\n",
    "            break\n",
    "    print(ixiter)\n",
    "    plt.plot(kgrid, a[:,0], label=\"bad shock\")\n",
    "    plt.plot(kgrid, a[:,5], label=\"neutral\")\n",
    "    plt.plot(kgrid, a[:,9], label=\"good shock\")\n",
    "    plt.legend(loc=\"upper left\")\n",
    "    plt.title(\"Policy functions\")\n",
    "    return policyguess1\n"
   ]
  },
  {
   "cell_type": "code",
   "execution_count": 213,
   "metadata": {},
   "outputs": [
    {
     "name": "stderr",
     "output_type": "stream",
     "text": [
      "C:\\Users\\utabo\\AppData\\Local\\Continuum\\anaconda3\\lib\\site-packages\\ipykernel_launcher.py:2: RuntimeWarning: invalid value encountered in power\n",
      "  \n",
      "C:\\Users\\utabo\\AppData\\Local\\Continuum\\anaconda3\\lib\\site-packages\\ipykernel_launcher.py:3: RuntimeWarning: invalid value encountered in power\n",
      "  This is separate from the ipykernel package so we can avoid doing imports until\n",
      "C:\\Users\\utabo\\AppData\\Local\\Continuum\\anaconda3\\lib\\site-packages\\ipykernel_launcher.py:33: RuntimeWarning: invalid value encountered in less_equal\n",
      "C:\\Users\\utabo\\AppData\\Local\\Continuum\\anaconda3\\lib\\site-packages\\ipykernel_launcher.py:32: RuntimeWarning: invalid value encountered in less_equal\n"
     ]
    },
    {
     "name": "stdout",
     "output_type": "stream",
     "text": [
      "11\n"
     ]
    },
    {
     "data": {
      "image/png": "[encoded data removed]",
      "text/plain": [
       "<Figure size 432x288 with 1 Axes>"
      ]
     },
     "metadata": {
      "needs_background": "light"
     },
     "output_type": "display_data"
    }
   ],
   "source": [
    "a=timeiter_prodshock()\n",
    " \n"
   ]
  },
  {
   "cell_type": "code",
   "execution_count": null,
   "metadata": {},
   "outputs": [],
   "source": []
  }
 ],
 "metadata": {
  "kernelspec": {
   "display_name": "Python 3",
   "language": "python",
   "name": "python3"
  },
  "language_info": {
   "codemirror_mode": {
    "name": "ipython",
    "version": 3
   },
   "file_extension": ".py",
   "mimetype": "text/x-python",
   "name": "python",
   "nbconvert_exporter": "python",
   "pygments_lexer": "ipython3",
   "version": "3.7.3"
  }
 },
 "nbformat": 4,
 "nbformat_minor": 2
}
