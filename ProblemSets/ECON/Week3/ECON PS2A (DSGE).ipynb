{
 "cells": [
  {
   "cell_type": "markdown",
   "metadata": {},
   "source": [
    "# Exercise 1\n",
    "$\\frac{1}{e^{z_{t}} K_{t}^{\\alpha}-K_{t+1}}=\\beta E_{t}\\left\\{\\frac{\\alpha e^{z_{t+1}} K_{t+1}^{\\alpha-1}}{e^{z_{t+1}} K_{t+1}^{\\alpha}-K_{t+2}}\\right\\}$\n",
    "\n",
    "$K_{t+1}=A e^{z_{t}} K_{t}^{\\alpha}$\n",
    "\n",
    "$\\frac{1}{e^{z_{t}} K_{t}^{\\alpha}-K_{t+1}}=\\beta E_{t}\\left\\{\\frac{\\alpha e^{z_{t+1}} K_{t+1}^{\\alpha-1}}{e^{z_{t+1}} K_{t+1}^{\\alpha}-A e^{z_{t+1}} K_{t+1}^{\\alpha}}\\right\\}$\n",
    "\n",
    "$\\frac{1}{e^{z_{t}} K_{t}^{\\alpha}-K_{t+1}}=\\beta E_{t}\\left\\{\\frac{\\alpha  K_{t+1}^{\\alpha-1}}{ K_{t+1}^{\\alpha}-A  K_{t+1}^{\\alpha}}\\right\\}$\n",
    "\n",
    "Do more substitutions and arrive at: \n",
    "$K_{t+1}=\\frac{\\beta \\alpha}{1-A+\\beta \\alpha}e^{z_t}K_t^\\alpha$\n",
    "\n",
    "$A=\\frac{\\beta \\alpha}{1-A+\\beta \\alpha}$\n",
    "\n",
    "and so \n",
    "\n",
    "$A=\\beta \\alpha$\n"
   ]
  },
  {
   "cell_type": "markdown",
   "metadata": {},
   "source": [
    "# Exercise 2\n",
    "Characteristic equations: \n",
    "\n",
    "### Intertemporal Euler equation: \n",
    "$u_{c}\\left(c_{t}, \\ell_{t}\\right)=\\beta E_{t}\\left\\{u_{c}\\left(c_{t+1}, \\ell_{t+1}\\right)\\left[\\left(r_{t+1}-\\delta\\right)(1-\\tau)+1\\right]\\right\\}$\n",
    "\n",
    "### Consumption leisure Euler:\n",
    "    \n",
    "$-u_{\\ell}\\left(c_{t}, \\ell_{t}\\right)=u_{c}\\left(c_{t}, \\ell_{t}\\right) w_{t}(1-\\tau)$\n",
    "\n",
    "### Firm: \n",
    "\n",
    "$R_{t}=f_{K}\\left(K_{t}, L_{t}, z_{t}\\right)$\n",
    "\n",
    "$W_{t}=f_{L}\\left(K_{t}, L_{t}, z_{t}\\right)$\n",
    "\n",
    "where \n",
    "\n",
    "$u_c(c_t, l_t)=\\frac{1}{c_t}$\n",
    "\n",
    "$u_l(c_t, l_t)=\\frac{-a}{1-l_t}$\n",
    "\n",
    "and \n",
    "\n",
    "$F_k (K_{t}, L_{t}, z_{t}) =\\alpha K_{t}^{\\alpha-1}e^{z_{t}} L_{t}^{1-\\alpha}$\n",
    "\n",
    "$F_L (K_{t}, L_{t}, z_{t}) =(1-\\alpha) K_{t}^{\\alpha}e^{z_{t}} L_{t}^{-\\alpha}$\n",
    "\n",
    "I think we can as we have a Cobb Douglas plus log utility. My guess would be: \n",
    "\n",
    "$K_{t+1}=Ae^{z_t}K_t^\\alpha L_t^{1-\\alpha}$\n",
    "\n",
    "where A are depends on $\\alpha$ and $\\beta$"
   ]
  },
  {
   "cell_type": "markdown",
   "metadata": {},
   "source": [
    "# Exercise 3: \n",
    "As above, where: \n",
    "\n",
    "\n",
    "$u_c(c_t, l_t)=c_t^{-\\gamma}$\n",
    "\n",
    "$u_l(c_t, l_t)=\\frac{-a}{1-l_t}$\n",
    "\n",
    "and \n",
    "\n",
    "$F_k (K_{t}, L_{t}, z_{t}) =\\alpha K_{t}^{\\alpha-1}e^{z_{t}} L_{t}^{1-\\alpha}$\n",
    "\n",
    "$F_L (K_{t}, L_{t}, z_{t}) =(1-\\alpha) K_{t}^{\\alpha}e^{z_{t}} L_{t}^{-\\alpha}$\n"
   ]
  },
  {
   "cell_type": "markdown",
   "metadata": {},
   "source": [
    "# Exercise 4: \n",
    "As above, where: \n",
    "\n",
    "\n",
    "$u_c(c_t, l_t)=c_t^{-\\gamma}$\n",
    "\n",
    "$u_l(c_t, l_t)=a(1-\\ell_t)^{-\\xi}$\n",
    "\n",
    "and \n",
    "\n",
    "\n",
    "$F\\left(K_{t}, L_{t}, z_{t}\\right)=e^{z_{t}}\\left[\\alpha K_{t}^{\\eta}+(1-\\alpha) L_{t}^{\\eta}\\right]^{\\frac{1}{\\eta}}$\n",
    "\n",
    "$F_K\\left(K_{t}, L_{t}, z_{t}\\right)=e^{z_{t}}\\left[\\alpha K_{t}^{\\eta}+(1-\\alpha) L_{t}^{\\eta}\\right]^{\\frac{1-\\eta}{\\eta}}\\eta K_t^{\\eta-1}\\alpha$\n",
    "\n",
    "$F_L\\left(K_{t}, L_{t}, z_{t}\\right)=e^{z_{t}}\\left[\\alpha K_{t}^{\\eta}+(1-\\alpha) L_{t}^{\\eta}\\right]^{\\frac{1-\\eta}{\\eta}}\\eta L_t^{\\eta-1}(1-\\alpha)$"
   ]
  },
  {
   "cell_type": "markdown",
   "metadata": {},
   "source": [
    "# Exercise 5: \n",
    "\n",
    "$V\\left(k_{t} ; \\theta_{t}\\right)=\\max _{\\ell_{t}, k_{t+1}} u\\left(c_{t}, \\ell_{t}\\right)+\\beta E_{t}\\left\\{V\\left(k_{t+1}, \\theta_{t+1}\\right)\\right\\}$\n",
    "\n",
    "\n",
    "s.t. $(1-\\tau)\\left[w_{t} \\ell_{t}+\\left(r_{t}-\\delta\\right) k_{t}\\right]+k_{t}+T_{t}=c_{t}+k_{t+1}$"
   ]
  },
  {
   "cell_type": "markdown",
   "metadata": {},
   "source": [
    "### Intertemporal Euler equation: \n",
    "$u_{c}\\left(c_{t}, \\ell_{t}\\right)=\\beta E_{t}\\left\\{u_{c}\\left(c_{t+1}, \\ell_{t+1}\\right)\\left[\\left(r_{t+1}-\\delta\\right)(1-\\tau)+1\\right]\\right\\}$"
   ]
  },
  {
   "cell_type": "markdown",
   "metadata": {},
   "source": [
    "### Consumption leisure Euler:\n",
    "    \n",
    "$-u_{\\ell}\\left(c_{t}, \\ell_{t}\\right)=u_{c}\\left(c_{t}, \\ell_{t}\\right) w_{t}(1-\\tau)$"
   ]
  },
  {
   "cell_type": "markdown",
   "metadata": {},
   "source": [
    "### Firm: \n",
    "\n",
    "$R_{t}=f_{K}\\left(K_{t}, L_{t}, z_{t}\\right)$\n",
    "$W_{t}=f_{L}\\left(K_{t}, L_{t}, z_{t}\\right)$"
   ]
  },
  {
   "cell_type": "markdown",
   "metadata": {},
   "source": [
    "# Exercise 5: \n",
    "\n",
    "$\\begin{aligned} u\\left(c_{t}\\right) &=\\frac{c_{t}^{1-\\gamma}-1}{1-\\gamma} \\\\ F\\left(K_{t}, L_{t}, z_{t}\\right) &=K_{t}^{\\alpha}\\left(L_{t} e^{z_{t}}\\right)^{1-\\alpha} \\end{aligned}$"
   ]
  },
  {
   "cell_type": "markdown",
   "metadata": {},
   "source": [
    "## MUC: \n",
    "\n",
    "$ u_c\\left(c_{t}\\right) =c_{t}^{-\\gamma}$\n",
    "\n",
    "\n",
    "FOCs FIRM: \n",
    "\n",
    "$F_k (K_{t}, L_{t}, z_{t}) =\\alpha K_{t}^{\\alpha-1}e^{z_{t}(1-\\alpha)} L_{t}^{1-\\alpha}$\n",
    "\n",
    "$F_L (K_{t}, L_{t}, z_{t}) =(1-\\alpha) K_{t}^{\\alpha}e^{z_{t}(1-\\alpha)} L_{t}^{-\\alpha}$"
   ]
  },
  {
   "cell_type": "markdown",
   "metadata": {},
   "source": [
    "## Steady State\n",
    "$c=(1-\\tau)[w+(r-\\delta) k]+T$\n",
    "\n",
    "\n",
    "$c^{-\\gamma}=\\beta \\left\\{c^{-\\gamma}[(r-\\delta)(1-\\tau)+1]\\right\\}$\n",
    "\n",
    "\n",
    "$r=\\alpha k^{\\alpha-1}e^{z(1-\\alpha)}$\n",
    "\n",
    "\n",
    "$w=(1-\\alpha) k^{\\alpha}e^{z(1-\\alpha)} $\n",
    "\n",
    "\n",
    "$\\tau[w+(r-\\delta) k]=T$"
   ]
  },
  {
   "cell_type": "markdown",
   "metadata": {},
   "source": [
    "## Rewrite: \n",
    "\n",
    "\n",
    "$\\frac{\\frac{1}{\\beta }-1}{(1-\\tau)}+\\delta=(\\alpha k^{\\alpha-1}e^{z(1-\\alpha)})$\n"
   ]
  },
  {
   "cell_type": "markdown",
   "metadata": {},
   "source": [
    "$\\{ \\frac{1}{\\alpha}\\frac{1-\\beta}{\\beta}\\frac{1}{1-\\tau}e^{-z(\\alpha-1)} \\}^{\\frac{1}{\\alpha-1}}=k$"
   ]
  },
  {
   "cell_type": "markdown",
   "metadata": {},
   "source": [
    "## Now put stuff in solver"
   ]
  },
  {
   "cell_type": "code",
   "execution_count": 28,
   "metadata": {},
   "outputs": [],
   "source": [
    "import scipy as scipy\n",
    "import sympy as sy\n",
    "from scipy import stats\n",
    "from scipy.stats import norm\n",
    "import numpy as np\n",
    "from matplotlib import pyplot as plt\n",
    "from scipy.optimize import root\n",
    "import scipy.optimize as opt\n",
    "from scipy.integrate import quad\n",
    "from matplotlib import pyplot as plt\n",
    "from scipy.interpolate import CubicSpline"
   ]
  },
  {
   "cell_type": "code",
   "execution_count": 29,
   "metadata": {},
   "outputs": [],
   "source": [
    "def fun(x):\n",
    "    tau=.05\n",
    "    z=0\n",
    "    delta=.1\n",
    "    alpha=.4\n",
    "    beta=.98\n",
    "    gamma=2.5\n",
    "    #x=[x1h1, x2h1,x1h2, x2h2,p1,p2]\n",
    "    c=x[0]\n",
    "    k=x[1]\n",
    "    r=x[2]\n",
    "    w=x[3]\n",
    "    T=x[4]    \n",
    "    return \\\n",
    "    [c-(1-tau)*(w+(r-delta)*k)+T,\n",
    "    c**(-gamma)-beta*c**(-gamma)*((r-delta)*(1-tau)+1),\n",
    "    r-alpha*k**(alpha-1)*np.exp(z*(1-alpha)),\n",
    "    w-(1-alpha)*k**alpha*np.exp(z*(1-alpha)),\n",
    "    tau*(w+(r-delta)*k)-T]"
   ]
  },
  {
   "cell_type": "code",
   "execution_count": 30,
   "metadata": {},
   "outputs": [
    {
     "name": "stdout",
     "output_type": "stream",
     "text": [
      "[1.33605434 7.28749795 0.12148228 1.32795277 0.07422524]\n"
     ]
    }
   ],
   "source": [
    "sol=scipy.optimize.root(fun, [0.5,0.5,0.5, 0.5,0.5])\n",
    "print(sol.x)"
   ]
  },
  {
   "cell_type": "markdown",
   "metadata": {},
   "source": [
    "# Exercise 6"
   ]
  },
  {
   "cell_type": "markdown",
   "metadata": {},
   "source": [
    "$\\begin{aligned} u\\left(c_{t}, \\ell_{t}\\right) &=\\frac{c_{t}^{1-\\gamma}-1}{1-\\gamma}+a \\frac{\\left(1-\\ell_{t}\\right)^{1-\\xi}-1}{1-\\xi}  \\\\  F\\left(K_{t}, L_{t}, z_{t}\\right) &=K_{t}^{\\alpha}\\left(L_{t} e^{z t}\\right)^{1-\\alpha} \\end{aligned}$"
   ]
  },
  {
   "cell_type": "markdown",
   "metadata": {},
   "source": [
    "$ u_c(c_{t}, \\ell_{t}) =c_{t}^{-\\gamma}$\n",
    "\n",
    "$ u_\\ell(c_{t}, \\ell_{t}) =-a (1-\\ell_{t})^{-\\xi}$\n",
    "\n"
   ]
  },
  {
   "cell_type": "markdown",
   "metadata": {},
   "source": [
    "### Steady State\n",
    "\n",
    "$\\overline{c}=(1-\\tau)[\\overline{w} \\overline{\\ell}+(\\overline{r}-\\delta) \\overline{k}]+\\overline{T}$\n",
    "\n",
    "$c^{-\\gamma}=\\beta c^{-\\gamma}[(\\overline{r}-\\delta)(1-\\tau)+1]$\n",
    "\n",
    "$a (1-\\ell)^{-\\xi}=c^{-\\gamma} \\overline{w}(1-\\tau)$\n",
    "\n",
    "\n",
    "$r=\\alpha k^{\\alpha-1}e^{z(1-\\alpha)}$\n",
    "\n",
    "\n",
    "$w=(1-\\alpha) k^{\\alpha}e^{z(1-\\alpha)} $\n",
    "\n",
    "\n",
    "$\\tau[\\overline{w} \\overline{\\ell}+(\\overline{r}-\\delta) \\overline{k}]=\\overline{T}$"
   ]
  },
  {
   "cell_type": "code",
   "execution_count": 43,
   "metadata": {},
   "outputs": [],
   "source": [
    "def fun5(x):\n",
    "    tau=.05\n",
    "    z=0\n",
    "    delta=.1\n",
    "    alpha=.4\n",
    "    beta=.98\n",
    "    gamma=2.5\n",
    "    xi=1.5\n",
    "    a=.5\n",
    "    #x=[x1h1, x2h1,x1h2, x2h2,p1,p2]\n",
    "    c=x[0]\n",
    "    k=x[1]\n",
    "    r=x[2]\n",
    "    w=x[3]\n",
    "    T=x[4] \n",
    "    l=x[5]\n",
    "    return \\\n",
    "    [c-(1-tau)*(w*l+(r-delta)*k)+T,\n",
    "    c**(-gamma)-beta*c**(-gamma)*((r-delta)*(1-tau)+1),\n",
    "    a*(1-l)**(-xi)-c**(-gamma)*w*(1-tau),\n",
    "    r-alpha*k**(alpha-1)*np.exp(z*(1-alpha)),\n",
    "    w-(1-alpha)*k**alpha*np.exp(z*(1-alpha)),\n",
    "    tau*(w*l+(r-delta)*k)-T]"
   ]
  },
  {
   "cell_type": "code",
   "execution_count": 44,
   "metadata": {},
   "outputs": [
    {
     "name": "stdout",
     "output_type": "stream",
     "text": [
      "[0.84704808 7.28749795 0.12148228 1.32795277 0.04705823 0.59084366]\n"
     ]
    }
   ],
   "source": [
    "sol=scipy.optimize.root(fun5, [0.5,0.5,0.5, 0.5,0.5, 0.5])\n",
    "print(sol.x)"
   ]
  },
  {
   "cell_type": "markdown",
   "metadata": {},
   "source": [
    "# Q7 "
   ]
  },
  {
   "cell_type": "code",
   "execution_count": 52,
   "metadata": {},
   "outputs": [
    {
     "name": "stdout",
     "output_type": "stream",
     "text": [
      "(7.287497950692989, 0.8921243068256077, 0.12148227712137488, 1.3279527683513057, 0.553914471853246, 0.04460621534128039, 1.5527337947723057, 0.7287497950692989)\n"
     ]
    }
   ],
   "source": [
    "tau=.05\n",
    "z_bar=0\n",
    "delta=.1\n",
    "alpha=.4\n",
    "beta=.98\n",
    "gamma=2.5\n",
    "xi=1.5\n",
    "a=.5\n",
    "    \n",
    "def getA(z_bar, alpha):\n",
    "    A = np.exp(z_bar*(1-alpha))\n",
    "    return A\n",
    "\n",
    "def getC(tau, w, r, delta, k, T, l):\n",
    "    c = (1-tau)*(w*l + (r-delta)*k) + T\n",
    "    return c\n",
    "\n",
    "def getR(alpha, z_bar, k, l):\n",
    "    A = getA(z_bar, alpha)\n",
    "    r=alpha*k**(alpha-1)*A\n",
    "    return r\n",
    "\n",
    "def getW(alpha, z_bar, k, l):\n",
    "    A = getA(z_bar, alpha)\n",
    "    w=(1-alpha)*k**alpha*A\n",
    "    return w\n",
    "\n",
    "def getT(tau, w, r, delta, k, l):\n",
    "    T = tau*(w*l + (r-delta)*k)\n",
    "    return T\n",
    "\n",
    "def getY(alpha, z_bar, k,l):\n",
    "    A = getA(z_bar,alpha)\n",
    "    Y = A*(k**alpha)*l**(1-alpha)\n",
    "    return Y\n",
    "\n",
    "def euler(klvec, *args):\n",
    "    (alpha, z_bar, tau, delta, gamma, beta, a, zeta) = args\n",
    "    k = klvec[0]\n",
    "    l = klvec[1]\n",
    "    r = getR(alpha, z_bar, k,l)\n",
    "    w = getW(alpha, z_bar, k,l)\n",
    "    T = getT(tau, w, r, delta, k,l)\n",
    "    c = getC(tau, w, r, delta, k, T,l)\n",
    "    error1 = c**(-gamma)-beta*c**(-gamma)*((r-delta)*(1-tau)+1)\n",
    "    error2 = a*(1-l)**(-xi)-c**(-gamma)*w*(1-tau)\n",
    "    errors = np.array([error1, error2])\n",
    "    return errors\n",
    "\n",
    "def ss_func(alpha, z_bar, tau, delta, gamma, beta, a, xi):\n",
    "    klvec_init = np.array([0.5,0.5]) #initialize search\n",
    "    EEargs = (alpha, z_bar, tau, delta, gamma, beta, a, xi)\n",
    "    results = opt.root(euler, klvec_init, args= (EEargs), tol = 1e-14)\n",
    "    klvec_ss = results.x\n",
    "    errors = results.fun\n",
    "    k_ss = klvec_ss[0]\n",
    "    l_ss = klvec_ss[1]\n",
    "    Y = getY(alpha, z_bar, k_ss, l_ss)\n",
    "    r = getR(alpha, z_bar, k_ss, l_ss)\n",
    "    w = getW(alpha, z_bar, k_ss, l_ss)\n",
    "    T = getT(tau, w, r, delta, k_ss, l_ss)\n",
    "    C = getC(tau, w, r, delta, k_ss, T, l_ss)\n",
    "    I = delta*k_ss\n",
    "    return k_ss, C, r, w, l_ss, T, Y, I\n",
    "ssvalues=ss_func(alpha, z_bar, tau, delta, gamma, beta, a, xi)\n",
    "print(ssvalues)"
   ]
  },
  {
   "cell_type": "code",
   "execution_count": 53,
   "metadata": {},
   "outputs": [
    {
     "data": {
      "text/plain": [
       "array([[-9.98706388e+01, -3.96183090e+00,  1.00000000e+00,\n",
       "        -7.28250259e+00,  1.67078093e+00, -1.98091545e-01,\n",
       "        -5.70679263e+00, -2.70955299e+00],\n",
       "       [-2.26102789e+00, -2.08761830e-01,  2.26153038e-02,\n",
       "        -1.64806424e-01, -1.75991129e-01,  8.81665339e-01,\n",
       "        -4.88704365e-01, -2.26102789e-01],\n",
       "       [ 7.28786234e+00,  6.10949160e-01,  6.93889390e-13,\n",
       "         1.32801917e+00, -2.11748219e-01,  3.05474580e-02,\n",
       "         1.19662936e+00,  7.28786234e-01],\n",
       "       [ 5.45138062e+01,  2.33281712e+00, -3.19189120e-12,\n",
       "         4.39780036e+00, -9.59256239e-01,  1.16640856e-01,\n",
       "         7.03506409e+00,  5.45138062e+00],\n",
       "       [ 1.77635684e-10,  2.13981272e-02, -1.80411242e-12,\n",
       "         1.33226763e-11,  1.61136207e-02,  1.06990636e-03,\n",
       "         2.71018182e-02,  1.77635684e-11],\n",
       "       [ 0.00000000e+00,  0.00000000e+00,  0.00000000e+00,\n",
       "         0.00000000e+00,  0.00000000e+00,  0.00000000e+00,\n",
       "         0.00000000e+00,  0.00000000e+00],\n",
       "       [ 1.09702581e+02,  5.51718953e-01, -1.09592272e+00,\n",
       "         7.99254343e+00,  1.32938977e+00,  2.75859476e-02,\n",
       "         1.15825987e+01,  1.09702581e+01],\n",
       "       [ 2.84217094e-10, -3.74885065e-01, -2.91433544e-12,\n",
       "         2.22044605e-11, -2.82303011e-01, -1.87442532e-02,\n",
       "        -4.74816148e-01,  2.88657986e-11]])"
      ]
     },
     "execution_count": 53,
     "metadata": {},
     "output_type": "execute_result"
    }
   ],
   "source": [
    "derivative = np.empty((8, 8))\n",
    "epsilon = 1e-4\n",
    "\n",
    "#Add epsilon\n",
    "gamma_p  = gamma+epsilon\n",
    "zeta_p = zeta + epsilon\n",
    "beta_p = beta + epsilon\n",
    "alpha_p = alpha + epsilon\n",
    "delta_p = delta + epsilon\n",
    "z_bar_p = z_bar + epsilon\n",
    "tau_p = tau + epsilon\n",
    "a_p = a + epsilon\n",
    "\n",
    "# Matrix with perturbed parameters\n",
    "derivative[0,:] = ss_func(alpha, z_bar, tau, delta_p, gamma, beta, a, zeta)\n",
    "derivative[1,:] = ss_func(alpha, z_bar, tau_p, delta, gamma, beta, a, zeta)\n",
    "derivative[2,:] = ss_func(alpha, z_bar_p, tau, delta, gamma, beta, a, zeta)\n",
    "derivative[3,:] = ss_func(alpha_p, z_bar, tau, delta, gamma, beta, a, zeta)\n",
    "derivative[4,:] = ss_func(alpha, z_bar, tau, delta, gamma_p, beta, a, zeta)\n",
    "derivative[5,:] = ss_func(alpha, z_bar, tau, delta, gamma, beta, a, zeta_p)\n",
    "derivative[6,:] = ss_func(alpha, z_bar, tau, delta, gamma, beta_p, a, zeta)\n",
    "derivative[7,:] = ss_func(alpha, z_bar, tau, delta, gamma, beta, a_p, zeta)\n",
    "\n",
    "#matrix with original parameters\n",
    "matrix = np.empty((8,8))\n",
    "for i in range(8):\n",
    "    matrix[i,:] = ss_func(alpha, z_bar, tau, delta, gamma, beta, a, zeta)\n",
    "\n",
    "#derivative: (difference in perturbed steady state and original values)/epsilon \n",
    "derivative = (derivative - matrix)/epsilon\n",
    "derivative"
   ]
  },
  {
   "cell_type": "code",
   "execution_count": null,
   "metadata": {},
   "outputs": [],
   "source": []
  },
  {
   "cell_type": "code",
   "execution_count": null,
   "metadata": {},
   "outputs": [],
   "source": []
  }
 ],
 "metadata": {
  "kernelspec": {
   "display_name": "Python 3",
   "language": "python",
   "name": "python3"
  },
  "language_info": {
   "codemirror_mode": {
    "name": "ipython",
    "version": 3
   },
   "file_extension": ".py",
   "mimetype": "text/x-python",
   "name": "python",
   "nbconvert_exporter": "python",
   "pygments_lexer": "ipython3",
   "version": "3.7.3"
  }
 },
 "nbformat": 4,
 "nbformat_minor": 2
}
