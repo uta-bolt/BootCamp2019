{
 "cells": [
  {
   "cell_type": "code",
   "execution_count": 3,
   "metadata": {},
   "outputs": [],
   "source": [
    "import numpy as np\n",
    "import random\n",
    "import scipy.optimize as opt\n",
    "import scipy.interpolate as intpl\n",
    "import matplotlib.pyplot as plt\n",
    "import pdb\n",
    "import sys\n",
    "from numba import jit\n",
    "sys.path.insert(0, \"C:\\\\Users\\\\utabo\\\\Documents\\\\GitHub\\\\BootCamp2019\\\\ProblemSets\\\\ECON\\\\Week 5\")\n",
    "import parameters as p\n",
    "import compileparam as compp"
   ]
  },
  {
   "cell_type": "code",
   "execution_count": 4,
   "metadata": {},
   "outputs": [
    {
     "name": "stdout",
     "output_type": "stream",
     "text": [
      "0.9500000000000008\n"
     ]
    }
   ],
   "source": [
    "#Calculate transitions:\n",
    "ee=0.95\n",
    "eu=1-ee\n",
    "uss=0.05\n",
    "uu=(uss-(1-uss)*(eu))/uss\n",
    "ue=1-uu\n",
    "print(ue)\n",
    "p.pi=np.array([[ee,eu],[ue,uu]])\n",
    "p.pi=np.array([[0.95,0.05],[0.95,0.05]])\n",
    "compp.pi=np.array([[ee,eu],[ue,uu]])\n",
    "compp.pi=np.array([[0.95,0.05],[0.95,0.05]])"
   ]
  },
  {
   "cell_type": "code",
   "execution_count": 5,
   "metadata": {},
   "outputs": [],
   "source": [
    "def markovsim():\n",
    "    eps=np.empty([p.numsim])\n",
    "    eps[0]=0\n",
    "    for x in range(p.numsim-1):\n",
    "        ep=np.int_(eps[x])\n",
    "        eps[x+1]= np.random.uniform(0,1) <= p.pi[ep,1]\n",
    "    return eps"
   ]
  },
  {
   "cell_type": "code",
   "execution_count": 6,
   "metadata": {},
   "outputs": [
    {
     "name": "stdout",
     "output_type": "stream",
     "text": [
      "0.0515\n"
     ]
    }
   ],
   "source": [
    "np.random.seed(386758)   \n",
    "epsseries=markovsim()\n",
    "print(np.mean(epsseries))\n",
    "epsseries=np.int_(epsseries)"
   ]
  },
  {
   "cell_type": "code",
   "execution_count": 7,
   "metadata": {},
   "outputs": [],
   "source": [
    "\n",
    "#====================================================#\n",
    "#Problem set - Tony Smith\n",
    "#====================================================#\n",
    "\n",
    "#Get interest rate\n",
    "def get_r(kbar,u,p):\n",
    "    r=p.alpha*kbar**(p.alpha-1)*(1-u)**(1-p.alpha)\n",
    "    return r\n",
    "\n",
    "#get wage rate\n",
    "def get_k(kbar,u,p):\n",
    "    w=(1-p.alpha)*kbar**p.alpha*(1-u)**(-p.alpha)\n",
    "    return w\n",
    "\n",
    "#euler equation:\n",
    "def utility(x):\n",
    "    if x>0:\n",
    "        utils=np.log(x)\n",
    "    else:\n",
    "        utils=-(10**8)\n",
    "    return utils\n",
    "\n",
    "\n",
    "def negV(kprime,Vcont,eps,p,tt,r,w,kk) :\n",
    "    V_t_interp0 = intpl.interp1d(p.kgrid,Vcont[:,0], kind='cubic', fill_value='extrapolate')\n",
    "    V_t_interp1 = intpl.interp1d(p.kgrid,Vcont[:,1], kind='cubic', fill_value='extrapolate')\n",
    "    Vprime=np.empty([2])\n",
    "    #Vprime[0,0]=np.interp(p.kgrid,Vcont[:,0], kprime) #good\n",
    "    if tt>0:\n",
    "        #pdb.set_trace()\n",
    "        Vprime[0]=V_t_interp0(kprime) #good\n",
    "        Vprime[1]=V_t_interp1(kprime) #bad \n",
    "        #Vprime[0]=intpl.interp1d( kprime,p.kgrid,Vcont[:,0], kind='cubic',fill_value='extrapolate') #good\n",
    "        #Vprime[1]=intpl.interp1d(kprime,p.kgrid,Vcont[:,1], kind='cubic',fill_value='extrapolate')#bad \n",
    "    else:\n",
    "        Vprime=np.array([0][0])\n",
    "    c=(1+r-p.delta)*kk+w*eps-kprime\n",
    "    EV=sum(Vprime*p.pi[eps,:]) #expected value given transition probs\n",
    "#     print(Vprime.shape)\n",
    "#     print(p.pi.shape)\n",
    "#     print(EV.shape)\n",
    "    \n",
    "    value=-1*(utility(c)+p.beta*EV) #negative value of choosing kprime\n",
    "    return value\n",
    "\n",
    "#Problem that the consumer solves given kbar:\n",
    "@jit\n",
    "def vfi(kbar,p,epsseries):\n",
    "    Vcont=np.zeros([p.numptsk,2])\n",
    "    pf=np.empty([p.numptsk, 2])\n",
    "    vopt=np.empty([p.numptsk, 2])\n",
    "    r=get_r(kbar,u,p)\n",
    "    w=get_k(kbar,u,p)\n",
    "    for tt in range(0,p.maxiter):\n",
    "        for ixe, eps in enumerate(p.epsgrid):\n",
    "            for ixk, kk in enumerate(p.kgrid):\n",
    "                #res= opt.minimize_scalar(negV,bracket=(0.00001,1),args=(Vcont,eps,p,tt,r,w,kk), method='Golden' )          \n",
    "                res= opt.minimize_scalar(negV,bounds=(kk-0.0001, kk),args=(Vcont,eps,p,tt,r,w,kk), method='bounded' )\n",
    "                vopt[ixk,ixe] =-res.fun\n",
    "                pf[ixk,ixe] =res.x\n",
    "        diff=((vopt-Vcont) ** 2).sum()        \n",
    "        if diff>p.tol:\n",
    "            Vcont=vopt\n",
    "        else:\n",
    "            print(\"convergence 1 achieved\")\n",
    "            indk=np.empty(p.numsim)\n",
    "            #once we found a solution we want to simulate:\n",
    "            #np.random.seed(56758)   \n",
    "            #print(epsseries)\n",
    "            #epsseries=markovsim()\n",
    "            #epsseries=np.int_(epsseries)\n",
    "            indk[0]=1\n",
    "            for ixN, epsilon in enumerate(epsseries):\n",
    "                indk[ixN]=np.interp(indk[ixN-1],p.kgrid, pf[:,epsilon])\n",
    "                #indk[ixN]=intpl.interp1d(indk[ixN-1],p.kgrid, pf[:,epsilon], kind='cubic',fill_value='extrapolate')              \n",
    "                #indk[ixN]=np.interp(p.kgrid, pf[:,epsilon],kss)\n",
    "            kss=np.mean(indk)\n",
    "            break\n",
    "    return vopt, pf,kss,indk,epsseries\n",
    "\n",
    "\n",
    "def aiyagari(kbar,p,epsseries):\n",
    "    for j in range(0,p.maxiter):\n",
    "        print(\"outer loop:\")\n",
    "        print(j)\n",
    "        vopt, pf,kss,indk,epsseries=vfi(kbar,p,epsseries)\n",
    "        print(abs(kss-kbar))\n",
    "        if abs(kss-kbar)>p.tol_outer:\n",
    "            \n",
    "            kbar=kss\n",
    "            \n",
    "        else:\n",
    "            print(\"convergence 2 achieved\")\n",
    "            break\n",
    "    return vopt, pf,kss,indk,epsseries\n"
   ]
  },
  {
   "cell_type": "code",
   "execution_count": 8,
   "metadata": {},
   "outputs": [
    {
     "name": "stdout",
     "output_type": "stream",
     "text": [
      "outer loop:\n",
      "0\n",
      "convergence 1 achieved\n"
     ]
    },
    {
     "ename": "IndexError",
     "evalue": "index 10 is out of bounds for axis 0 with size 10",
     "output_type": "error",
     "traceback": [
      "\u001b[1;31m---------------------------------------------------------------------------\u001b[0m",
      "\u001b[1;31mIndexError\u001b[0m                                Traceback (most recent call last)",
      "\u001b[1;32m<ipython-input-8-84a2e22090dd>\u001b[0m in \u001b[0;36m<module>\u001b[1;34m\u001b[0m\n\u001b[0;32m      1\u001b[0m \u001b[0mu\u001b[0m\u001b[1;33m=\u001b[0m\u001b[1;36m0.1\u001b[0m\u001b[1;33m\u001b[0m\u001b[1;33m\u001b[0m\u001b[0m\n\u001b[0;32m      2\u001b[0m \u001b[1;31m#initialize Vcont\u001b[0m\u001b[1;33m\u001b[0m\u001b[1;33m\u001b[0m\u001b[1;33m\u001b[0m\u001b[0m\n\u001b[1;32m----> 3\u001b[1;33m \u001b[0mvopt_out\u001b[0m\u001b[1;33m,\u001b[0m \u001b[0mpf_out\u001b[0m\u001b[1;33m,\u001b[0m\u001b[0mkss_out\u001b[0m\u001b[1;33m,\u001b[0m\u001b[0mindk\u001b[0m\u001b[1;33m,\u001b[0m\u001b[0mepsseries\u001b[0m\u001b[1;33m=\u001b[0m\u001b[0maiyagari\u001b[0m\u001b[1;33m(\u001b[0m\u001b[1;36m8\u001b[0m\u001b[1;33m,\u001b[0m\u001b[0mcompp\u001b[0m\u001b[1;33m,\u001b[0m\u001b[0mepsseries\u001b[0m\u001b[1;33m)\u001b[0m\u001b[1;33m\u001b[0m\u001b[1;33m\u001b[0m\u001b[0m\n\u001b[0m",
      "\u001b[1;32m<ipython-input-7-52d2e6fdef61>\u001b[0m in \u001b[0;36maiyagari\u001b[1;34m(kbar, p, epsseries)\u001b[0m\n\u001b[0;32m     85\u001b[0m         \u001b[0mprint\u001b[0m\u001b[1;33m(\u001b[0m\u001b[1;34m\"outer loop:\"\u001b[0m\u001b[1;33m)\u001b[0m\u001b[1;33m\u001b[0m\u001b[1;33m\u001b[0m\u001b[0m\n\u001b[0;32m     86\u001b[0m         \u001b[0mprint\u001b[0m\u001b[1;33m(\u001b[0m\u001b[0mj\u001b[0m\u001b[1;33m)\u001b[0m\u001b[1;33m\u001b[0m\u001b[1;33m\u001b[0m\u001b[0m\n\u001b[1;32m---> 87\u001b[1;33m         \u001b[0mvopt\u001b[0m\u001b[1;33m,\u001b[0m \u001b[0mpf\u001b[0m\u001b[1;33m,\u001b[0m\u001b[0mkss\u001b[0m\u001b[1;33m,\u001b[0m\u001b[0mindk\u001b[0m\u001b[1;33m,\u001b[0m\u001b[0mepsseries\u001b[0m\u001b[1;33m=\u001b[0m\u001b[0mvfi\u001b[0m\u001b[1;33m(\u001b[0m\u001b[0mkbar\u001b[0m\u001b[1;33m,\u001b[0m\u001b[0mp\u001b[0m\u001b[1;33m,\u001b[0m\u001b[0mepsseries\u001b[0m\u001b[1;33m)\u001b[0m\u001b[1;33m\u001b[0m\u001b[1;33m\u001b[0m\u001b[0m\n\u001b[0m\u001b[0;32m     88\u001b[0m         \u001b[0mprint\u001b[0m\u001b[1;33m(\u001b[0m\u001b[0mabs\u001b[0m\u001b[1;33m(\u001b[0m\u001b[0mkss\u001b[0m\u001b[1;33m-\u001b[0m\u001b[0mkbar\u001b[0m\u001b[1;33m)\u001b[0m\u001b[1;33m)\u001b[0m\u001b[1;33m\u001b[0m\u001b[1;33m\u001b[0m\u001b[0m\n\u001b[0;32m     89\u001b[0m         \u001b[1;32mif\u001b[0m \u001b[0mabs\u001b[0m\u001b[1;33m(\u001b[0m\u001b[0mkss\u001b[0m\u001b[1;33m-\u001b[0m\u001b[0mkbar\u001b[0m\u001b[1;33m)\u001b[0m\u001b[1;33m>\u001b[0m\u001b[0mp\u001b[0m\u001b[1;33m.\u001b[0m\u001b[0mtol_outer\u001b[0m\u001b[1;33m:\u001b[0m\u001b[1;33m\u001b[0m\u001b[1;33m\u001b[0m\u001b[0m\n",
      "\u001b[1;31mIndexError\u001b[0m: index 10 is out of bounds for axis 0 with size 10"
     ]
    }
   ],
   "source": [
    "u=0.1\n",
    "#initialize Vcont\n",
    "vopt_out, pf_out,kss_out,indk,epsseries=aiyagari(8,compp,epsseries)\n"
   ]
  },
  {
   "cell_type": "code",
   "execution_count": null,
   "metadata": {},
   "outputs": [],
   "source": [
    "vopt_out, pf_out,kss_out,indk,epsseries=aiyagari(30,p,epsseries)\n",
    "print(kss_out)\n",
    "print(np.std(indk)/np.mean(indk))\n",
    "print(epsseries)"
   ]
  },
  {
   "cell_type": "code",
   "execution_count": null,
   "metadata": {},
   "outputs": [],
   "source": [
    "plt.plot(p.kgrid,pf_out[:,0])\n",
    "plt.plot(p.kgrid,pf_out[:,1])\n",
    "plt.show()"
   ]
  },
  {
   "cell_type": "code",
   "execution_count": null,
   "metadata": {},
   "outputs": [],
   "source": [
    "plt.plot(p.kgrid,vopt_out[:,0])\n",
    "plt.plot(p.kgrid,vopt_out[:,1])\n",
    "plt.show()"
   ]
  },
  {
   "cell_type": "code",
   "execution_count": null,
   "metadata": {},
   "outputs": [],
   "source": []
  }
 ],
 "metadata": {
  "@webio": {
   "lastCommId": null,
   "lastKernelId": null
  },
  "kernelspec": {
   "display_name": "Python 3",
   "language": "python",
   "name": "python3"
  },
  "language_info": {
   "codemirror_mode": {
    "name": "ipython",
    "version": 3
   },
   "file_extension": ".py",
   "mimetype": "text/x-python",
   "name": "python",
   "nbconvert_exporter": "python",
   "pygments_lexer": "ipython3",
   "version": "3.7.3"
  }
 },
 "nbformat": 4,
 "nbformat_minor": 2
}
