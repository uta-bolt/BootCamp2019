{
 "cells": [
  {
   "cell_type": "code",
   "execution_count": 1,
   "metadata": {},
   "outputs": [],
   "source": [
    "import numpy as np\n",
    "import random\n",
    "import scipy.optimize as opt\n",
    "import scipy.interpolate as intpl\n",
    "import matplotlib.pyplot as plt\n",
    "import pdb\n",
    "import time\n",
    "import sys\n",
    "from numba import jit\n",
    "sys.path.insert(0, \"C:\\\\Users\\\\utabo\\\\Documents\\\\GitHub\\\\BootCamp2019\\\\ProblemSets\\\\ECON\\\\Week 5\")\n",
    "import parameters as p\n",
    "import compileparam as compp"
   ]
  },
  {
   "cell_type": "code",
   "execution_count": 2,
   "metadata": {},
   "outputs": [
    {
     "name": "stdout",
     "output_type": "stream",
     "text": [
      "0.8999999999999998\n",
      "[[0.1 0.9]\n",
      " [0.1 0.9]]\n"
     ]
    }
   ],
   "source": [
    "#Calculate transitions:\n",
    "ee=0.9\n",
    "eu=1-ee\n",
    "uss=0.1\n",
    "uu=(uss-(1-uss)*(eu))/uss\n",
    "ue=1-uu\n",
    "print(ue)\n",
    "p.pi=np.array([[uu,ue],[eu,ee]])\n",
    "print(p.pi)"
   ]
  },
  {
   "cell_type": "code",
   "execution_count": 3,
   "metadata": {},
   "outputs": [
    {
     "name": "stdout",
     "output_type": "stream",
     "text": [
      "6.4900587533395635\n"
     ]
    }
   ],
   "source": [
    "def kss():\n",
    "    k_ss = ((1/p.beta - 1 + p.delta)/p.alpha)**(1/(p.alpha-1))*(1-uss)\n",
    "    return k_ss \n",
    "                                                                           \n",
    "kinit=kss()      \n",
    "print(kinit)"
   ]
  },
  {
   "cell_type": "code",
   "execution_count": 4,
   "metadata": {},
   "outputs": [
    {
     "name": "stdout",
     "output_type": "stream",
     "text": [
      "0.8998\n"
     ]
    }
   ],
   "source": [
    "def markovsim():\n",
    "    eps=np.empty([p.numsim])\n",
    "    eps[0]=0\n",
    "    for x in range(p.numsim-1):\n",
    "        ep=np.int_(eps[x])\n",
    "        eps[x+1]= np.random.uniform(0,1) <= p.pi[ep,1]\n",
    "    return eps\n",
    "np.random.seed(386758)   \n",
    "epsseries=markovsim()\n",
    "print(np.mean(epsseries))\n",
    "epsseries=np.int_(epsseries)\n"
   ]
  },
  {
   "cell_type": "code",
   "execution_count": 5,
   "metadata": {},
   "outputs": [],
   "source": [
    "def utility(x):\n",
    "    if x>0:\n",
    "        utils=np.log(x)\n",
    "    else:\n",
    "        utils=-(10**8)\n",
    "    return utils\n",
    "\n",
    "def negV(kprime,Vcont,eps,p,tt,r,w,kk) :\n",
    "    V_t_interp0 = intpl.interp1d(p.kgrid,Vcont[:,0], kind='linear', fill_value='extrapolate') #bad\n",
    "    V_t_interp1 = intpl.interp1d(p.kgrid,Vcont[:,1], kind='linear', fill_value='extrapolate')\n",
    "    Vprime=np.empty([2])\n",
    "    #Vprime[0,0]=np.interp(p.kgrid,Vcont[:,0], kprime) #good\n",
    "    if tt>0:\n",
    "        #pdb.set_trace()\n",
    "        Vprime[0]=V_t_interp0(kprime) #bad\n",
    "        Vprime[1]=V_t_interp1(kprime) #good\n",
    "    else:\n",
    "        Vprime=np.array([0][0])\n",
    "    c=(1+r-p.delta)*kk+w*eps-kprime\n",
    "    EV=np.sum(Vprime*p.pi[eps,:]) #expected value given transition probs\n",
    "#     print(Vprime.shape)\n",
    "#     print(p.pi.shape)\n",
    "#     print(EV.shape)\n",
    "    \n",
    "    value=-1*(utility(c)+p.beta*EV) #negative value of choosing kprime\n",
    "    return value\n",
    "#Problem that the consumer solves given kbar:\n",
    "\n",
    "def vfi(kbar,p,epsseries,u):\n",
    "    Vcont=np.zeros([p.numptsk,2])\n",
    "    pf=np.empty([p.numptsk, 2])\n",
    "    vopt=np.empty([p.numptsk, 2])\n",
    "    success=np.empty([p.numptsk, 2])\n",
    "    r=p.alpha*kbar**(p.alpha-1)*(1-u)**(1-p.alpha)\n",
    "    w=(1-p.alpha)*kbar**p.alpha*(1-u)**(-p.alpha)\n",
    "    for tt in range(0,p.maxiter):\n",
    "        for ixe, eps in enumerate(p.epsgrid):\n",
    "            for ixk, kk in enumerate(p.kgrid):\n",
    "                #res= opt.minimize_scalar(negV,bracket=(kk*0.00001,kk),args=(Vcont,eps,p,tt,r,w,kk), method='Golden' )          \n",
    "                res= opt.minimize_scalar(negV,bounds=(kk*0.00001,kk*(1+r-p.delta)+w*eps),args=(Vcont,eps,p,tt,r,w,kk), method='bounded' )\n",
    "                vopt[ixk,ixe] =-res.fun\n",
    "                pf[ixk,ixe] =res.x\n",
    "        diff=((vopt-Vcont) ** 2).sum()        \n",
    "        if diff>p.tol:\n",
    "            Vcont=vopt\n",
    "        else:\n",
    "            print(\"convergence 1 achieved\")\n",
    "            indk=np.empty(p.numsim)\n",
    "            plt.show()\n",
    "            #once we found a solution we want to simulate:\n",
    "            #np.random.seed(56758)   \n",
    "            #print(epsseries)\n",
    "            #epsseries=markovsim()\n",
    "            #epsseries=np.int_(epsseries)\n",
    "            indk[0]=4\n",
    "            kinterp= intpl.interp1d(p.kgrid,pf[:,0], kind='linear', fill_value='extrapolate')\n",
    "            kinterp1= intpl.interp1d(p.kgrid,pf[:,1], kind='linear', fill_value='extrapolate')\n",
    "            for ixN, epsilon in enumerate(epsseries[0:p.numsim-2]):\n",
    "                #indk[ixN+1]=np.interp(indk[ixN],p.kgrid, pf[:,epsilon])\n",
    "                indkcopy=indk[ixN]*(1+r-p.delta)+w*epsilon\n",
    "                #indkcopy=indk[ixN]*(1+r-p.delta)\n",
    "                if epsilon==1:\n",
    "                    indk[ixN+1]=kinterp1(indkcopy)  \n",
    "                else:\n",
    "                    indk[ixN+1]=kinterp(indkcopy)  \n",
    "                #print(indk[ixN+1])\n",
    "                #indk[ixN]=intpl.interp1d(indk[ixN-1],p.kgrid, pf[:,epsilon], kind='cubic',fill_value='extrapolate')              \n",
    "                #indk[ixN]=np.interp(p.kgrid, pf[:,epsilon],kss)\n",
    "            kss=np.mean(indk[500:p.numsim-1])\n",
    "            #kss=np.mean(indk)\n",
    "            break\n",
    "    return vopt, pf,kss,indk,success\n",
    "\n",
    "def aiyagari(kbar,p,epsseries,u):\n",
    "    for j in range(0,p.maxiter):\n",
    "        print(\"outer loop:\")\n",
    "        print(j)\n",
    "        vopt, pf,kss,indk,success=vfi(kbar,p,epsseries,u)\n",
    "        if abs(kss-kbar)>p.tol_outer:            \n",
    "            kbar=kss\n",
    "            \n",
    "        else:\n",
    "            print(\"convergence 2 achieved\")\n",
    "            break\n",
    "    return vopt, pf,kss,indk,success"
   ]
  },
  {
   "cell_type": "code",
   "execution_count": 6,
   "metadata": {},
   "outputs": [
    {
     "name": "stdout",
     "output_type": "stream",
     "text": [
      "outer loop:\n",
      "0\n"
     ]
    },
    {
     "name": "stderr",
     "output_type": "stream",
     "text": [
      "C:\\Users\\utabo\\AppData\\Local\\Continuum\\anaconda3\\lib\\site-packages\\ipykernel_launcher.py:1: DeprecationWarning: time.clock has been deprecated in Python 3.3 and will be removed from Python 3.8: use time.perf_counter or time.process_time instead\n",
      "  \"\"\"Entry point for launching an IPython kernel.\n"
     ]
    },
    {
     "name": "stdout",
     "output_type": "stream",
     "text": [
      "convergence 1 achieved\n",
      "outer loop:\n",
      "1\n",
      "convergence 1 achieved\n",
      "outer loop:\n",
      "2\n",
      "convergence 1 achieved\n",
      "outer loop:\n",
      "3\n",
      "convergence 1 achieved\n",
      "outer loop:\n",
      "4\n",
      "convergence 1 achieved\n",
      "outer loop:\n",
      "5\n",
      "convergence 1 achieved\n",
      "outer loop:\n",
      "6\n",
      "convergence 1 achieved\n",
      "outer loop:\n",
      "7\n",
      "convergence 1 achieved\n",
      "outer loop:\n",
      "8\n",
      "convergence 1 achieved\n",
      "outer loop:\n",
      "9\n",
      "convergence 1 achieved\n",
      "outer loop:\n",
      "10\n",
      "convergence 1 achieved\n",
      "outer loop:\n",
      "11\n",
      "convergence 1 achieved\n",
      "outer loop:\n",
      "12\n",
      "convergence 1 achieved\n",
      "outer loop:\n",
      "13\n",
      "convergence 1 achieved\n",
      "outer loop:\n",
      "14\n",
      "convergence 1 achieved\n",
      "outer loop:\n",
      "15\n",
      "convergence 1 achieved\n",
      "outer loop:\n",
      "16\n",
      "convergence 1 achieved\n",
      "outer loop:\n",
      "17\n",
      "convergence 1 achieved\n",
      "outer loop:\n",
      "18\n",
      "convergence 1 achieved\n",
      "outer loop:\n",
      "19\n",
      "convergence 1 achieved\n",
      "outer loop:\n",
      "20\n",
      "convergence 1 achieved\n",
      "convergence 2 achieved\n",
      "61.0501461\n"
     ]
    },
    {
     "name": "stderr",
     "output_type": "stream",
     "text": [
      "C:\\Users\\utabo\\AppData\\Local\\Continuum\\anaconda3\\lib\\site-packages\\ipykernel_launcher.py:3: DeprecationWarning: time.clock has been deprecated in Python 3.3 and will be removed from Python 3.8: use time.perf_counter or time.process_time instead\n",
      "  This is separate from the ipykernel package so we can avoid doing imports until\n"
     ]
    }
   ],
   "source": [
    "start=time.clock()\n",
    "vopt_out, pf_out,kss_out,indk,success=aiyagari(kinit,p,epsseries,uss)\n",
    "end=time.clock()-start\n",
    "print(end)"
   ]
  },
  {
   "cell_type": "code",
   "execution_count": 7,
   "metadata": {},
   "outputs": [
    {
     "name": "stdout",
     "output_type": "stream",
     "text": [
      "steady state capial:  8.563873254270048\n",
      "interest rate:  0.08513512125371339\n",
      "interest rate:  0.10166666666666672\n",
      "coefficient of variation of cap holdings:  0.3555419024559731\n"
     ]
    }
   ],
   "source": [
    "print(\"steady state capial: \", kss_out)\n",
    "print(\"interest rate: \", p.alpha*kss_out**(p.alpha-1)*(1-uss)**(1-p.alpha))\n",
    "print(\"interest rate: \", p.alpha*kinit**(p.alpha-1)*(1-uss)**(1-p.alpha))\n",
    "print(\"coefficient of variation of cap holdings: \", np.std(indk)/np.mean(indk))"
   ]
  },
  {
   "cell_type": "code",
   "execution_count": 8,
   "metadata": {},
   "outputs": [
    {
     "data": {
      "image/png": "[encoded data removed]",
      "text/plain": [
       "<Figure size 432x288 with 1 Axes>"
      ]
     },
     "metadata": {
      "needs_background": "light"
     },
     "output_type": "display_data"
    }
   ],
   "source": [
    "plt.plot(p.kgrid,pf_out[:,0])\n",
    "plt.plot(p.kgrid,pf_out[:,1])\n",
    "plt.show()"
   ]
  },
  {
   "cell_type": "code",
   "execution_count": 9,
   "metadata": {},
   "outputs": [
    {
     "data": {
      "image/png": "[encoded data removed]",
      "text/plain": [
       "<Figure size 432x288 with 1 Axes>"
      ]
     },
     "metadata": {
      "needs_background": "light"
     },
     "output_type": "display_data"
    }
   ],
   "source": [
    "plt.plot(p.kgrid,vopt_out[:,0])\n",
    "plt.plot(p.kgrid,vopt_out[:,1])\n",
    "plt.show()"
   ]
  },
  {
   "cell_type": "code",
   "execution_count": null,
   "metadata": {},
   "outputs": [],
   "source": []
  }
 ],
 "metadata": {
  "@webio": {
   "lastCommId": null,
   "lastKernelId": null
  },
  "kernelspec": {
   "display_name": "Python 3",
   "language": "python",
   "name": "python3"
  },
  "language_info": {
   "codemirror_mode": {
    "name": "ipython",
    "version": 3
   },
   "file_extension": ".py",
   "mimetype": "text/x-python",
   "name": "python",
   "nbconvert_exporter": "python",
   "pygments_lexer": "ipython3",
   "version": "3.7.3"
  }
 },
 "nbformat": 4,
 "nbformat_minor": 2
}
