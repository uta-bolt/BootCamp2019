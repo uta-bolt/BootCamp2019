{
 "cells": [
  {
   "cell_type": "code",
   "execution_count": 1,
   "metadata": {},
   "outputs": [],
   "source": [
    "import numpy as np\n",
    "import random\n",
    "import scipy.optimize as opt\n",
    "import scipy.interpolate as intpl\n",
    "import matplotlib.pyplot as plt\n",
    "import pdb\n",
    "import sys\n",
    "from numba import jit\n",
    "sys.path.insert(0, \"C:\\\\Users\\\\utabo\\\\Documents\\\\GitHub\\\\BootCamp2019\\\\ProblemSets\\\\ECON\\\\Week 5\")\n",
    "import parameters as p\n",
    "import compileparam as compp"
   ]
  },
  {
   "cell_type": "code",
   "execution_count": 2,
   "metadata": {},
   "outputs": [
    {
     "name": "stdout",
     "output_type": "stream",
     "text": [
      "0.9500000000000008\n"
     ]
    }
   ],
   "source": [
    "#Calculate transitions:\n",
    "ee=0.95\n",
    "eu=1-ee\n",
    "uss=0.05\n",
    "uu=(uss-(1-uss)*(eu))/uss\n",
    "ue=1-uu\n",
    "print(ue)\n",
    "p.pi=np.array([[ee,eu],[ue,uu]])"
   ]
  },
  {
   "cell_type": "code",
   "execution_count": 3,
   "metadata": {},
   "outputs": [],
   "source": [
    "def euler(k,p,u):\n",
    "    r=p.alpha*k**(p.alpha-1)*(1-u)**(1-p.alpha)\n",
    "    w=(1-p.alpha)*k**p.alpha*(1-u)**(-p.alpha)\n",
    "    c=(1+r-p.delta)*k+w*(1-u)-k\n",
    "    err1=p.beta*(1+r)*(-1/c)-(-1/c)\n",
    "    return err1\n",
    "def get_SS(bvec_guess,p,uss):\n",
    "    b_ss= opt.root(euler, bvec_guess,args=(p,uss), tol = 1e-10)\n",
    "    return b_ss\n",
    "def kss():\n",
    "    k_ss = ((1/p.beta - 1 + p.delta)/p.alpha)**(1/(p.alpha-1))*(1-uss)\n",
    "    return k_ss \n",
    "                                                                           \n",
    "kinit=kss()                                                                        "
   ]
  },
  {
   "cell_type": "code",
   "execution_count": 4,
   "metadata": {},
   "outputs": [
    {
     "name": "stdout",
     "output_type": "stream",
     "text": [
      "0.0503\n"
     ]
    }
   ],
   "source": [
    "def markovsim():\n",
    "    eps=np.empty([p.numsim])\n",
    "    eps[0]=0\n",
    "    for x in range(p.numsim-1):\n",
    "        ep=np.int_(eps[x])\n",
    "        eps[x+1]= np.random.uniform(0,1) <= p.pi[ep,1]\n",
    "    return eps\n",
    "np.random.seed(123758)   \n",
    "epsseries=markovsim()\n",
    "print(np.mean(epsseries))\n",
    "epsseries=np.int_(epsseries)"
   ]
  },
  {
   "cell_type": "code",
   "execution_count": 5,
   "metadata": {},
   "outputs": [],
   "source": [
    "\n",
    "#====================================================#\n",
    "#Problem set - Tony Smith\n",
    "#====================================================#\n",
    "\n",
    "#Get interest rate\n",
    "def get_r(kbar,u,p):\n",
    "    r=p.alpha*kbar**(p.alpha-1)*(1-u)**(1-p.alpha)\n",
    "    return r\n",
    "\n",
    "#get wage rate\n",
    "def get_k(kbar,u,p):\n",
    "    w=(1-p.alpha)*kbar**p.alpha*(1-u)**(-p.alpha)\n",
    "    return w\n",
    "\n",
    "#euler equation:\n",
    "def utility(x):\n",
    "    if x>0:\n",
    "        utils=np.log(x)\n",
    "    else:\n",
    "        utils=-(10**8)\n",
    "    return utils\n",
    "\n",
    "def negV(kprime,V_t_interp0,V_t_interp1,Vcont,eps,p,tt,r,w,kk) :\n",
    "    Vprime=np.empty([2])\n",
    "    #Vprime[0,0]=np.interp(p.kgrid,Vcont[:,0], kprime) #good\n",
    "    if tt>0:\n",
    "        #pdb.set_trace()\n",
    "        Vprime[0]=V_t_interp0(kprime) #good\n",
    "        Vprime[1]=V_t_interp1(kprime) #bad \n",
    "        #Vprime[0]=np.interp( kprime,p.kgrid,Vcont[:,0]) #good\n",
    "        #Vprime[1]=np.interp(kprime,p.kgrid,Vcont[:,1])#bad \n",
    "    else:\n",
    "        Vprime=np.array([0][0])\n",
    "    c=(1+r-p.delta)*kk+w*eps-kprime\n",
    "    EV=np.sum(Vprime*p.pi[eps,:]) #expected value given transition probs\n",
    "#     print(Vprime.shape)\n",
    "#     print(p.pi.shape)\n",
    "#     print(EV.shape)\n",
    "    \n",
    "    value=-1*(utility(c)+p.beta*EV) #negative value of choosing kprime\n",
    "    return value\n",
    "#Problem that the consumer solves given kbar:\n",
    "@jit( parallel=True,cache=True)\n",
    "def vfi(kbar,p,epsseries):\n",
    "    Vcont=np.zeros([p.numptsk,2])\n",
    "    pf=np.empty([p.numptsk, 2])\n",
    "    vopt=np.empty([p.numptsk, 2])\n",
    "    success=np.empty([p.numptsk, 2])\n",
    "    r=get_r(kbar,u,p)\n",
    "    w=get_k(kbar,u,p)\n",
    "    print(r,w)\n",
    "    for tt in range(0,p.maxiter):\n",
    "        V_t_interp0 = intpl.interp1d(p.kgrid,Vcont[:,0], kind='cubic', fill_value='extrapolate')\n",
    "        V_t_interp1 = intpl.interp1d(p.kgrid,Vcont[:,1], kind='cubic', fill_value='extrapolate')\n",
    "        for ixe, eps in enumerate(p.epsgrid):\n",
    "            for ixk, kk in enumerate(p.kgrid):\n",
    "                #res= opt.minimize_scalar(negV,bracket=(kk*0.00001,kk),args=(Vcont,eps,p,tt,r,w,kk), method='Golden' )          \n",
    "                #res= opt.minimize_scalar(negV,bounds=(0.0001,kk*(1+r-p.delta)+w*eps),args=(Vcont,eps,p,tt,r,w,kk), method='bounded' )\n",
    "                #res= opt.minimize(negV,0.1*kk,args=(V_t_interp0,V_t_interp1,Vcont,eps,p,tt,r,w,kk),bounds=((0.00001,kk*(1+r-p.delta)+w*eps),) )\n",
    "                res= opt.minimize(negV,0.1*kk,args=(V_t_interp0,V_t_interp1,Vcont,eps,p,tt,r,w,kk),bounds=((0.00001,kk), ))\n",
    "                c=(1+r-p.delta)*kk+w*eps-res.x\n",
    "                if c<0:\n",
    "                    print(\"something went wrong!\")\n",
    "                vopt[ixk,ixe] =-res.fun\n",
    "                pf[ixk,ixe] =res.x\n",
    "                success[ixk,ixe] =res.success\n",
    "        diff=((vopt-Vcont) ** 2).sum()        \n",
    "        if diff>p.tol:\n",
    "            Vcont=vopt\n",
    "        else:\n",
    "            print(\"convergence 1 achieved\")\n",
    "            indk=np.empty(p.numsim)\n",
    "            #once we found a solution we want to simulate:\n",
    "            #np.random.seed(56758)   \n",
    "            #print(epsseries)\n",
    "            #epsseries=markovsim()\n",
    "            #epsseries=np.int_(epsseries)\n",
    "            indk[0]=kinit\n",
    "            for ixN, epsilon in enumerate(epsseries):\n",
    "                indk[ixN]=np.interp(indk[ixN-1],p.kgrid, pf[:,epsilon])\n",
    "                #indk[ixN]=intpl.interp1d(indk[ixN-1],p.kgrid, pf[:,epsilon], kind='cubic',fill_value='extrapolate')              \n",
    "                #indk[ixN]=np.interp(p.kgrid, pf[:,epsilon],kss)\n",
    "            kss=np.mean(indk[500:p.numsim-1])\n",
    "            break\n",
    "    return vopt, pf,kss,indk,success"
   ]
  },
  {
   "cell_type": "code",
   "execution_count": 6,
   "metadata": {},
   "outputs": [],
   "source": [
    "def aiyagari(kbar,p,epsseries):\n",
    "    for j in range(0,p.maxiter):\n",
    "        print(\"outer loop:\")\n",
    "        print(j)\n",
    "        vopt, pf,kss,indk,success=vfi(kbar,p,epsseries)\n",
    "        print(\"kss-kbar:\",abs(kss-kbar))\n",
    "        print(\"kss\",kss)\n",
    "        if abs(kss-kbar)>p.tol_outer:            \n",
    "            kbar=kss\n",
    "            \n",
    "        else:\n",
    "            print(\"convergence 2 achieved\")\n",
    "            break\n",
    "    return vopt, pf,kss,indk,success"
   ]
  },
  {
   "cell_type": "code",
   "execution_count": 7,
   "metadata": {},
   "outputs": [
    {
     "name": "stdout",
     "output_type": "stream",
     "text": [
      "outer loop:\n",
      "0\n",
      "0.10166666666666674 1.3033533628105796\n",
      "convergence 1 achieved\n",
      "kss-kbar: 6.85055785931547\n",
      "kss 5.971365406884936e-05\n",
      "outer loop:\n",
      "1\n",
      "175.93752308773114 0.0196601120774568\n",
      "convergence 1 achieved\n",
      "kss-kbar: 0.000940286345931151\n",
      "kss 0.0010000000000000005\n",
      "outer loop:\n",
      "2\n",
      "28.976478729996817 0.05422498943625139\n",
      "convergence 1 achieved\n",
      "kss-kbar: 0.0\n",
      "kss 0.0010000000000000005\n",
      "convergence 2 achieved\n"
     ]
    }
   ],
   "source": [
    "p.maxiter=30\n",
    "u=0.05\n",
    "vopt_out, pf_out,kss_out,indk,success=aiyagari(kinit,p,epsseries)\n"
   ]
  },
  {
   "cell_type": "code",
   "execution_count": 8,
   "metadata": {},
   "outputs": [
    {
     "name": "stdout",
     "output_type": "stream",
     "text": [
      "0.0010000000000000005\n",
      "4.336808689942016e-16\n"
     ]
    }
   ],
   "source": [
    "print(kss_out)\n",
    "print(np.std(indk)/np.mean(indk))"
   ]
  },
  {
   "cell_type": "code",
   "execution_count": 9,
   "metadata": {},
   "outputs": [
    {
     "data": {
      "image/png": "[encoded data removed]",
      "text/plain": [
       "<Figure size 432x288 with 1 Axes>"
      ]
     },
     "metadata": {
      "needs_background": "light"
     },
     "output_type": "display_data"
    }
   ],
   "source": [
    "plt.plot(p.kgrid,pf_out[:,0])\n",
    "plt.plot(p.kgrid,pf_out[:,1])\n",
    "plt.show()"
   ]
  },
  {
   "cell_type": "code",
   "execution_count": 10,
   "metadata": {},
   "outputs": [
    {
     "data": {
      "image/png": "[encoded data removed]",
      "text/plain": [
       "<Figure size 432x288 with 1 Axes>"
      ]
     },
     "metadata": {
      "needs_background": "light"
     },
     "output_type": "display_data"
    }
   ],
   "source": [
    "plt.plot(p.kgrid,vopt_out[:,0])\n",
    "plt.plot(p.kgrid,vopt_out[:,1])\n",
    "plt.show()"
   ]
  },
  {
   "cell_type": "code",
   "execution_count": null,
   "metadata": {},
   "outputs": [],
   "source": [
    "\n"
   ]
  },
  {
   "cell_type": "code",
   "execution_count": null,
   "metadata": {},
   "outputs": [],
   "source": []
  },
  {
   "cell_type": "code",
   "execution_count": null,
   "metadata": {},
   "outputs": [],
   "source": []
  }
 ],
 "metadata": {
  "@webio": {
   "lastCommId": null,
   "lastKernelId": null
  },
  "kernelspec": {
   "display_name": "Python 3",
   "language": "python",
   "name": "python3"
  },
  "language_info": {
   "codemirror_mode": {
    "name": "ipython",
    "version": 3
   },
   "file_extension": ".py",
   "mimetype": "text/x-python",
   "name": "python",
   "nbconvert_exporter": "python",
   "pygments_lexer": "ipython3",
   "version": "3.7.3"
  }
 },
 "nbformat": 4,
 "nbformat_minor": 2
}
