{
 "cells": [
  {
   "cell_type": "code",
   "execution_count": 1,
   "metadata": {},
   "outputs": [],
   "source": [
    "import numpy as np\n",
    "import random\n",
    "import scipy.optimize as opt\n",
    "import scipy.interpolate as intpl\n",
    "import matplotlib.pyplot as plt\n",
    "import pdb\n",
    "import sys\n",
    "\n",
    "sys.path.insert(0, \"C:\\\\Users\\\\utabo\\\\Documents\\\\GitHub\\\\BootCamp2019\\\\ProblemSets\\\\ECON\\\\Week 5\")\n",
    "import parameters as p"
   ]
  },
  {
   "cell_type": "code",
   "execution_count": 2,
   "metadata": {},
   "outputs": [
    {
     "name": "stdout",
     "output_type": "stream",
     "text": [
      "0.9500000000000008\n"
     ]
    }
   ],
   "source": [
    "#Calculate transitions:\n",
    "ee=0.95\n",
    "eu=1-ee\n",
    "uss=0.05\n",
    "uu=(uss-(1-uss)*(eu))/uss\n",
    "ue=1-uu\n",
    "print(ue)\n",
    "p.pi=np.array([[ee,eu],[ue,uu]])\n",
    "p.pi=np.array([[0.95,0.05],[0.95,0.05]])"
   ]
  },
  {
   "cell_type": "code",
   "execution_count": 44,
   "metadata": {},
   "outputs": [],
   "source": [
    "def markovsim():\n",
    "    eps=np.empty([p.numsim])\n",
    "    eps[0]=0\n",
    "    for x in range(p.numsim-1):\n",
    "        ep=np.int_(eps[x])\n",
    "        eps[x+1]= np.random.uniform(0,1) <= p.pi[ep,1]\n",
    "    return eps"
   ]
  },
  {
   "cell_type": "code",
   "execution_count": 46,
   "metadata": {},
   "outputs": [
    {
     "data": {
      "text/plain": [
       "array([0., 0., 0., 0., 0., 0., 0., 0., 0., 0., 0., 0., 0., 0., 1., 0., 0.,\n",
       "       0., 0., 1., 0., 0., 1., 0., 0., 0., 0., 0., 0., 0., 1., 0., 0., 0.,\n",
       "       0., 0., 0., 0., 0., 1., 1., 0., 0., 0., 0., 0., 0., 0., 0., 0., 0.,\n",
       "       0., 0., 0., 0., 0., 0., 0., 0., 0., 0., 0., 0., 0., 0., 0., 0., 0.,\n",
       "       0., 0., 0., 1., 0., 0., 0., 0., 0., 0., 0., 0., 0., 0., 0., 0., 1.,\n",
       "       0., 0., 0., 0., 0., 0., 0., 0., 0., 0., 0., 0., 0., 0., 0., 0., 1.,\n",
       "       0., 0., 0., 0., 0., 0., 0., 0., 0., 0., 0., 1., 0., 0., 0., 0., 0.,\n",
       "       0., 0., 0., 0., 0., 0., 0., 0., 0., 0., 0., 0., 0., 0., 0., 0., 0.,\n",
       "       0., 0., 0., 0., 0., 0., 0., 0., 0., 0., 0., 0., 0., 0., 0., 0., 1.,\n",
       "       0., 0., 0., 0., 0., 0., 0., 0., 0., 0., 0., 0., 0., 0., 0., 0., 0.,\n",
       "       0., 0., 0., 0., 0., 0., 0., 0., 0., 0., 0., 0., 0., 0., 0., 0., 0.,\n",
       "       0., 0., 0., 0., 0., 0., 0., 0., 0., 0., 0., 0., 1.])"
      ]
     },
     "execution_count": 46,
     "metadata": {},
     "output_type": "execute_result"
    }
   ],
   "source": [
    "\n"
   ]
  },
  {
   "cell_type": "code",
   "execution_count": 8,
   "metadata": {},
   "outputs": [
    {
     "name": "stdout",
     "output_type": "stream",
     "text": [
      "outer loop:\n",
      "0\n",
      "convergence 1 achieved\n",
      "9.891192662038776\n",
      "outer loop:\n",
      "1\n",
      "convergence 1 achieved\n",
      "0.2809042883169397\n",
      "outer loop:\n",
      "2\n",
      "convergence 1 achieved\n",
      "0.18933653803954087\n",
      "outer loop:\n",
      "3\n",
      "convergence 1 achieved\n",
      "0.07149701059813651\n",
      "outer loop:\n",
      "4\n",
      "convergence 1 achieved\n",
      "0.0004827106794564884\n",
      "outer loop:\n",
      "5\n",
      "convergence 1 achieved\n",
      "2.1141419921377747e-06\n",
      "convergence 2 achieved\n",
      "39.72764307634179\n",
      "0.015512607899817656\n"
     ]
    }
   ],
   "source": [
    "\n",
    "#====================================================#\n",
    "#Problem set - Tony Smith\n",
    "#====================================================#\n",
    "\n",
    "#Get interest rate\n",
    "def get_r(kbar,u,p):\n",
    "    r=p.alpha*kbar**(p.alpha-1)*(1-u)**(1-p.alpha)\n",
    "    return r\n",
    "\n",
    "#get wage rate\n",
    "def get_k(kbar,u,p):\n",
    "    w=(1-p.alpha)*kbar**p.alpha*(1-u)**(-p.alpha)\n",
    "    return w\n",
    "\n",
    "#euler equation:\n",
    "def utility(x):\n",
    "    if x>0:\n",
    "        utils=np.log(x)\n",
    "    else:\n",
    "        utils=-(10**8)\n",
    "    return utils\n",
    "\n",
    "\n",
    "def negV(kprime,Vcont,eps,p,tt,r,w,kk) :\n",
    "    Vprime=np.empty([2])\n",
    "    #Vprime[0,0]=np.interp(p.kgrid,Vcont[:,0], kprime) #good\n",
    "    if tt>0:\n",
    "        #pdb.set_trace()\n",
    "        Vprime[0]=np.interp( kprime,p.kgrid,Vcont[:,0]) #good\n",
    "        Vprime[1]=np.interp(kprime,p.kgrid,Vcont[:,1])#bad \n",
    "        #Vprime[0]=intpl.interp1d( kprime,p.kgrid,Vcont[:,0], kind='cubic',fill_value='extrapolate') #good\n",
    "        #Vprime[1]=intpl.interp1d(kprime,p.kgrid,Vcont[:,1], kind='cubic',fill_value='extrapolate')#bad \n",
    "    else:\n",
    "        Vprime=np.array([0][0])\n",
    "    c=(1+r-p.delta)*kk+w*eps-kprime\n",
    "    EV=sum(Vprime*p.pi[eps,:]) #expected value given transition probs\n",
    "#     print(Vprime.shape)\n",
    "#     print(p.pi.shape)\n",
    "#     print(EV.shape)\n",
    "    \n",
    "    value=-1*(utility(c)+p.beta*EV) #negative value of choosing kprime\n",
    "    return value\n",
    "\n",
    "#Problem that the consumer solves given kbar:\n",
    "def vfi(kbar,p):\n",
    "    Vcont=np.zeros([p.numptsk,2])\n",
    "    pf=np.empty([p.numptsk, 2])\n",
    "    vopt=np.empty([p.numptsk, 2])\n",
    "    r=get_r(kbar,u,p)\n",
    "    w=get_k(kbar,u,p)\n",
    "    for tt in range(0,p.maxiter):\n",
    "        for ixe, eps in enumerate(p.epsgrid):\n",
    "            for ixk, kk in enumerate(p.kgrid):\n",
    "                #res= opt.minimize_scalar(negV,bracket=(0.00001,1),args=(Vcont,eps,p,tt,r,w,kk), method='Golden' )          \n",
    "                res= opt.minimize_scalar(negV,bounds=(0.001, 40),args=(Vcont,eps,p,tt,r,w,kk), method='bounded' )\n",
    "                vopt[ixk,ixe] =-res.fun\n",
    "                pf[ixk,ixe] =res.x\n",
    "        diff=((vopt-Vcont) ** 2).sum()        \n",
    "        if diff>p.tol:\n",
    "            Vcont=vopt\n",
    "        else:\n",
    "            print(\"convergence 1 achieved\")\n",
    "            #print(pf)\n",
    "            #pdb.set_trace()\n",
    "            epsseries=np.zeros(p.numsim)\n",
    "            indk=np.zeros(p.numsim)\n",
    "            #once we found a solution we want to simulate:\n",
    "            np.random.seed(56758)\n",
    "            rv=np.random.uniform(0,1,p.numsim)\n",
    "            epsseries[rv<0.95]=1.0\n",
    "            \n",
    "            #print(epsseries)\n",
    "            epsseries=np.int_(epsseries)\n",
    "            #epsseries=epsseries.astype(int)\n",
    "            #for x in range(p.numsim):\n",
    "            #    epsseries[x]=random.randint(0,1)\n",
    "            indk[0]=30\n",
    "            for ixN, epsilon in enumerate(epsseries):\n",
    "                indk[ixN]=np.interp(indk[ixN-1],p.kgrid, pf[:,epsilon])\n",
    "                #indk[ixN]=intpl.interp1d(indk[ixN-1],p.kgrid, pf[:,epsilon], kind='cubic',fill_value='extrapolate')\n",
    "                \n",
    "                #indk[ixN]=np.interp(p.kgrid, pf[:,epsilon],kss)\n",
    "            kss=np.mean(indk)\n",
    "            break\n",
    "    return vopt, pf,kss,indk\n",
    "\n",
    "\n",
    "def aiyagari(kbar,p):\n",
    "    for j in range(0,p.maxiter):\n",
    "        print(\"outer loop:\")\n",
    "        print(j)\n",
    "        vopt, pf,kss,indk=vfi(kbar,p)\n",
    "        print(abs(kss-kbar))\n",
    "        if abs(kss-kbar)>p.tol_outer:\n",
    "            \n",
    "            kbar=kss\n",
    "            \n",
    "        else:\n",
    "            print(\"convergence 2 achieved\")\n",
    "            break\n",
    "    return vopt, pf,kss,indk\n",
    "\n",
    "#\n",
    "# define k grid\n",
    "\n",
    "u=0.1\n",
    "#initialize Vcont\n",
    "\n",
    "vopt_out, pf_out,kss_out,indk=aiyagari(30,p)\n",
    "print(kss_out)\n",
    "print(np.std(indk)/np.mean(indk))"
   ]
  },
  {
   "cell_type": "code",
   "execution_count": 10,
   "metadata": {},
   "outputs": [
    {
     "data": {
      "image/png": "[encoded data removed]",
      "text/plain": [
       "<Figure size 432x288 with 1 Axes>"
      ]
     },
     "metadata": {
      "needs_background": "light"
     },
     "output_type": "display_data"
    }
   ],
   "source": [
    "plt.plot(p.kgrid,pf_out[:,0])\n",
    "plt.plot(p.kgrid,pf_out[:,1])\n",
    "plt.show()"
   ]
  },
  {
   "cell_type": "code",
   "execution_count": 5,
   "metadata": {},
   "outputs": [
    {
     "data": {
      "text/plain": [
       "array([39.99999571, 39.99999571, 39.99999571, 39.99999571, 39.99999571,\n",
       "       39.99999571, 39.99999571, 39.99999571, 39.99999571, 39.99999571,\n",
       "       39.99999571, 39.99999571, 39.99999571, 39.99999571, 39.99999571,\n",
       "       39.99999571, 39.99999571, 39.99999571, 39.99999571, 39.99999571,\n",
       "       39.99999571, 39.99999571, 39.99999571, 39.99999571, 39.99999571,\n",
       "       39.99999571, 39.99999571, 39.99999571, 39.99999571, 39.99999571,\n",
       "       39.99999571, 39.99999571, 39.99999571, 39.99999571, 39.99999571,\n",
       "       39.99999571, 39.99999571, 39.99999571, 39.99999571, 39.99999571,\n",
       "       39.99999571, 39.99999571, 39.99999571, 39.99999571, 39.99999571,\n",
       "       39.99999571, 39.99999571, 39.99999571, 39.99999571, 39.99999571,\n",
       "       39.99999571, 39.99999571, 39.99999571, 39.99999571, 39.99999571,\n",
       "       39.99999571, 39.99999571, 39.99999571, 39.99999571, 39.99999571,\n",
       "       39.99999571, 39.99999571, 39.99999571, 39.99999571, 39.99999571,\n",
       "       39.99999571, 39.99999571, 39.99999571, 39.99999571, 39.99999571,\n",
       "       39.99999571, 39.99999571, 39.99999571, 39.99999571, 39.99999571,\n",
       "       39.99999571, 39.99999571, 39.99999571, 39.99999571, 13.26700003,\n",
       "       13.26700338, 13.26700076, 15.88000001, 15.88000365, 15.88000006,\n",
       "       16.48300343, 16.54932858, 16.68399798, 17.08600088, 17.16285106,\n",
       "       17.58232462, 17.68900623, 17.77186559, 18.16836979, 18.29200008,\n",
       "       18.55906824, 18.75441615, 18.94976391, 19.1451091 , 19.34045902,\n",
       "       19.53580848, 19.73115882, 19.92650762, 20.12185242, 20.31720193,\n",
       "       20.51255037, 20.70789988, 20.90324867, 21.09859347, 21.29394298,\n",
       "       21.48929143, 21.68464094, 21.87998972, 22.07533923, 22.27068769,\n",
       "       22.46603646, 22.661382  , 22.85673076, 23.05208028, 23.24742875,\n",
       "       23.44277827, 23.63812702, 23.83347181, 24.02882055, 13.26700243,\n",
       "       13.26700243, 13.26700244, 24.72399993, 24.72399993, 24.72399993,\n",
       "       24.72399993, 24.72399993, 25.60116681, 25.72900082, 25.7604738 ,\n",
       "       25.92999824, 25.93000127, 26.12350743, 26.13100246, 26.7709226 ,\n",
       "       26.93500106, 27.07293139, 27.13771744, 27.33306033, 27.40969534,\n",
       "       27.53800183, 27.70359361, 28.19509809, 28.34199963, 28.52928322,\n",
       "       28.62394471, 29.49857703, 29.54800251, 29.54800514, 29.54800252,\n",
       "       29.68498968, 29.82335019, 30.55300282, 30.60669012, 30.75399859,\n",
       "       30.77011392, 30.9549973 , 30.98714865, 31.62181574, 31.75900177,\n",
       "       31.93494971, 31.98161336, 32.16100084, 32.27061023, 32.36199982,\n",
       "       32.95240196, 33.0700563 , 33.19026987, 33.36699798, 33.48664481,\n",
       "       34.17100305, 34.17100171, 34.22540435, 34.37200438, 34.5657693 ,\n",
       "       34.69973538, 35.27376563, 35.37700255, 35.41869173, 35.57800056,\n",
       "       35.7368524 , 35.88183619, 36.02247981, 36.58299903, 36.62802509,\n",
       "       36.78399919, 36.93566837, 37.05684798, 37.21217839, 37.38699831,\n",
       "       37.84066476, 37.99000137, 38.14909753, 38.26090296, 38.40652733])"
      ]
     },
     "execution_count": 5,
     "metadata": {},
     "output_type": "execute_result"
    },
    {
     "data": {
      "image/png": "[encoded data removed]",
      "text/plain": [
       "<Figure size 432x288 with 1 Axes>"
      ]
     },
     "metadata": {
      "needs_background": "light"
     },
     "output_type": "display_data"
    }
   ],
   "source": [
    "plt.plot(p.kgrid,pf_out[:,0])\n",
    "pf_out[:,0]"
   ]
  },
  {
   "cell_type": "code",
   "execution_count": 6,
   "metadata": {},
   "outputs": [
    {
     "data": {
      "image/png": "[encoded data removed]",
      "text/plain": [
       "<Figure size 432x288 with 1 Axes>"
      ]
     },
     "metadata": {
      "needs_background": "light"
     },
     "output_type": "display_data"
    }
   ],
   "source": [
    "plt.plot(p.kgrid,vopt_out[:,0])\n",
    "plt.plot(p.kgrid,vopt_out[:,1])\n",
    "plt.show()"
   ]
  },
  {
   "cell_type": "code",
   "execution_count": null,
   "metadata": {},
   "outputs": [],
   "source": []
  }
 ],
 "metadata": {
  "@webio": {
   "lastCommId": null,
   "lastKernelId": null
  },
  "kernelspec": {
   "display_name": "Python 3",
   "language": "python",
   "name": "python3"
  },
  "language_info": {
   "codemirror_mode": {
    "name": "ipython",
    "version": 3
   },
   "file_extension": ".py",
   "mimetype": "text/x-python",
   "name": "python",
   "nbconvert_exporter": "python",
   "pygments_lexer": "ipython3",
   "version": "3.7.3"
  }
 },
 "nbformat": 4,
 "nbformat_minor": 2
}
