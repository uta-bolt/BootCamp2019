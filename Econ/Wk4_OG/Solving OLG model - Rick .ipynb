{
 "cells": [
  {
   "cell_type": "markdown",
   "metadata": {},
   "source": [
    "Rick's coding best practices: \n",
    "- Don't do computation in return line! Even though it would save me a line\n",
    "- Write doc strings,e.g.\n",
    "    '''\n",
    "    Labor market clearning\n",
    "    '''\n",
    "- Use ParamTools by PSLmodels"
   ]
  },
  {
   "cell_type": "code",
   "execution_count": 1,
   "metadata": {},
   "outputs": [],
   "source": [
    "import numpy as np\n",
    "# set parameters"
   ]
  },
  {
   "cell_type": "code",
   "execution_count": null,
   "metadata": {},
   "outputs": [],
   "source": [
    "def get_L(n1,n2,n3):\n",
    "\n",
    "    L=n1+n2+n3\n",
    "    return L \n",
    "\n",
    "def get_K(b2,b3):\n",
    "    K= b2+b3\n",
    "    return K\n",
    "\n",
    "def get_r(K,L,param):\n",
    "    alpha, A,delta=params #define parameter function\n",
    "    return r\n",
    "    \n",
    "def get_w():\n",
    "    return w\n"
   ]
  }
 ],
 "metadata": {
  "kernelspec": {
   "display_name": "Python 3",
   "language": "python",
   "name": "python3"
  },
  "language_info": {
   "codemirror_mode": {
    "name": "ipython",
    "version": 3
   },
   "file_extension": ".py",
   "mimetype": "text/x-python",
   "name": "python",
   "nbconvert_exporter": "python",
   "pygments_lexer": "ipython3",
   "version": "3.7.3"
  }
 },
 "nbformat": 4,
 "nbformat_minor": 2
}
